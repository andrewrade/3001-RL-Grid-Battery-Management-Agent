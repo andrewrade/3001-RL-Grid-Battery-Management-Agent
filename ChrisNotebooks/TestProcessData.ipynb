{
 "cells": [
  {
   "cell_type": "markdown",
   "metadata": {},
   "source": []
  },
  {
   "cell_type": "code",
   "execution_count": 1,
   "metadata": {},
   "outputs": [],
   "source": [
    "import numpy as np"
   ]
  },
  {
   "cell_type": "code",
   "execution_count": 2,
   "metadata": {},
   "outputs": [
    {
     "name": "stderr",
     "output_type": "stream",
     "text": [
      "c:\\Users\\chen5\\miniforge3\\envs\\rl_env2\\lib\\site-packages\\pandas\\core\\computation\\expressions.py:21: UserWarning: Pandas requires version '2.8.4' or newer of 'numexpr' (version '2.7.3' currently installed).\n",
      "  from pandas.core.computation.check import NUMEXPR_INSTALLED\n"
     ]
    },
    {
     "name": "stdout",
     "output_type": "stream",
     "text": [
      "                                                   RT_LMP  DA_LMP\n",
      "MARKET_DAY NODE          TYPE    VALUE HourEnding                \n",
      "2020-10-01 AEP.PSGC1.AMP Gennode LMP   1            10.02   14.33\n",
      "                                       2            12.51   13.09\n",
      "                                       3            12.79   12.96\n",
      "                                       4            12.53   13.62\n",
      "                                       5            13.43   14.49\n",
      "...                                                   ...     ...\n",
      "2024-03-31 AEP.PSGC1.AMP Gennode LMP   20           21.35   26.38\n",
      "                                       21           20.99   25.07\n",
      "                                       22           13.76   21.15\n",
      "                                       23           14.66   19.03\n",
      "                                       24           13.74   19.63\n",
      "\n",
      "[30672 rows x 2 columns]\n"
     ]
    },
    {
     "name": "stderr",
     "output_type": "stream",
     "text": [
      "C:\\Users\\chen5\\AppData\\Local\\Temp\\ipykernel_14900\\2558073340.py:1: DeprecationWarning: \n",
      "Pyarrow will become a required dependency of pandas in the next major release of pandas (pandas 3.0),\n",
      "(to allow more performant data types, such as the Arrow string type, and better interoperability with other libraries)\n",
      "but was not found to be installed on your system.\n",
      "If this would cause problems for you,\n",
      "please provide us feedback at https://github.com/pandas-dev/pandas/issues/54466\n",
      "        \n",
      "  import pandas as pd\n"
     ]
    }
   ],
   "source": [
    "import pandas as pd\n",
    "\n",
    "# Specify the path to the HDF5 file\n",
    "input_file = \"AEP_PSGC1_AMP_dart_Oct20.h5\"  # Change this to the path of your HDF5 file\n",
    "\n",
    "# Load data from HDF5 file\n",
    "loaded_data = pd.read_hdf(input_file, key=\"data\")\n",
    "\n",
    "# Display the loaded data\n",
    "print(loaded_data)\n"
   ]
  },
  {
   "cell_type": "code",
   "execution_count": 3,
   "metadata": {},
   "outputs": [],
   "source": [
    "df_AEP_PSGC1_AMP = loaded_data"
   ]
  },
  {
   "cell_type": "code",
   "execution_count": 4,
   "metadata": {},
   "outputs": [],
   "source": [
    "from gym_power_trading.envs import PowerTradingEnv"
   ]
  },
  {
   "cell_type": "code",
   "execution_count": 5,
   "metadata": {},
   "outputs": [],
   "source": [
    "from gym_power_trading.envs import battery\n"
   ]
  },
  {
   "cell_type": "code",
   "execution_count": 6,
   "metadata": {},
   "outputs": [],
   "source": [
    "env = PowerTradingEnv(df=df_AEP_PSGC1_AMP, window_size=24, frame_bound=(25, 3000+25))"
   ]
  },
  {
   "cell_type": "code",
   "execution_count": 7,
   "metadata": {},
   "outputs": [],
   "source": [
    "import numpy as np\n",
    "import pandas as pd\n",
    "import matplotlib.pyplot as plt\n",
    "from pathlib import Path\n",
    "from tqdm import tqdm\n"
   ]
  },
  {
   "cell_type": "code",
   "execution_count": 10,
   "metadata": {},
   "outputs": [
    {
     "name": "stderr",
     "output_type": "stream",
     "text": [
      "100%|██████████| 100/100 [00:00<00:00, 9628.58it/s]"
     ]
    },
    {
     "name": "stdout",
     "output_type": "stream",
     "text": [
      "2\n",
      "{'total_reward': 0.9999992370605462, 'total_profit': 0.0, 'position': <Actions.Charge: 2>, 'battery_charge': 20}\n",
      "1\n",
      "{'total_reward': 56.799994659423845, 'total_profit': 55.52099544525148, 'position': <Actions.Discharge: 1>, 'battery_charge': 0}\n",
      "2\n",
      "{'total_reward': 58.019994659423844, 'total_profit': 55.52099544525148, 'position': <Actions.Charge: 2>, 'battery_charge': 20}\n",
      "2\n",
      "{'total_reward': 60.56999412536622, 'total_profit': 55.52099544525148, 'position': <Actions.Charge: 2>, 'battery_charge': 40}\n",
      "2\n",
      "{'total_reward': 60.519993591308605, 'total_profit': 55.52099544525148, 'position': <Actions.Charge: 2>, 'battery_charge': 60}\n",
      "1\n",
      "{'total_reward': 566.9199752807617, 'total_profit': 559.3889772262573, 'position': <Actions.Discharge: 1>, 'battery_charge': 40}\n",
      "0\n",
      "{'total_reward': 517.1199676513672, 'total_profit': 559.3889772262573, 'position': <Actions.Discharge: 1>, 'battery_charge': 20}\n",
      "0\n",
      "{'total_reward': 458.71995391845707, 'total_profit': 559.3889772262573, 'position': <Actions.Discharge: 1>, 'battery_charge': 0}\n",
      "0\n",
      "{'total_reward': 458.71995391845707, 'total_profit': 559.3889772262573, 'position': <Actions.Discharge: 1>, 'battery_charge': 0.0}\n",
      "1\n",
      "{'total_reward': 458.71995391845707, 'total_profit': 559.3889772262573, 'position': <Actions.Discharge: 1>, 'battery_charge': 0.0}\n",
      "2\n",
      "{'total_reward': 459.79995323181157, 'total_profit': 559.3889772262573, 'position': <Actions.Charge: 2>, 'battery_charge': 20.0}\n",
      "0\n",
      "{'total_reward': 526.1999593353272, 'total_profit': 559.3889772262573, 'position': <Actions.Discharge: 1>, 'battery_charge': 0.0}\n",
      "1\n",
      "{'total_reward': 526.1999593353272, 'total_profit': 559.3889772262573, 'position': <Actions.Discharge: 1>, 'battery_charge': 0.0}\n",
      "2\n",
      "{'total_reward': 527.2299600982667, 'total_profit': 559.3889772262573, 'position': <Actions.Charge: 2>, 'battery_charge': 20.0}\n",
      "2\n",
      "{'total_reward': 528.3099595642091, 'total_profit': 559.3889772262573, 'position': <Actions.Charge: 2>, 'battery_charge': 40.0}\n",
      "0\n",
      "{'total_reward': 516.7099702453614, 'total_profit': 559.3889772262573, 'position': <Actions.Discharge: 1>, 'battery_charge': 20.0}\n",
      "1\n",
      "{'total_reward': 530.7099565124513, 'total_profit': 573.3189635620117, 'position': <Actions.Discharge: 1>, 'battery_charge': 0.0}\n",
      "2\n",
      "{'total_reward': 531.7199556732179, 'total_profit': 573.3189635620117, 'position': <Actions.Charge: 2>, 'battery_charge': 20.0}\n",
      "1\n",
      "{'total_reward': 496.3199678802492, 'total_profit': 538.0959757080078, 'position': <Actions.Discharge: 1>, 'battery_charge': 0.0}\n",
      "0\n",
      "{'total_reward': 496.3199678802492, 'total_profit': 538.0959757080078, 'position': <Actions.Discharge: 1>, 'battery_charge': 0.0}\n",
      "2\n",
      "{'total_reward': 497.2499670410158, 'total_profit': 538.0959757080078, 'position': <Actions.Charge: 2>, 'battery_charge': 20.0}\n",
      "0\n",
      "{'total_reward': 486.0499624633791, 'total_profit': 538.0959757080078, 'position': <Actions.Discharge: 1>, 'battery_charge': 0.0}\n",
      "2\n",
      "{'total_reward': 486.8899632263185, 'total_profit': 538.0959757080078, 'position': <Actions.Charge: 2>, 'battery_charge': 20.0}\n",
      "2\n",
      "{'total_reward': 487.83996330261243, 'total_profit': 538.0959757080078, 'position': <Actions.Charge: 2>, 'battery_charge': 40.0}\n",
      "2\n",
      "{'total_reward': 486.6899630737306, 'total_profit': 538.0959757080078, 'position': <Actions.Charge: 2>, 'battery_charge': 60.0}\n",
      "2\n",
      "{'total_reward': 484.099962539673, 'total_profit': 538.0959757080078, 'position': <Actions.Charge: 2>, 'battery_charge': 80.0}\n",
      "0\n",
      "{'total_reward': 536.8999579620363, 'total_profit': 538.0959757080078, 'position': <Actions.Discharge: 1>, 'battery_charge': 60.0}\n",
      "0\n",
      "{'total_reward': 508.4999640655519, 'total_profit': 538.0959757080078, 'position': <Actions.Discharge: 1>, 'battery_charge': 40.0}\n",
      "0\n",
      "{'total_reward': 498.29996711730973, 'total_profit': 538.0959757080078, 'position': <Actions.Discharge: 1>, 'battery_charge': 20.0}\n",
      "1\n",
      "{'total_reward': 729.2999594879152, 'total_profit': 767.9409681167602, 'position': <Actions.Discharge: 1>, 'battery_charge': 0.0}\n",
      "2\n",
      "{'total_reward': 730.2599594116213, 'total_profit': 767.9409681167602, 'position': <Actions.Charge: 2>, 'battery_charge': 20.0}\n",
      "1\n",
      "{'total_reward': 801.8599411010744, 'total_profit': 839.1829498977661, 'position': <Actions.Discharge: 1>, 'battery_charge': 0.0}\n",
      "2\n",
      "{'total_reward': 802.8999414062502, 'total_profit': 839.1829498977661, 'position': <Actions.Charge: 2>, 'battery_charge': 20.0}\n",
      "0\n",
      "{'total_reward': 883.0999581909182, 'total_profit': 839.1829498977661, 'position': <Actions.Discharge: 1>, 'battery_charge': 0.0}\n",
      "2\n",
      "{'total_reward': 884.0499586486818, 'total_profit': 839.1829498977661, 'position': <Actions.Charge: 2>, 'battery_charge': 20.0}\n",
      "0\n",
      "{'total_reward': 944.6499403381349, 'total_profit': 839.1829498977661, 'position': <Actions.Discharge: 1>, 'battery_charge': 0.0}\n",
      "0\n",
      "{'total_reward': 944.6499403381349, 'total_profit': 839.1829498977661, 'position': <Actions.Discharge: 1>, 'battery_charge': 0.0}\n",
      "2\n",
      "{'total_reward': 945.6499403381349, 'total_profit': 839.1829498977661, 'position': <Actions.Charge: 2>, 'battery_charge': 20.0}\n",
      "1\n",
      "{'total_reward': 1054.649955596924, 'total_profit': 947.6379650802612, 'position': <Actions.Discharge: 1>, 'battery_charge': 0.0}\n",
      "1\n",
      "{'total_reward': 1054.649955596924, 'total_profit': 947.6379650802612, 'position': <Actions.Discharge: 1>, 'battery_charge': 0.0}\n",
      "2\n",
      "{'total_reward': 1055.649955596924, 'total_profit': 947.6379650802612, 'position': <Actions.Charge: 2>, 'battery_charge': 20.0}\n",
      "1\n",
      "{'total_reward': 1032.4499586486818, 'total_profit': 924.5539681167602, 'position': <Actions.Discharge: 1>, 'battery_charge': 0.0}\n",
      "1\n",
      "{'total_reward': 1032.4499586486818, 'total_profit': 924.5539681167602, 'position': <Actions.Discharge: 1>, 'battery_charge': 0.0}\n",
      "0\n",
      "{'total_reward': 1032.4499586486818, 'total_profit': 924.5539681167602, 'position': <Actions.Discharge: 1>, 'battery_charge': 0.0}\n",
      "1\n",
      "{'total_reward': 1032.4499586486818, 'total_profit': 924.5539681167602, 'position': <Actions.Discharge: 1>, 'battery_charge': 0.0}\n",
      "2\n",
      "{'total_reward': 1033.9199581909181, 'total_profit': 924.5539681167602, 'position': <Actions.Charge: 2>, 'battery_charge': 20.0}\n",
      "1\n",
      "{'total_reward': 719.9199574279787, 'total_profit': 612.1239673576355, 'position': <Actions.Discharge: 1>, 'battery_charge': 0.0}\n",
      "2\n",
      "{'total_reward': 720.6699575042727, 'total_profit': 612.1239673576355, 'position': <Actions.Charge: 2>, 'battery_charge': 20.0}\n",
      "0\n",
      "{'total_reward': 769.2699620819094, 'total_profit': 612.1239673576355, 'position': <Actions.Discharge: 1>, 'battery_charge': 0.0}\n",
      "2\n",
      "{'total_reward': 770.119961242676, 'total_profit': 612.1239673576355, 'position': <Actions.Charge: 2>, 'battery_charge': 20.0}\n",
      "1\n",
      "{'total_reward': 724.5199528503421, 'total_profit': 566.7519590072632, 'position': <Actions.Discharge: 1>, 'battery_charge': 0.0}\n",
      "1\n",
      "{'total_reward': 724.5199528503421, 'total_profit': 566.7519590072632, 'position': <Actions.Discharge: 1>, 'battery_charge': 0.0}\n",
      "0\n",
      "{'total_reward': 724.5199528503421, 'total_profit': 566.7519590072632, 'position': <Actions.Discharge: 1>, 'battery_charge': 0.0}\n",
      "2\n",
      "{'total_reward': 725.5699520874026, 'total_profit': 566.7519590072632, 'position': <Actions.Charge: 2>, 'battery_charge': 20.0}\n",
      "0\n",
      "{'total_reward': 625.5699520874026, 'total_profit': 566.7519590072632, 'position': <Actions.Discharge: 1>, 'battery_charge': 0.0}\n",
      "2\n",
      "{'total_reward': 626.559952850342, 'total_profit': 566.7519590072632, 'position': <Actions.Charge: 2>, 'battery_charge': 20.0}\n",
      "2\n",
      "{'total_reward': 629.6299530029299, 'total_profit': 566.7519590072632, 'position': <Actions.Charge: 2>, 'battery_charge': 40.0}\n",
      "1\n",
      "{'total_reward': 593.6299591064455, 'total_profit': 530.9319650802612, 'position': <Actions.Discharge: 1>, 'battery_charge': 20.0}\n",
      "1\n",
      "{'total_reward': 529.8299583435061, 'total_profit': 467.45096432113644, 'position': <Actions.Discharge: 1>, 'battery_charge': 0.0}\n",
      "0\n",
      "{'total_reward': 529.8299583435061, 'total_profit': 467.45096432113644, 'position': <Actions.Discharge: 1>, 'battery_charge': 0.0}\n",
      "1\n",
      "{'total_reward': 529.8299583435061, 'total_profit': 467.45096432113644, 'position': <Actions.Discharge: 1>, 'battery_charge': 0.0}\n",
      "0\n",
      "{'total_reward': 529.8299583435061, 'total_profit': 467.45096432113644, 'position': <Actions.Discharge: 1>, 'battery_charge': 0.0}\n",
      "2\n",
      "{'total_reward': 530.6199587631228, 'total_profit': 467.45096432113644, 'position': <Actions.Charge: 2>, 'battery_charge': 20.0}\n",
      "1\n",
      "{'total_reward': 529.8199503707888, 'total_profit': 466.6549559707641, 'position': <Actions.Discharge: 1>, 'battery_charge': 0.0}\n",
      "1\n",
      "{'total_reward': 529.8199503707888, 'total_profit': 466.6549559707641, 'position': <Actions.Discharge: 1>, 'battery_charge': 0.0}\n",
      "0\n",
      "{'total_reward': 529.8199503707888, 'total_profit': 466.6549559707641, 'position': <Actions.Discharge: 1>, 'battery_charge': 0.0}\n",
      "2\n",
      "{'total_reward': 530.6699509048464, 'total_profit': 466.6549559707641, 'position': <Actions.Charge: 2>, 'battery_charge': 20.0}\n",
      "0\n",
      "{'total_reward': 397.26994632720965, 'total_profit': 466.6549559707641, 'position': <Actions.Discharge: 1>, 'battery_charge': 0.0}\n",
      "0\n",
      "{'total_reward': 397.26994632720965, 'total_profit': 466.6549559707641, 'position': <Actions.Discharge: 1>, 'battery_charge': 0.0}\n",
      "2\n",
      "{'total_reward': 397.8899461364748, 'total_profit': 466.6549559707641, 'position': <Actions.Charge: 2>, 'battery_charge': 20.0}\n",
      "1\n",
      "{'total_reward': 381.0899446105959, 'total_profit': 449.93895445251457, 'position': <Actions.Discharge: 1>, 'battery_charge': 0.0}\n",
      "2\n",
      "{'total_reward': 381.68994445800803, 'total_profit': 449.93895445251457, 'position': <Actions.Charge: 2>, 'battery_charge': 20.0}\n",
      "0\n",
      "{'total_reward': 389.68994750976583, 'total_profit': 449.93895445251457, 'position': <Actions.Discharge: 1>, 'battery_charge': 0.0}\n",
      "0\n",
      "{'total_reward': 389.68994750976583, 'total_profit': 449.93895445251457, 'position': <Actions.Discharge: 1>, 'battery_charge': 0.0}\n",
      "2\n",
      "{'total_reward': 390.3699476623537, 'total_profit': 449.93895445251457, 'position': <Actions.Charge: 2>, 'battery_charge': 20.0}\n",
      "0\n",
      "{'total_reward': 1139.5699324035645, 'total_profit': 449.93895445251457, 'position': <Actions.Discharge: 1>, 'battery_charge': 0.0}\n",
      "1\n",
      "{'total_reward': 1139.5699324035645, 'total_profit': 449.93895445251457, 'position': <Actions.Discharge: 1>, 'battery_charge': 0.0}\n",
      "2\n",
      "{'total_reward': 1141.5199328613282, 'total_profit': 449.93895445251457, 'position': <Actions.Charge: 2>, 'battery_charge': 20.0}\n",
      "0\n",
      "{'total_reward': 803.5199465942384, 'total_profit': 449.93895445251457, 'position': <Actions.Discharge: 1>, 'battery_charge': 0.0}\n",
      "2\n",
      "{'total_reward': 804.6999469757081, 'total_profit': 449.93895445251457, 'position': <Actions.Charge: 2>, 'battery_charge': 20.0}\n",
      "0\n",
      "{'total_reward': 728.299951553345, 'total_profit': 449.93895445251457, 'position': <Actions.Discharge: 1>, 'battery_charge': 0.0}\n",
      "0\n",
      "{'total_reward': 728.299951553345, 'total_profit': 449.93895445251457, 'position': <Actions.Discharge: 1>, 'battery_charge': 0.0}\n",
      "1\n",
      "{'total_reward': 728.299951553345, 'total_profit': 449.93895445251457, 'position': <Actions.Discharge: 1>, 'battery_charge': 0.0}\n",
      "2\n",
      "{'total_reward': 729.3099508666994, 'total_profit': 449.93895445251457, 'position': <Actions.Charge: 2>, 'battery_charge': 20.0}\n",
      "1\n",
      "{'total_reward': 720.9099676513674, 'total_profit': 441.5809711532592, 'position': <Actions.Discharge: 1>, 'battery_charge': 0.0}\n",
      "2\n",
      "{'total_reward': 722.8599664306643, 'total_profit': 441.5809711532592, 'position': <Actions.Charge: 2>, 'battery_charge': 20.0}\n",
      "1\n",
      "{'total_reward': 631.8599450683596, 'total_profit': 351.03594989776605, 'position': <Actions.Discharge: 1>, 'battery_charge': 0.0}\n",
      "1\n",
      "{'total_reward': 631.8599450683596, 'total_profit': 351.03594989776605, 'position': <Actions.Discharge: 1>, 'battery_charge': 0.0}\n",
      "0\n",
      "{'total_reward': 631.8599450683596, 'total_profit': 351.03594989776605, 'position': <Actions.Discharge: 1>, 'battery_charge': 0.0}\n",
      "1\n",
      "{'total_reward': 631.8599450683596, 'total_profit': 351.03594989776605, 'position': <Actions.Discharge: 1>, 'battery_charge': 0.0}\n",
      "1\n",
      "{'total_reward': 631.8599450683596, 'total_profit': 351.03594989776605, 'position': <Actions.Discharge: 1>, 'battery_charge': 0.0}\n",
      "0\n",
      "{'total_reward': 631.8599450683596, 'total_profit': 351.03594989776605, 'position': <Actions.Discharge: 1>, 'battery_charge': 0.0}\n",
      "1\n",
      "{'total_reward': 631.8599450683596, 'total_profit': 351.03594989776605, 'position': <Actions.Discharge: 1>, 'battery_charge': 0.0}\n",
      "0\n",
      "{'total_reward': 631.8599450683596, 'total_profit': 351.03594989776605, 'position': <Actions.Discharge: 1>, 'battery_charge': 0.0}\n",
      "1\n",
      "{'total_reward': 631.8599450683596, 'total_profit': 351.03594989776605, 'position': <Actions.Discharge: 1>, 'battery_charge': 0.0}\n",
      "0\n",
      "{'total_reward': 631.8599450683596, 'total_profit': 351.03594989776605, 'position': <Actions.Discharge: 1>, 'battery_charge': 0.0}\n",
      "2\n",
      "{'total_reward': 632.3399452209475, 'total_profit': 351.03594989776605, 'position': <Actions.Charge: 2>, 'battery_charge': 20.0}\n",
      "1\n",
      "{'total_reward': 662.7399421691896, 'total_profit': 381.283946861267, 'position': <Actions.Discharge: 1>, 'battery_charge': 0.0}\n",
      "0\n",
      "{'total_reward': 662.7399421691896, 'total_profit': 381.283946861267, 'position': <Actions.Discharge: 1>, 'battery_charge': 0.0}\n",
      "0\n",
      "{'total_reward': 662.7399421691896, 'total_profit': 381.283946861267, 'position': <Actions.Discharge: 1>, 'battery_charge': 0.0}\n"
     ]
    },
    {
     "name": "stderr",
     "output_type": "stream",
     "text": [
      "\n"
     ]
    }
   ],
   "source": [
    "obs = env.reset()\n",
    "for _ in tqdm(range(100)):\n",
    "    action = env.action_space.sample()\n",
    "    print(action)\n",
    "    obs, reward, done, truncated, info = env.step(action)\n",
    "    print(info)\n",
    "    if truncated:\n",
    "        obs = env.reset()"
   ]
  },
  {
   "cell_type": "code",
   "execution_count": null,
   "metadata": {},
   "outputs": [],
   "source": [
    "from stable_baselines3 import DQN, PPO\n",
    "from stable_baselines3.common.env_util import make_vec_env\n",
    "from stable_baselines3.common.env_checker import check_env"
   ]
  }
 ],
 "metadata": {
  "kernelspec": {
   "display_name": "Python 3",
   "language": "python",
   "name": "python3"
  },
  "language_info": {
   "codemirror_mode": {
    "name": "ipython",
    "version": 3
   },
   "file_extension": ".py",
   "mimetype": "text/x-python",
   "name": "python",
   "nbconvert_exporter": "python",
   "pygments_lexer": "ipython3",
   "version": "3.9.18"
  }
 },
 "nbformat": 4,
 "nbformat_minor": 2
}
