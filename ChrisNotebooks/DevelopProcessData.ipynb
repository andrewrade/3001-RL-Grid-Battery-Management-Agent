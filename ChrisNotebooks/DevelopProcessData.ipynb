{
 "cells": [
  {
   "cell_type": "markdown",
   "metadata": {},
   "source": [
    "Develop process data function that takes in dataframe"
   ]
  },
  {
   "cell_type": "code",
   "execution_count": 8,
   "metadata": {},
   "outputs": [],
   "source": [
    "import numpy as np"
   ]
  },
  {
   "cell_type": "code",
   "execution_count": 3,
   "metadata": {},
   "outputs": [],
   "source": [
    "# Original\n",
    "def _process_data(self): # Scale features between -1 / 1\n",
    "    prices = self.df.loc[:, 'Close'].to_numpy()\n",
    "    #prices[self.frame_bound[0] - self.window_size]  # validate index (TODO: Improve validation)\n",
    "    #prices = prices[self.frame_bound[0]-self.window_size:self.frame_bound[1]]\n",
    "    diff = np.insert(np.diff(prices), 0, 0)\n",
    "    signal_features = np.column_stack((prices, diff))\n",
    "\n",
    "    return prices.astype(np.float32), signal_features.astype(np.float32)\n"
   ]
  },
  {
   "cell_type": "code",
   "execution_count": null,
   "metadata": {},
   "outputs": [],
   "source": [
    "# for simple case\n",
    "def _process_data(self):\n",
    "    start = self.frame_bound[0] - self.window_size\n",
    "    end = self.frame_bound[1]\n",
    "    prices = self.df.loc[:, 'HE'].to_numpy()[start:end]\n",
    "    signal_features = self.df.loc[:, ['HE']].to_numpy()[start:end] # only has HE price\n",
    "    return prices, signal_features\n"
   ]
  },
  {
   "cell_type": "code",
   "execution_count": null,
   "metadata": {},
   "outputs": [],
   "source": [
    "# https://github.com/AminHP/gym-anytrading\n",
    "def my_process_data(env):\n",
    "    start = env.frame_bound[0] - env.window_size\n",
    "    end = env.frame_bound[1]\n",
    "    prices = env.df.loc[:, 'Low'].to_numpy()[start:end]\n",
    "    signal_features = env.df.loc[:, ['Close', 'Open', 'High', 'Low']].to_numpy()[start:end]\n",
    "    return prices, signal_features\n"
   ]
  },
  {
   "cell_type": "code",
   "execution_count": 1,
   "metadata": {},
   "outputs": [
    {
     "name": "stderr",
     "output_type": "stream",
     "text": [
      "c:\\Users\\chen5\\miniforge3\\envs\\rl_env2\\lib\\site-packages\\pandas\\core\\computation\\expressions.py:21: UserWarning: Pandas requires version '2.8.4' or newer of 'numexpr' (version '2.7.3' currently installed).\n",
      "  from pandas.core.computation.check import NUMEXPR_INSTALLED\n"
     ]
    },
    {
     "name": "stdout",
     "output_type": "stream",
     "text": [
      "                                                   RT_LMP  DA_LMP\n",
      "MARKET_DAY NODE          TYPE    VALUE HourEnding                \n",
      "2020-10-01 AEP.PSGC1.AMP Gennode LMP   1            10.02   14.33\n",
      "                                       2            12.51   13.09\n",
      "                                       3            12.79   12.96\n",
      "                                       4            12.53   13.62\n",
      "                                       5            13.43   14.49\n",
      "...                                                   ...     ...\n",
      "2024-03-31 AEP.PSGC1.AMP Gennode LMP   20           21.35   26.38\n",
      "                                       21           20.99   25.07\n",
      "                                       22           13.76   21.15\n",
      "                                       23           14.66   19.03\n",
      "                                       24           13.74   19.63\n",
      "\n",
      "[30672 rows x 2 columns]\n"
     ]
    },
    {
     "name": "stderr",
     "output_type": "stream",
     "text": [
      "C:\\Users\\chen5\\AppData\\Local\\Temp\\ipykernel_16232\\2558073340.py:1: DeprecationWarning: \n",
      "Pyarrow will become a required dependency of pandas in the next major release of pandas (pandas 3.0),\n",
      "(to allow more performant data types, such as the Arrow string type, and better interoperability with other libraries)\n",
      "but was not found to be installed on your system.\n",
      "If this would cause problems for you,\n",
      "please provide us feedback at https://github.com/pandas-dev/pandas/issues/54466\n",
      "        \n",
      "  import pandas as pd\n"
     ]
    }
   ],
   "source": [
    "import pandas as pd\n",
    "\n",
    "# Specify the path to the HDF5 file\n",
    "input_file = \"AEP_PSGC1_AMP_dart_Oct20.h5\"  # Change this to the path of your HDF5 file\n",
    "\n",
    "# Load data from HDF5 file\n",
    "loaded_data = pd.read_hdf(input_file, key=\"data\")\n",
    "\n",
    "# Display the loaded data\n",
    "print(loaded_data)\n"
   ]
  },
  {
   "cell_type": "code",
   "execution_count": 4,
   "metadata": {},
   "outputs": [],
   "source": [
    "df_AEP_PSGC1_AMP = loaded_data"
   ]
  },
  {
   "cell_type": "code",
   "execution_count": 46,
   "metadata": {},
   "outputs": [
    {
     "data": {
      "text/html": [
       "<div>\n",
       "<style scoped>\n",
       "    .dataframe tbody tr th:only-of-type {\n",
       "        vertical-align: middle;\n",
       "    }\n",
       "\n",
       "    .dataframe tbody tr th {\n",
       "        vertical-align: top;\n",
       "    }\n",
       "\n",
       "    .dataframe thead th {\n",
       "        text-align: right;\n",
       "    }\n",
       "</style>\n",
       "<table border=\"1\" class=\"dataframe\">\n",
       "  <thead>\n",
       "    <tr style=\"text-align: right;\">\n",
       "      <th></th>\n",
       "      <th></th>\n",
       "      <th></th>\n",
       "      <th></th>\n",
       "      <th></th>\n",
       "      <th>RT_LMP</th>\n",
       "      <th>DA_LMP</th>\n",
       "    </tr>\n",
       "    <tr>\n",
       "      <th>MARKET_DAY</th>\n",
       "      <th>NODE</th>\n",
       "      <th>TYPE</th>\n",
       "      <th>VALUE</th>\n",
       "      <th>HourEnding</th>\n",
       "      <th></th>\n",
       "      <th></th>\n",
       "    </tr>\n",
       "  </thead>\n",
       "  <tbody>\n",
       "    <tr>\n",
       "      <th rowspan=\"5\" valign=\"top\">2020-10-01</th>\n",
       "      <th rowspan=\"5\" valign=\"top\">AEP.PSGC1.AMP</th>\n",
       "      <th rowspan=\"5\" valign=\"top\">Gennode</th>\n",
       "      <th rowspan=\"5\" valign=\"top\">LMP</th>\n",
       "      <th>1</th>\n",
       "      <td>10.02</td>\n",
       "      <td>14.33</td>\n",
       "    </tr>\n",
       "    <tr>\n",
       "      <th>2</th>\n",
       "      <td>12.51</td>\n",
       "      <td>13.09</td>\n",
       "    </tr>\n",
       "    <tr>\n",
       "      <th>3</th>\n",
       "      <td>12.79</td>\n",
       "      <td>12.96</td>\n",
       "    </tr>\n",
       "    <tr>\n",
       "      <th>4</th>\n",
       "      <td>12.53</td>\n",
       "      <td>13.62</td>\n",
       "    </tr>\n",
       "    <tr>\n",
       "      <th>5</th>\n",
       "      <td>13.43</td>\n",
       "      <td>14.49</td>\n",
       "    </tr>\n",
       "    <tr>\n",
       "      <th>...</th>\n",
       "      <th>...</th>\n",
       "      <th>...</th>\n",
       "      <th>...</th>\n",
       "      <th>...</th>\n",
       "      <td>...</td>\n",
       "      <td>...</td>\n",
       "    </tr>\n",
       "    <tr>\n",
       "      <th rowspan=\"5\" valign=\"top\">2024-03-31</th>\n",
       "      <th rowspan=\"5\" valign=\"top\">AEP.PSGC1.AMP</th>\n",
       "      <th rowspan=\"5\" valign=\"top\">Gennode</th>\n",
       "      <th rowspan=\"5\" valign=\"top\">LMP</th>\n",
       "      <th>20</th>\n",
       "      <td>21.35</td>\n",
       "      <td>26.38</td>\n",
       "    </tr>\n",
       "    <tr>\n",
       "      <th>21</th>\n",
       "      <td>20.99</td>\n",
       "      <td>25.07</td>\n",
       "    </tr>\n",
       "    <tr>\n",
       "      <th>22</th>\n",
       "      <td>13.76</td>\n",
       "      <td>21.15</td>\n",
       "    </tr>\n",
       "    <tr>\n",
       "      <th>23</th>\n",
       "      <td>14.66</td>\n",
       "      <td>19.03</td>\n",
       "    </tr>\n",
       "    <tr>\n",
       "      <th>24</th>\n",
       "      <td>13.74</td>\n",
       "      <td>19.63</td>\n",
       "    </tr>\n",
       "  </tbody>\n",
       "</table>\n",
       "<p>30672 rows × 2 columns</p>\n",
       "</div>"
      ],
      "text/plain": [
       "                                                   RT_LMP  DA_LMP\n",
       "MARKET_DAY NODE          TYPE    VALUE HourEnding                \n",
       "2020-10-01 AEP.PSGC1.AMP Gennode LMP   1            10.02   14.33\n",
       "                                       2            12.51   13.09\n",
       "                                       3            12.79   12.96\n",
       "                                       4            12.53   13.62\n",
       "                                       5            13.43   14.49\n",
       "...                                                   ...     ...\n",
       "2024-03-31 AEP.PSGC1.AMP Gennode LMP   20           21.35   26.38\n",
       "                                       21           20.99   25.07\n",
       "                                       22           13.76   21.15\n",
       "                                       23           14.66   19.03\n",
       "                                       24           13.74   19.63\n",
       "\n",
       "[30672 rows x 2 columns]"
      ]
     },
     "execution_count": 46,
     "metadata": {},
     "output_type": "execute_result"
    }
   ],
   "source": [
    "loaded_data"
   ]
  },
  {
   "cell_type": "code",
   "execution_count": null,
   "metadata": {},
   "outputs": [],
   "source": [
    "# New\n",
    "def _process_data(self):\n",
    "    start = self.frame_bound[0] - self.window_size\n",
    "    end = self.frame_bound[1]\n",
    "    prices = self.df.loc[:, 'RT_LMP'].to_numpy()[start:end]\n",
    "    # See the Day Ahead price\"forecast\" for 10 hours ahead \n",
    "    # (DA LMPs are released at 2pm and apply to the 24 hours of the next day, \n",
    "    #   so 10 future hours are always available)\n",
    "    da_prices = self.df.loc[:, 'DA_LMP'].to_numpy()[start+10:end+10]\n",
    "\n",
    "    diff = np.insert(np.diff(prices), 0, 0)\n",
    "    signal_features = np.column_stack((prices, diff, da_prices))\n",
    "    return prices.astype(np.float32), signal_features.astype(np.float32)\n"
   ]
  },
  {
   "cell_type": "code",
   "execution_count": 61,
   "metadata": {},
   "outputs": [],
   "source": [
    "import matplotlib.pyplot as plt\n"
   ]
  },
  {
   "cell_type": "code",
   "execution_count": 62,
   "metadata": {},
   "outputs": [
    {
     "data": {
      "text/plain": [
       "[<matplotlib.lines.Line2D at 0x1edee4b2c10>]"
      ]
     },
     "execution_count": 62,
     "metadata": {},
     "output_type": "execute_result"
    },
    {
     "data": {
      "image/png": "[encoded data removed]",
      "text/plain": [
       "<Figure size 640x480 with 1 Axes>"
      ]
     },
     "metadata": {},
     "output_type": "display_data"
    }
   ],
   "source": [
    "plt.plot(prices)"
   ]
  },
  {
   "cell_type": "code",
   "execution_count": 70,
   "metadata": {},
   "outputs": [
    {
     "data": {
      "text/plain": [
       "[<matplotlib.lines.Line2D at 0x1edef033910>]"
      ]
     },
     "execution_count": 70,
     "metadata": {},
     "output_type": "execute_result"
    },
    {
     "data": {
      "image/png": "[encoded data removed]",
      "text/plain": [
       "<Figure size 640x480 with 1 Axes>"
      ]
     },
     "metadata": {},
     "output_type": "display_data"
    }
   ],
   "source": [
    "plt.plot(df_AEP_PSGC1_AMP.loc[:, 'RT_LMP'].to_numpy()[3000:3000+300])"
   ]
  },
  {
   "cell_type": "code",
   "execution_count": 71,
   "metadata": {},
   "outputs": [
    {
     "data": {
      "text/plain": [
       "[<matplotlib.lines.Line2D at 0x1edef0a5730>]"
      ]
     },
     "execution_count": 71,
     "metadata": {},
     "output_type": "execute_result"
    },
    {
     "data": {
      "image/png": "[encoded data removed]",
      "text/plain": [
       "<Figure size 640x480 with 1 Axes>"
      ]
     },
     "metadata": {},
     "output_type": "display_data"
    }
   ],
   "source": [
    "plt.plot(df_AEP_PSGC1_AMP.loc[:, 'DA_LMP'].to_numpy()[3000:3000+300])"
   ]
  },
  {
   "cell_type": "code",
   "execution_count": 49,
   "metadata": {},
   "outputs": [
    {
     "ename": "KeyError",
     "evalue": "'Close'",
     "output_type": "error",
     "traceback": [
      "\u001b[1;31m---------------------------------------------------------------------------\u001b[0m",
      "\u001b[1;31mKeyError\u001b[0m                                  Traceback (most recent call last)",
      "File \u001b[1;32mc:\\Users\\chen5\\miniforge3\\envs\\rl_env2\\lib\\site-packages\\pandas\\core\\indexes\\base.py:3802\u001b[0m, in \u001b[0;36mIndex.get_loc\u001b[1;34m(self, key)\u001b[0m\n\u001b[0;32m   3801\u001b[0m \u001b[38;5;28;01mtry\u001b[39;00m:\n\u001b[1;32m-> 3802\u001b[0m     \u001b[38;5;28;01mreturn\u001b[39;00m \u001b[38;5;28;43mself\u001b[39;49m\u001b[38;5;241;43m.\u001b[39;49m\u001b[43m_engine\u001b[49m\u001b[38;5;241;43m.\u001b[39;49m\u001b[43mget_loc\u001b[49m\u001b[43m(\u001b[49m\u001b[43mcasted_key\u001b[49m\u001b[43m)\u001b[49m\n\u001b[0;32m   3803\u001b[0m \u001b[38;5;28;01mexcept\u001b[39;00m \u001b[38;5;167;01mKeyError\u001b[39;00m \u001b[38;5;28;01mas\u001b[39;00m err:\n",
      "File \u001b[1;32mindex.pyx:153\u001b[0m, in \u001b[0;36mpandas._libs.index.IndexEngine.get_loc\u001b[1;34m()\u001b[0m\n",
      "File \u001b[1;32mindex.pyx:182\u001b[0m, in \u001b[0;36mpandas._libs.index.IndexEngine.get_loc\u001b[1;34m()\u001b[0m\n",
      "File \u001b[1;32mpandas\\\\_libs\\\\hashtable_class_helper.pxi:7081\u001b[0m, in \u001b[0;36mpandas._libs.hashtable.PyObjectHashTable.get_item\u001b[1;34m()\u001b[0m\n",
      "File \u001b[1;32mpandas\\\\_libs\\\\hashtable_class_helper.pxi:7089\u001b[0m, in \u001b[0;36mpandas._libs.hashtable.PyObjectHashTable.get_item\u001b[1;34m()\u001b[0m\n",
      "\u001b[1;31mKeyError\u001b[0m: 'Close'",
      "\nThe above exception was the direct cause of the following exception:\n",
      "\u001b[1;31mKeyError\u001b[0m                                  Traceback (most recent call last)",
      "Cell \u001b[1;32mIn[49], line 1\u001b[0m\n\u001b[1;32m----> 1\u001b[0m \u001b[43mPowerTradingEnv\u001b[49m\u001b[43m(\u001b[49m\u001b[43mdf\u001b[49m\u001b[38;5;241;43m=\u001b[39;49m\u001b[43mdf_AEP_PSGC1_AMP\u001b[49m\u001b[43m,\u001b[49m\u001b[43m \u001b[49m\u001b[43mwindow_size\u001b[49m\u001b[38;5;241;43m=\u001b[39;49m\u001b[38;5;241;43m24\u001b[39;49m\u001b[43m,\u001b[49m\u001b[43m \u001b[49m\u001b[43mframe_bound\u001b[49m\u001b[38;5;241;43m=\u001b[39;49m\u001b[43m(\u001b[49m\u001b[38;5;241;43m25\u001b[39;49m\u001b[43m,\u001b[49m\u001b[43m \u001b[49m\u001b[38;5;241;43m100\u001b[39;49m\u001b[43m)\u001b[49m\u001b[43m)\u001b[49m\n",
      "File \u001b[1;32mc:\\users\\chen5\\rl-power-arbitrage-project\\gym-power-trading\\gym_power_trading\\envs\\power_trading.py:29\u001b[0m, in \u001b[0;36mPowerTradingEnv.__init__\u001b[1;34m(self, df, window_size, frame_bound, battery_capacity, battery_cont_power, charging_efficiency)\u001b[0m\n\u001b[0;32m     27\u001b[0m \u001b[38;5;28mself\u001b[39m\u001b[38;5;241m.\u001b[39mwindow_size \u001b[38;5;241m=\u001b[39m window_size\n\u001b[0;32m     28\u001b[0m \u001b[38;5;28mself\u001b[39m\u001b[38;5;241m.\u001b[39mframe_bound \u001b[38;5;241m=\u001b[39m frame_bound\n\u001b[1;32m---> 29\u001b[0m \u001b[38;5;28mself\u001b[39m\u001b[38;5;241m.\u001b[39mprices, \u001b[38;5;28mself\u001b[39m\u001b[38;5;241m.\u001b[39msignal_features \u001b[38;5;241m=\u001b[39m \u001b[38;5;28;43mself\u001b[39;49m\u001b[38;5;241;43m.\u001b[39;49m\u001b[43m_process_data\u001b[49m\u001b[43m(\u001b[49m\u001b[43m)\u001b[49m \n\u001b[0;32m     30\u001b[0m \u001b[38;5;66;03m# Observations (Window Size, Signal Features + Battery Observations)\u001b[39;00m\n\u001b[0;32m     31\u001b[0m \u001b[38;5;28mself\u001b[39m\u001b[38;5;241m.\u001b[39mshape \u001b[38;5;241m=\u001b[39m (window_size \u001b[38;5;241m*\u001b[39m (\u001b[38;5;28mself\u001b[39m\u001b[38;5;241m.\u001b[39msignal_features\u001b[38;5;241m.\u001b[39mshape[\u001b[38;5;241m1\u001b[39m] \u001b[38;5;241m+\u001b[39m \u001b[38;5;241m2\u001b[39m), )\n",
      "File \u001b[1;32mc:\\users\\chen5\\rl-power-arbitrage-project\\gym-power-trading\\gym_power_trading\\envs\\power_trading.py:165\u001b[0m, in \u001b[0;36mPowerTradingEnv._process_data\u001b[1;34m(self)\u001b[0m\n\u001b[0;32m    164\u001b[0m \u001b[38;5;28;01mdef\u001b[39;00m \u001b[38;5;21m_process_data\u001b[39m(\u001b[38;5;28mself\u001b[39m): \u001b[38;5;66;03m# Scale features between -1 / 1\u001b[39;00m\n\u001b[1;32m--> 165\u001b[0m     prices \u001b[38;5;241m=\u001b[39m \u001b[38;5;28;43mself\u001b[39;49m\u001b[38;5;241;43m.\u001b[39;49m\u001b[43mdf\u001b[49m\u001b[38;5;241;43m.\u001b[39;49m\u001b[43mloc\u001b[49m\u001b[43m[\u001b[49m\u001b[43m:\u001b[49m\u001b[43m,\u001b[49m\u001b[43m \u001b[49m\u001b[38;5;124;43m'\u001b[39;49m\u001b[38;5;124;43mClose\u001b[39;49m\u001b[38;5;124;43m'\u001b[39;49m\u001b[43m]\u001b[49m\u001b[38;5;241m.\u001b[39mto_numpy()\n\u001b[0;32m    166\u001b[0m     \u001b[38;5;66;03m#prices[self.frame_bound[0] - self.window_size]  # validate index (TODO: Improve validation)\u001b[39;00m\n\u001b[0;32m    167\u001b[0m     \u001b[38;5;66;03m#prices = prices[self.frame_bound[0]-self.window_size:self.frame_bound[1]]\u001b[39;00m\n\u001b[0;32m    168\u001b[0m     diff \u001b[38;5;241m=\u001b[39m np\u001b[38;5;241m.\u001b[39minsert(np\u001b[38;5;241m.\u001b[39mdiff(prices), \u001b[38;5;241m0\u001b[39m, \u001b[38;5;241m0\u001b[39m)\n",
      "File \u001b[1;32mc:\\Users\\chen5\\miniforge3\\envs\\rl_env2\\lib\\site-packages\\pandas\\core\\indexing.py:1185\u001b[0m, in \u001b[0;36m_LocationIndexer.__getitem__\u001b[1;34m(self, key)\u001b[0m\n\u001b[0;32m   1183\u001b[0m     \u001b[38;5;28;01mif\u001b[39;00m \u001b[38;5;28mself\u001b[39m\u001b[38;5;241m.\u001b[39m_is_scalar_access(key):\n\u001b[0;32m   1184\u001b[0m         \u001b[38;5;28;01mreturn\u001b[39;00m \u001b[38;5;28mself\u001b[39m\u001b[38;5;241m.\u001b[39mobj\u001b[38;5;241m.\u001b[39m_get_value(\u001b[38;5;241m*\u001b[39mkey, takeable\u001b[38;5;241m=\u001b[39m\u001b[38;5;28mself\u001b[39m\u001b[38;5;241m.\u001b[39m_takeable)\n\u001b[1;32m-> 1185\u001b[0m     \u001b[38;5;28;01mreturn\u001b[39;00m \u001b[38;5;28;43mself\u001b[39;49m\u001b[38;5;241;43m.\u001b[39;49m\u001b[43m_getitem_tuple\u001b[49m\u001b[43m(\u001b[49m\u001b[43mkey\u001b[49m\u001b[43m)\u001b[49m\n\u001b[0;32m   1186\u001b[0m \u001b[38;5;28;01melse\u001b[39;00m:\n\u001b[0;32m   1187\u001b[0m     \u001b[38;5;66;03m# we by definition only have the 0th axis\u001b[39;00m\n\u001b[0;32m   1188\u001b[0m     axis \u001b[38;5;241m=\u001b[39m \u001b[38;5;28mself\u001b[39m\u001b[38;5;241m.\u001b[39maxis \u001b[38;5;129;01mor\u001b[39;00m \u001b[38;5;241m0\u001b[39m\n",
      "File \u001b[1;32mc:\\Users\\chen5\\miniforge3\\envs\\rl_env2\\lib\\site-packages\\pandas\\core\\indexing.py:1369\u001b[0m, in \u001b[0;36m_LocIndexer._getitem_tuple\u001b[1;34m(self, tup)\u001b[0m\n\u001b[0;32m   1367\u001b[0m \u001b[38;5;28;01mwith\u001b[39;00m suppress(IndexingError):\n\u001b[0;32m   1368\u001b[0m     tup \u001b[38;5;241m=\u001b[39m \u001b[38;5;28mself\u001b[39m\u001b[38;5;241m.\u001b[39m_expand_ellipsis(tup)\n\u001b[1;32m-> 1369\u001b[0m     \u001b[38;5;28;01mreturn\u001b[39;00m \u001b[38;5;28;43mself\u001b[39;49m\u001b[38;5;241;43m.\u001b[39;49m\u001b[43m_getitem_lowerdim\u001b[49m\u001b[43m(\u001b[49m\u001b[43mtup\u001b[49m\u001b[43m)\u001b[49m\n\u001b[0;32m   1371\u001b[0m \u001b[38;5;66;03m# no multi-index, so validate all of the indexers\u001b[39;00m\n\u001b[0;32m   1372\u001b[0m tup \u001b[38;5;241m=\u001b[39m \u001b[38;5;28mself\u001b[39m\u001b[38;5;241m.\u001b[39m_validate_tuple_indexer(tup)\n",
      "File \u001b[1;32mc:\\Users\\chen5\\miniforge3\\envs\\rl_env2\\lib\\site-packages\\pandas\\core\\indexing.py:1042\u001b[0m, in \u001b[0;36m_LocationIndexer._getitem_lowerdim\u001b[1;34m(self, tup)\u001b[0m\n\u001b[0;32m   1040\u001b[0m \u001b[38;5;66;03m# we may have a nested tuples indexer here\u001b[39;00m\n\u001b[0;32m   1041\u001b[0m \u001b[38;5;28;01mif\u001b[39;00m \u001b[38;5;28mself\u001b[39m\u001b[38;5;241m.\u001b[39m_is_nested_tuple_indexer(tup):\n\u001b[1;32m-> 1042\u001b[0m     \u001b[38;5;28;01mreturn\u001b[39;00m \u001b[38;5;28;43mself\u001b[39;49m\u001b[38;5;241;43m.\u001b[39;49m\u001b[43m_getitem_nested_tuple\u001b[49m\u001b[43m(\u001b[49m\u001b[43mtup\u001b[49m\u001b[43m)\u001b[49m\n\u001b[0;32m   1044\u001b[0m \u001b[38;5;66;03m# we maybe be using a tuple to represent multiple dimensions here\u001b[39;00m\n\u001b[0;32m   1045\u001b[0m ax0 \u001b[38;5;241m=\u001b[39m \u001b[38;5;28mself\u001b[39m\u001b[38;5;241m.\u001b[39mobj\u001b[38;5;241m.\u001b[39m_get_axis(\u001b[38;5;241m0\u001b[39m)\n",
      "File \u001b[1;32mc:\\Users\\chen5\\miniforge3\\envs\\rl_env2\\lib\\site-packages\\pandas\\core\\indexing.py:1154\u001b[0m, in \u001b[0;36m_LocationIndexer._getitem_nested_tuple\u001b[1;34m(self, tup)\u001b[0m\n\u001b[0;32m   1151\u001b[0m     axis \u001b[38;5;241m-\u001b[39m\u001b[38;5;241m=\u001b[39m \u001b[38;5;241m1\u001b[39m\n\u001b[0;32m   1152\u001b[0m     \u001b[38;5;28;01mcontinue\u001b[39;00m\n\u001b[1;32m-> 1154\u001b[0m obj \u001b[38;5;241m=\u001b[39m \u001b[38;5;28;43mgetattr\u001b[39;49m\u001b[43m(\u001b[49m\u001b[43mobj\u001b[49m\u001b[43m,\u001b[49m\u001b[43m \u001b[49m\u001b[38;5;28;43mself\u001b[39;49m\u001b[38;5;241;43m.\u001b[39;49m\u001b[43mname\u001b[49m\u001b[43m)\u001b[49m\u001b[38;5;241;43m.\u001b[39;49m\u001b[43m_getitem_axis\u001b[49m\u001b[43m(\u001b[49m\u001b[43mkey\u001b[49m\u001b[43m,\u001b[49m\u001b[43m \u001b[49m\u001b[43maxis\u001b[49m\u001b[38;5;241;43m=\u001b[39;49m\u001b[43maxis\u001b[49m\u001b[43m)\u001b[49m\n\u001b[0;32m   1155\u001b[0m axis \u001b[38;5;241m-\u001b[39m\u001b[38;5;241m=\u001b[39m \u001b[38;5;241m1\u001b[39m\n\u001b[0;32m   1157\u001b[0m \u001b[38;5;66;03m# if we have a scalar, we are done\u001b[39;00m\n",
      "File \u001b[1;32mc:\\Users\\chen5\\miniforge3\\envs\\rl_env2\\lib\\site-packages\\pandas\\core\\indexing.py:1432\u001b[0m, in \u001b[0;36m_LocIndexer._getitem_axis\u001b[1;34m(self, key, axis)\u001b[0m\n\u001b[0;32m   1430\u001b[0m \u001b[38;5;66;03m# fall thru to straight lookup\u001b[39;00m\n\u001b[0;32m   1431\u001b[0m \u001b[38;5;28mself\u001b[39m\u001b[38;5;241m.\u001b[39m_validate_key(key, axis)\n\u001b[1;32m-> 1432\u001b[0m \u001b[38;5;28;01mreturn\u001b[39;00m \u001b[38;5;28;43mself\u001b[39;49m\u001b[38;5;241;43m.\u001b[39;49m\u001b[43m_get_label\u001b[49m\u001b[43m(\u001b[49m\u001b[43mkey\u001b[49m\u001b[43m,\u001b[49m\u001b[43m \u001b[49m\u001b[43maxis\u001b[49m\u001b[38;5;241;43m=\u001b[39;49m\u001b[43maxis\u001b[49m\u001b[43m)\u001b[49m\n",
      "File \u001b[1;32mc:\\Users\\chen5\\miniforge3\\envs\\rl_env2\\lib\\site-packages\\pandas\\core\\indexing.py:1382\u001b[0m, in \u001b[0;36m_LocIndexer._get_label\u001b[1;34m(self, label, axis)\u001b[0m\n\u001b[0;32m   1380\u001b[0m \u001b[38;5;28;01mdef\u001b[39;00m \u001b[38;5;21m_get_label\u001b[39m(\u001b[38;5;28mself\u001b[39m, label, axis: AxisInt):\n\u001b[0;32m   1381\u001b[0m     \u001b[38;5;66;03m# GH#5567 this will fail if the label is not present in the axis.\u001b[39;00m\n\u001b[1;32m-> 1382\u001b[0m     \u001b[38;5;28;01mreturn\u001b[39;00m \u001b[38;5;28;43mself\u001b[39;49m\u001b[38;5;241;43m.\u001b[39;49m\u001b[43mobj\u001b[49m\u001b[38;5;241;43m.\u001b[39;49m\u001b[43mxs\u001b[49m\u001b[43m(\u001b[49m\u001b[43mlabel\u001b[49m\u001b[43m,\u001b[49m\u001b[43m \u001b[49m\u001b[43maxis\u001b[49m\u001b[38;5;241;43m=\u001b[39;49m\u001b[43maxis\u001b[49m\u001b[43m)\u001b[49m\n",
      "File \u001b[1;32mc:\\Users\\chen5\\miniforge3\\envs\\rl_env2\\lib\\site-packages\\pandas\\core\\generic.py:4281\u001b[0m, in \u001b[0;36mNDFrame.xs\u001b[1;34m(self, key, axis, level, drop_level)\u001b[0m\n\u001b[0;32m   4279\u001b[0m \u001b[38;5;28;01mif\u001b[39;00m axis \u001b[38;5;241m==\u001b[39m \u001b[38;5;241m1\u001b[39m:\n\u001b[0;32m   4280\u001b[0m     \u001b[38;5;28;01mif\u001b[39;00m drop_level:\n\u001b[1;32m-> 4281\u001b[0m         \u001b[38;5;28;01mreturn\u001b[39;00m \u001b[38;5;28;43mself\u001b[39;49m\u001b[43m[\u001b[49m\u001b[43mkey\u001b[49m\u001b[43m]\u001b[49m\n\u001b[0;32m   4282\u001b[0m     index \u001b[38;5;241m=\u001b[39m \u001b[38;5;28mself\u001b[39m\u001b[38;5;241m.\u001b[39mcolumns\n\u001b[0;32m   4283\u001b[0m \u001b[38;5;28;01melse\u001b[39;00m:\n",
      "File \u001b[1;32mc:\\Users\\chen5\\miniforge3\\envs\\rl_env2\\lib\\site-packages\\pandas\\core\\frame.py:4090\u001b[0m, in \u001b[0;36mDataFrame.__getitem__\u001b[1;34m(self, key)\u001b[0m\n\u001b[0;32m   4088\u001b[0m \u001b[38;5;28;01mif\u001b[39;00m \u001b[38;5;28mself\u001b[39m\u001b[38;5;241m.\u001b[39mcolumns\u001b[38;5;241m.\u001b[39mnlevels \u001b[38;5;241m>\u001b[39m \u001b[38;5;241m1\u001b[39m:\n\u001b[0;32m   4089\u001b[0m     \u001b[38;5;28;01mreturn\u001b[39;00m \u001b[38;5;28mself\u001b[39m\u001b[38;5;241m.\u001b[39m_getitem_multilevel(key)\n\u001b[1;32m-> 4090\u001b[0m indexer \u001b[38;5;241m=\u001b[39m \u001b[38;5;28;43mself\u001b[39;49m\u001b[38;5;241;43m.\u001b[39;49m\u001b[43mcolumns\u001b[49m\u001b[38;5;241;43m.\u001b[39;49m\u001b[43mget_loc\u001b[49m\u001b[43m(\u001b[49m\u001b[43mkey\u001b[49m\u001b[43m)\u001b[49m\n\u001b[0;32m   4091\u001b[0m \u001b[38;5;28;01mif\u001b[39;00m is_integer(indexer):\n\u001b[0;32m   4092\u001b[0m     indexer \u001b[38;5;241m=\u001b[39m [indexer]\n",
      "File \u001b[1;32mc:\\Users\\chen5\\miniforge3\\envs\\rl_env2\\lib\\site-packages\\pandas\\core\\indexes\\base.py:3809\u001b[0m, in \u001b[0;36mIndex.get_loc\u001b[1;34m(self, key)\u001b[0m\n\u001b[0;32m   3804\u001b[0m     \u001b[38;5;28;01mif\u001b[39;00m \u001b[38;5;28misinstance\u001b[39m(casted_key, \u001b[38;5;28mslice\u001b[39m) \u001b[38;5;129;01mor\u001b[39;00m (\n\u001b[0;32m   3805\u001b[0m         \u001b[38;5;28misinstance\u001b[39m(casted_key, abc\u001b[38;5;241m.\u001b[39mIterable)\n\u001b[0;32m   3806\u001b[0m         \u001b[38;5;129;01mand\u001b[39;00m \u001b[38;5;28many\u001b[39m(\u001b[38;5;28misinstance\u001b[39m(x, \u001b[38;5;28mslice\u001b[39m) \u001b[38;5;28;01mfor\u001b[39;00m x \u001b[38;5;129;01min\u001b[39;00m casted_key)\n\u001b[0;32m   3807\u001b[0m     ):\n\u001b[0;32m   3808\u001b[0m         \u001b[38;5;28;01mraise\u001b[39;00m InvalidIndexError(key)\n\u001b[1;32m-> 3809\u001b[0m     \u001b[38;5;28;01mraise\u001b[39;00m \u001b[38;5;167;01mKeyError\u001b[39;00m(key) \u001b[38;5;28;01mfrom\u001b[39;00m \u001b[38;5;21;01merr\u001b[39;00m\n\u001b[0;32m   3810\u001b[0m \u001b[38;5;28;01mexcept\u001b[39;00m \u001b[38;5;167;01mTypeError\u001b[39;00m:\n\u001b[0;32m   3811\u001b[0m     \u001b[38;5;66;03m# If we have a listlike key, _check_indexing_error will raise\u001b[39;00m\n\u001b[0;32m   3812\u001b[0m     \u001b[38;5;66;03m#  InvalidIndexError. Otherwise we fall through and re-raise\u001b[39;00m\n\u001b[0;32m   3813\u001b[0m     \u001b[38;5;66;03m#  the TypeError.\u001b[39;00m\n\u001b[0;32m   3814\u001b[0m     \u001b[38;5;28mself\u001b[39m\u001b[38;5;241m.\u001b[39m_check_indexing_error(key)\n",
      "\u001b[1;31mKeyError\u001b[0m: 'Close'"
     ]
    }
   ],
   "source": [
    "PowerTradingEnv(df=df_AEP_PSGC1_AMP, window_size=24, frame_bound=(25, 100))"
   ]
  },
  {
   "cell_type": "code",
   "execution_count": 51,
   "metadata": {},
   "outputs": [],
   "source": [
    "window_size=24; frame_bound=(25, 100)"
   ]
  },
  {
   "cell_type": "code",
   "execution_count": 52,
   "metadata": {},
   "outputs": [],
   "source": [
    "start = frame_bound[0] - window_size\n",
    "end = frame_bound[1]"
   ]
  },
  {
   "cell_type": "code",
   "execution_count": 72,
   "metadata": {},
   "outputs": [],
   "source": [
    "# See the forecasts for 10 hours ahead (DA LMPs are released at 2pm and apply to the 24 hours of the next day, so 10 future hours are always available)\n",
    "\n",
    "da_prices = df_AEP_PSGC1_AMP.loc[:, 'DA_LMP'].to_numpy()[start+10:end+10]\n"
   ]
  },
  {
   "cell_type": "code",
   "execution_count": 75,
   "metadata": {},
   "outputs": [
    {
     "data": {
      "text/plain": [
       "(99,)"
      ]
     },
     "execution_count": 75,
     "metadata": {},
     "output_type": "execute_result"
    }
   ],
   "source": [
    "da_prices.shape"
   ]
  },
  {
   "cell_type": "code",
   "execution_count": 56,
   "metadata": {},
   "outputs": [
    {
     "data": {
      "text/plain": [
       "array([ 0.000e+00,  2.800e-01, -2.600e-01,  9.000e-01,  3.510e+00,\n",
       "        1.148e+01, -7.480e+00,  7.500e-01, -9.200e-01,  1.700e-01,\n",
       "       -4.000e-02,  1.890e+00, -2.590e+00,  3.600e-01, -3.300e-01,\n",
       "        1.190e+00, -1.190e+00,  3.750e+00,  5.064e+01, -5.484e+01,\n",
       "       -1.350e+00, -1.260e+00,  5.100e-01, -2.340e+00,  5.100e-01,\n",
       "        3.100e+00,  3.790e+00,  5.100e-01, -2.810e+00,  3.250e+00,\n",
       "        2.527e+01, -2.781e+01, -4.300e-01,  4.323e+01, -4.459e+01,\n",
       "        1.170e+00,  4.400e+00, -6.080e+00,  7.000e-01, -1.100e-01,\n",
       "        5.000e-01,  1.280e+00, -2.100e+00, -7.600e-01, -8.000e-02,\n",
       "       -6.600e-01,  3.700e-01, -1.940e+00, -2.200e-01,  3.180e+00,\n",
       "        2.680e+00,  5.000e-02, -4.060e+00,  9.100e-01,  1.206e+01,\n",
       "       -1.248e+01,  4.540e+00, -2.890e+00,  5.050e+00, -6.890e+00,\n",
       "        3.980e+00, -4.860e+00,  1.900e+00,  6.450e+00, -6.200e+00,\n",
       "       -2.500e-01, -1.600e-01, -6.700e-01, -1.010e+00,  7.120e+00,\n",
       "        3.740e+00, -1.423e+01,  5.400e-01,  3.180e+00, -1.390e+00,\n",
       "       -1.430e+00, -5.600e-01, -1.750e+00,  7.570e+00, -3.950e+00,\n",
       "        2.800e+00, -4.390e+00,  1.270e+00, -1.390e+00, -5.700e-01,\n",
       "        7.000e-02,  1.430e+00, -2.800e-01,  7.500e-01, -3.100e-01,\n",
       "        1.086e+01, -1.018e+01, -5.820e+00, -6.200e-01,  2.180e+00,\n",
       "       -2.200e-01, -2.400e-01,  1.000e+00, -6.600e-01])"
      ]
     },
     "execution_count": 56,
     "metadata": {},
     "output_type": "execute_result"
    }
   ],
   "source": [
    "prices = df_AEP_PSGC1_AMP.loc[:, 'RT_LMP'].to_numpy()[start:end]\n",
    "diff = np.insert(np.diff(prices), 0, 0)\n",
    "diff"
   ]
  },
  {
   "cell_type": "code",
   "execution_count": 76,
   "metadata": {},
   "outputs": [
    {
     "data": {
      "text/plain": [
       "array([[ 1.251e+01,  0.000e+00,  2.045e+01],\n",
       "       [ 1.279e+01,  2.800e-01,  2.095e+01],\n",
       "       [ 1.253e+01, -2.600e-01,  2.178e+01],\n",
       "       [ 1.343e+01,  9.000e-01,  2.188e+01],\n",
       "       [ 1.694e+01,  3.510e+00,  2.118e+01],\n",
       "       [ 2.842e+01,  1.148e+01,  2.084e+01],\n",
       "       [ 2.094e+01, -7.480e+00,  2.115e+01],\n",
       "       [ 2.169e+01,  7.500e-01,  2.382e+01],\n",
       "       [ 2.077e+01, -9.200e-01,  2.376e+01],\n",
       "       [ 2.094e+01,  1.700e-01,  2.149e+01],\n",
       "       [ 2.090e+01, -4.000e-02,  1.966e+01],\n",
       "       [ 2.279e+01,  1.890e+00,  1.887e+01],\n",
       "       [ 2.020e+01, -2.590e+00,  1.810e+01],\n",
       "       [ 2.056e+01,  3.600e-01,  1.696e+01],\n",
       "       [ 2.023e+01, -3.300e-01,  1.621e+01],\n",
       "       [ 2.142e+01,  1.190e+00,  1.594e+01],\n",
       "       [ 2.023e+01, -1.190e+00,  1.614e+01],\n",
       "       [ 2.398e+01,  3.750e+00,  1.793e+01],\n",
       "       [ 7.462e+01,  5.064e+01,  2.162e+01],\n",
       "       [ 1.978e+01, -5.484e+01,  2.504e+01],\n",
       "       [ 1.843e+01, -1.350e+00,  2.466e+01],\n",
       "       [ 1.717e+01, -1.260e+00,  2.452e+01],\n",
       "       [ 1.768e+01,  5.100e-01,  2.467e+01],\n",
       "       [ 1.534e+01, -2.340e+00,  2.442e+01],\n",
       "       [ 1.585e+01,  5.100e-01,  2.302e+01],\n",
       "       [ 1.895e+01,  3.100e+00,  2.280e+01],\n",
       "       [ 2.274e+01,  3.790e+00,  2.270e+01],\n",
       "       [ 2.325e+01,  5.100e-01,  2.243e+01],\n",
       "       [ 2.044e+01, -2.810e+00,  2.164e+01],\n",
       "       [ 2.369e+01,  3.250e+00,  2.171e+01],\n",
       "       [ 4.896e+01,  2.527e+01,  2.147e+01],\n",
       "       [ 2.115e+01, -2.781e+01,  2.465e+01],\n",
       "       [ 2.072e+01, -4.300e-01,  2.307e+01],\n",
       "       [ 6.395e+01,  4.323e+01,  2.105e+01],\n",
       "       [ 1.936e+01, -4.459e+01,  1.867e+01],\n",
       "       [ 2.053e+01,  1.170e+00,  1.745e+01],\n",
       "       [ 2.493e+01,  4.400e+00,  1.682e+01],\n",
       "       [ 1.885e+01, -6.080e+00,  1.697e+01],\n",
       "       [ 1.955e+01,  7.000e-01,  1.650e+01],\n",
       "       [ 1.944e+01, -1.100e-01,  1.590e+01],\n",
       "       [ 1.994e+01,  5.000e-01,  1.608e+01],\n",
       "       [ 2.122e+01,  1.280e+00,  1.669e+01],\n",
       "       [ 1.912e+01, -2.100e+00,  1.730e+01],\n",
       "       [ 1.836e+01, -7.600e-01,  2.032e+01],\n",
       "       [ 1.828e+01, -8.000e-02,  2.099e+01],\n",
       "       [ 1.762e+01, -6.600e-01,  2.155e+01],\n",
       "       [ 1.799e+01,  3.700e-01,  2.252e+01],\n",
       "       [ 1.605e+01, -1.940e+00,  2.203e+01],\n",
       "       [ 1.583e+01, -2.200e-01,  2.138e+01],\n",
       "       [ 1.901e+01,  3.180e+00,  2.071e+01],\n",
       "       [ 2.169e+01,  2.680e+00,  1.993e+01],\n",
       "       [ 2.174e+01,  5.000e-02,  1.936e+01],\n",
       "       [ 1.768e+01, -4.060e+00,  1.982e+01],\n",
       "       [ 1.859e+01,  9.100e-01,  2.031e+01],\n",
       "       [ 3.065e+01,  1.206e+01,  2.065e+01],\n",
       "       [ 1.817e+01, -1.248e+01,  2.202e+01],\n",
       "       [ 2.271e+01,  4.540e+00,  2.161e+01],\n",
       "       [ 1.982e+01, -2.890e+00,  1.927e+01],\n",
       "       [ 2.487e+01,  5.050e+00,  1.807e+01],\n",
       "       [ 1.798e+01, -6.890e+00,  1.766e+01],\n",
       "       [ 2.196e+01,  3.980e+00,  1.685e+01],\n",
       "       [ 1.710e+01, -4.860e+00,  1.649e+01],\n",
       "       [ 1.900e+01,  1.900e+00,  1.583e+01],\n",
       "       [ 2.545e+01,  6.450e+00,  1.502e+01],\n",
       "       [ 1.925e+01, -6.200e+00,  1.515e+01],\n",
       "       [ 1.900e+01, -2.500e-01,  1.534e+01],\n",
       "       [ 1.884e+01, -1.600e-01,  1.574e+01],\n",
       "       [ 1.817e+01, -6.700e-01,  1.633e+01],\n",
       "       [ 1.716e+01, -1.010e+00,  1.737e+01],\n",
       "       [ 2.428e+01,  7.120e+00,  1.821e+01],\n",
       "       [ 2.802e+01,  3.740e+00,  1.900e+01],\n",
       "       [ 1.379e+01, -1.423e+01,  1.903e+01],\n",
       "       [ 1.433e+01,  5.400e-01,  1.909e+01],\n",
       "       [ 1.751e+01,  3.180e+00,  1.837e+01],\n",
       "       [ 1.612e+01, -1.390e+00,  1.750e+01],\n",
       "       [ 1.469e+01, -1.430e+00,  1.836e+01],\n",
       "       [ 1.413e+01, -5.600e-01,  1.903e+01],\n",
       "       [ 1.238e+01, -1.750e+00,  1.859e+01],\n",
       "       [ 1.995e+01,  7.570e+00,  1.985e+01],\n",
       "       [ 1.600e+01, -3.950e+00,  2.197e+01],\n",
       "       [ 1.880e+01,  2.800e+00,  2.009e+01],\n",
       "       [ 1.441e+01, -4.390e+00,  1.722e+01],\n",
       "       [ 1.568e+01,  1.270e+00,  1.595e+01],\n",
       "       [ 1.429e+01, -1.390e+00,  1.491e+01],\n",
       "       [ 1.372e+01, -5.700e-01,  1.459e+01],\n",
       "       [ 1.379e+01,  7.000e-02,  1.424e+01],\n",
       "       [ 1.522e+01,  1.430e+00,  1.430e+01],\n",
       "       [ 1.494e+01, -2.800e-01,  1.376e+01],\n",
       "       [ 1.569e+01,  7.500e-01,  1.405e+01],\n",
       "       [ 1.538e+01, -3.100e-01,  1.527e+01],\n",
       "       [ 2.624e+01,  1.086e+01,  1.820e+01],\n",
       "       [ 1.606e+01, -1.018e+01,  2.171e+01],\n",
       "       [ 1.024e+01, -5.820e+00,  2.118e+01],\n",
       "       [ 9.620e+00, -6.200e-01,  2.134e+01],\n",
       "       [ 1.180e+01,  2.180e+00,  2.117e+01],\n",
       "       [ 1.158e+01, -2.200e-01,  2.129e+01],\n",
       "       [ 1.134e+01, -2.400e-01,  2.188e+01],\n",
       "       [ 1.234e+01,  1.000e+00,  2.050e+01],\n",
       "       [ 1.168e+01, -6.600e-01,  2.039e+01]])"
      ]
     },
     "execution_count": 76,
     "metadata": {},
     "output_type": "execute_result"
    }
   ],
   "source": [
    "signal_features = np.column_stack((prices, diff, da_prices))\n",
    "signal_features"
   ]
  },
  {
   "cell_type": "code",
   "execution_count": 78,
   "metadata": {},
   "outputs": [],
   "source": [
    "from enum import Enum\n",
    "class Actions(Enum):\n",
    "    Discharge = 1\n",
    "    Charge = 2\n",
    "    Hold = 3\n"
   ]
  },
  {
   "cell_type": "code",
   "execution_count": 79,
   "metadata": {},
   "outputs": [
    {
     "data": {
      "text/plain": [
       "3"
      ]
     },
     "execution_count": 79,
     "metadata": {},
     "output_type": "execute_result"
    }
   ],
   "source": [
    "Actions.Hold.value"
   ]
  },
  {
   "cell_type": "code",
   "execution_count": 80,
   "metadata": {},
   "outputs": [
    {
     "data": {
      "text/plain": [
       "<Actions.Hold: 3>"
      ]
     },
     "execution_count": 80,
     "metadata": {},
     "output_type": "execute_result"
    }
   ],
   "source": [
    "Actions.Hold"
   ]
  },
  {
   "cell_type": "code",
   "execution_count": 83,
   "metadata": {},
   "outputs": [
    {
     "data": {
      "text/plain": [
       "<Actions.Hold: 3>"
      ]
     },
     "execution_count": 83,
     "metadata": {},
     "output_type": "execute_result"
    }
   ],
   "source": [
    "Actions(3)"
   ]
  },
  {
   "cell_type": "code",
   "execution_count": null,
   "metadata": {},
   "outputs": [],
   "source": [
    "prices = self.df.loc[:, 'Close'].to_numpy()\n",
    "#prices[self.frame_bound[0] - self.window_size]  # validate index (TODO: Improve validation)\n",
    "#prices = prices[self.frame_bound[0]-self.window_size:self.frame_bound[1]]\n",
    "diff = np.insert(np.diff(prices), 0, 0)\n",
    "signal_features = np.column_stack((prices, diff))\n",
    "\n",
    "return prices.astype(np.float32), signal_features.astype(np.float32)\n"
   ]
  },
  {
   "cell_type": "code",
   "execution_count": 5,
   "metadata": {},
   "outputs": [],
   "source": [
    "prices = df_AEP_PSGC1_AMP.loc[:,'RT_LMP'].to_numpy()"
   ]
  },
  {
   "cell_type": "code",
   "execution_count": 9,
   "metadata": {},
   "outputs": [],
   "source": [
    "diff = np.insert(np.diff(prices), 0, 0)"
   ]
  },
  {
   "cell_type": "code",
   "execution_count": 14,
   "metadata": {},
   "outputs": [],
   "source": [
    "signal_features = np.column_stack((prices, diff))"
   ]
  },
  {
   "cell_type": "code",
   "execution_count": 15,
   "metadata": {},
   "outputs": [
    {
     "data": {
      "text/plain": [
       "array([[10.02,  0.  ],\n",
       "       [12.51,  2.49],\n",
       "       [12.79,  0.28],\n",
       "       ...,\n",
       "       [13.76, -7.23],\n",
       "       [14.66,  0.9 ],\n",
       "       [13.74, -0.92]])"
      ]
     },
     "execution_count": 15,
     "metadata": {},
     "output_type": "execute_result"
    }
   ],
   "source": [
    "signal_features"
   ]
  },
  {
   "cell_type": "code",
   "execution_count": 16,
   "metadata": {},
   "outputs": [
    {
     "data": {
      "text/plain": [
       "array([10.02, 12.51, 12.79, ..., 13.76, 14.66, 13.74], dtype=float32)"
      ]
     },
     "execution_count": 16,
     "metadata": {},
     "output_type": "execute_result"
    }
   ],
   "source": [
    "prices.astype(np.float32)"
   ]
  },
  {
   "cell_type": "code",
   "execution_count": 17,
   "metadata": {},
   "outputs": [
    {
     "data": {
      "text/plain": [
       "array([[10.02,  0.  ],\n",
       "       [12.51,  2.49],\n",
       "       [12.79,  0.28],\n",
       "       ...,\n",
       "       [13.76, -7.23],\n",
       "       [14.66,  0.9 ],\n",
       "       [13.74, -0.92]], dtype=float32)"
      ]
     },
     "execution_count": 17,
     "metadata": {},
     "output_type": "execute_result"
    }
   ],
   "source": [
    "signal_features.astype(np.float32)"
   ]
  },
  {
   "cell_type": "code",
   "execution_count": null,
   "metadata": {},
   "outputs": [],
   "source": [
    "# Original get observation\n",
    "def _get_observation(self):\n",
    "    \"\"\"\n",
    "    Produce Observations vector for agent. Each vector has \n",
    "    window_size obervations in chronological order that include\n",
    "    signal_features + battery_capacity and battery_avg_price.\n",
    "    \"\"\"\n",
    "    # Array with dimensions (window_size x num_features)\n",
    "    env_obs = self.signal_features[(self._current_tick - self.window_size + 1):self._current_tick+1]\n",
    "    \n",
    "    # Battery observations are array with dimensions (window_size x 1)\n",
    "    # Flip to ensure chronological order with env_obs (deque stores oldest observation at index 0)\n",
    "    battery_capacity = np.flip(np.array(self.battery.capacity_observation).reshape(-1, 1)) \n",
    "    battery_price = np.flip(np.array(self.battery.avg_price_observation).reshape(-1, 1))\n",
    "    \n",
    "    # Flatten matrix to window_size * features size array with observations in chronological order\n",
    "    observation = np.column_stack((env_obs, battery_capacity, battery_price)). \\\n",
    "        reshape(-1, (self.shape[0])).squeeze()\n",
    "    \n",
    "    return observation.astype(np.float32)\n"
   ]
  },
  {
   "cell_type": "code",
   "execution_count": 24,
   "metadata": {},
   "outputs": [],
   "source": [
    "from gym_power_trading.envs import PowerTradingEnv\n"
   ]
  },
  {
   "cell_type": "code",
   "execution_count": 25,
   "metadata": {},
   "outputs": [],
   "source": [
    "from gym_power_trading.envs import battery\n"
   ]
  },
  {
   "cell_type": "code",
   "execution_count": null,
   "metadata": {},
   "outputs": [],
   "source": [
    "battery_capacity=80\n",
    "battery_cont_power=20\n",
    "charging_efficiency=0.95"
   ]
  },
  {
   "cell_type": "code",
   "execution_count": null,
   "metadata": {},
   "outputs": [],
   "source": [
    "battery = battery.Battery(\n",
    "                battery_capacity,\n",
    "                battery_cont_power,\n",
    "                charging_efficiency,\n",
    "                24\n",
    "        )"
   ]
  },
  {
   "cell_type": "code",
   "execution_count": 29,
   "metadata": {},
   "outputs": [
    {
     "data": {
      "text/plain": [
       "deque([0, 0, 0, 0, 0, 0, 0, 0, 0, 0, 0, 0, 0, 0, 0, 0, 0, 0, 0, 0, 0, 0, 0, 0],\n",
       "      maxlen=24)"
      ]
     },
     "execution_count": 29,
     "metadata": {},
     "output_type": "execute_result"
    }
   ],
   "source": [
    "battery.capacity_observation"
   ]
  },
  {
   "cell_type": "code",
   "execution_count": 30,
   "metadata": {},
   "outputs": [],
   "source": [
    "battery_capacity = np.flip(np.array(battery.capacity_observation).reshape(-1, 1)) "
   ]
  },
  {
   "cell_type": "code",
   "execution_count": 31,
   "metadata": {},
   "outputs": [
    {
     "data": {
      "text/plain": [
       "array([[0],\n",
       "       [0],\n",
       "       [0],\n",
       "       [0],\n",
       "       [0],\n",
       "       [0],\n",
       "       [0],\n",
       "       [0],\n",
       "       [0],\n",
       "       [0],\n",
       "       [0],\n",
       "       [0],\n",
       "       [0],\n",
       "       [0],\n",
       "       [0],\n",
       "       [0],\n",
       "       [0],\n",
       "       [0],\n",
       "       [0],\n",
       "       [0],\n",
       "       [0],\n",
       "       [0],\n",
       "       [0],\n",
       "       [0]])"
      ]
     },
     "execution_count": 31,
     "metadata": {},
     "output_type": "execute_result"
    }
   ],
   "source": [
    "battery_capacity"
   ]
  },
  {
   "cell_type": "code",
   "execution_count": 34,
   "metadata": {},
   "outputs": [
    {
     "data": {
      "text/plain": [
       "array([[0],\n",
       "       [0],\n",
       "       [0],\n",
       "       [0],\n",
       "       [0],\n",
       "       [0],\n",
       "       [0],\n",
       "       [0],\n",
       "       [0],\n",
       "       [0],\n",
       "       [0],\n",
       "       [0],\n",
       "       [0],\n",
       "       [0],\n",
       "       [0],\n",
       "       [0],\n",
       "       [0],\n",
       "       [0],\n",
       "       [0],\n",
       "       [0],\n",
       "       [0],\n",
       "       [0],\n",
       "       [0],\n",
       "       [0]])"
      ]
     },
     "execution_count": 34,
     "metadata": {},
     "output_type": "execute_result"
    }
   ],
   "source": [
    "battery_price = np.flip(np.array(battery.avg_price_observation).reshape(-1, 1))\n",
    "battery_price"
   ]
  },
  {
   "cell_type": "code",
   "execution_count": 18,
   "metadata": {},
   "outputs": [],
   "source": [
    "_current_tick = 60\n",
    "window_size = 24\n"
   ]
  },
  {
   "cell_type": "code",
   "execution_count": 19,
   "metadata": {},
   "outputs": [],
   "source": [
    "env_obs = signal_features[(_current_tick - window_size + 1):_current_tick+1]\n"
   ]
  },
  {
   "cell_type": "code",
   "execution_count": 23,
   "metadata": {},
   "outputs": [
    {
     "data": {
      "text/plain": [
       "((24, 2),\n",
       " array([[ 24.93,   4.4 ],\n",
       "        [ 18.85,  -6.08],\n",
       "        [ 19.55,   0.7 ],\n",
       "        [ 19.44,  -0.11],\n",
       "        [ 19.94,   0.5 ],\n",
       "        [ 21.22,   1.28],\n",
       "        [ 19.12,  -2.1 ],\n",
       "        [ 18.36,  -0.76],\n",
       "        [ 18.28,  -0.08],\n",
       "        [ 17.62,  -0.66],\n",
       "        [ 17.99,   0.37],\n",
       "        [ 16.05,  -1.94],\n",
       "        [ 15.83,  -0.22],\n",
       "        [ 19.01,   3.18],\n",
       "        [ 21.69,   2.68],\n",
       "        [ 21.74,   0.05],\n",
       "        [ 17.68,  -4.06],\n",
       "        [ 18.59,   0.91],\n",
       "        [ 30.65,  12.06],\n",
       "        [ 18.17, -12.48],\n",
       "        [ 22.71,   4.54],\n",
       "        [ 19.82,  -2.89],\n",
       "        [ 24.87,   5.05],\n",
       "        [ 17.98,  -6.89]]))"
      ]
     },
     "execution_count": 23,
     "metadata": {},
     "output_type": "execute_result"
    }
   ],
   "source": [
    "env_obs.shape, env_obs"
   ]
  },
  {
   "cell_type": "code",
   "execution_count": 37,
   "metadata": {},
   "outputs": [
    {
     "data": {
      "text/plain": [
       "(96,)"
      ]
     },
     "execution_count": 37,
     "metadata": {},
     "output_type": "execute_result"
    }
   ],
   "source": [
    " (24 * (signal_features.shape[1] + 2), )"
   ]
  },
  {
   "cell_type": "code",
   "execution_count": 45,
   "metadata": {},
   "outputs": [
    {
     "data": {
      "text/plain": [
       "array([ 24.93,   4.4 ,   0.  ,   0.  ,  18.85,  -6.08,   0.  ,   0.  ,\n",
       "        19.55,   0.7 ,   0.  ,   0.  ,  19.44,  -0.11,   0.  ,   0.  ,\n",
       "        19.94,   0.5 ,   0.  ,   0.  ,  21.22,   1.28,   0.  ,   0.  ,\n",
       "        19.12,  -2.1 ,   0.  ,   0.  ,  18.36,  -0.76,   0.  ,   0.  ,\n",
       "        18.28,  -0.08,   0.  ,   0.  ,  17.62,  -0.66,   0.  ,   0.  ,\n",
       "        17.99,   0.37,   0.  ,   0.  ,  16.05,  -1.94,   0.  ,   0.  ,\n",
       "        15.83,  -0.22,   0.  ,   0.  ,  19.01,   3.18,   0.  ,   0.  ,\n",
       "        21.69,   2.68,   0.  ,   0.  ,  21.74,   0.05,   0.  ,   0.  ,\n",
       "        17.68,  -4.06,   0.  ,   0.  ,  18.59,   0.91,   0.  ,   0.  ,\n",
       "        30.65,  12.06,   0.  ,   0.  ,  18.17, -12.48,   0.  ,   0.  ,\n",
       "        22.71,   4.54,   0.  ,   0.  ,  19.82,  -2.89,   0.  ,   0.  ,\n",
       "        24.87,   5.05,   0.  ,   0.  ,  17.98,  -6.89,   0.  ,   0.  ])"
      ]
     },
     "execution_count": 45,
     "metadata": {},
     "output_type": "execute_result"
    }
   ],
   "source": [
    "observation = np.column_stack((env_obs, battery_capacity, battery_price)). \\\n",
    "    reshape(-1, (96)).squeeze()\n",
    "observation\n",
    "# kind of a weird order but ok"
   ]
  },
  {
   "cell_type": "code",
   "execution_count": 42,
   "metadata": {},
   "outputs": [
    {
     "data": {
      "text/plain": [
       "array([24.93,  4.4 ,  0.  ,  0.  ])"
      ]
     },
     "execution_count": 42,
     "metadata": {},
     "output_type": "execute_result"
    }
   ],
   "source": [
    "observation[:4]"
   ]
  },
  {
   "cell_type": "code",
   "execution_count": 43,
   "metadata": {},
   "outputs": [
    {
     "data": {
      "text/plain": [
       "array([[ 24.93,   4.4 ,   0.  ,   0.  ],\n",
       "       [ 18.85,  -6.08,   0.  ,   0.  ],\n",
       "       [ 19.55,   0.7 ,   0.  ,   0.  ],\n",
       "       [ 19.44,  -0.11,   0.  ,   0.  ],\n",
       "       [ 19.94,   0.5 ,   0.  ,   0.  ],\n",
       "       [ 21.22,   1.28,   0.  ,   0.  ],\n",
       "       [ 19.12,  -2.1 ,   0.  ,   0.  ],\n",
       "       [ 18.36,  -0.76,   0.  ,   0.  ],\n",
       "       [ 18.28,  -0.08,   0.  ,   0.  ],\n",
       "       [ 17.62,  -0.66,   0.  ,   0.  ],\n",
       "       [ 17.99,   0.37,   0.  ,   0.  ],\n",
       "       [ 16.05,  -1.94,   0.  ,   0.  ],\n",
       "       [ 15.83,  -0.22,   0.  ,   0.  ],\n",
       "       [ 19.01,   3.18,   0.  ,   0.  ],\n",
       "       [ 21.69,   2.68,   0.  ,   0.  ],\n",
       "       [ 21.74,   0.05,   0.  ,   0.  ],\n",
       "       [ 17.68,  -4.06,   0.  ,   0.  ],\n",
       "       [ 18.59,   0.91,   0.  ,   0.  ],\n",
       "       [ 30.65,  12.06,   0.  ,   0.  ],\n",
       "       [ 18.17, -12.48,   0.  ,   0.  ],\n",
       "       [ 22.71,   4.54,   0.  ,   0.  ],\n",
       "       [ 19.82,  -2.89,   0.  ,   0.  ],\n",
       "       [ 24.87,   5.05,   0.  ,   0.  ],\n",
       "       [ 17.98,  -6.89,   0.  ,   0.  ]])"
      ]
     },
     "execution_count": 43,
     "metadata": {},
     "output_type": "execute_result"
    }
   ],
   "source": [
    "np.column_stack((env_obs, battery_capacity, battery_price))"
   ]
  },
  {
   "cell_type": "code",
   "execution_count": null,
   "metadata": {},
   "outputs": [],
   "source": []
  }
 ],
 "metadata": {
  "kernelspec": {
   "display_name": "Python 3",
   "language": "python",
   "name": "python3"
  },
  "language_info": {
   "codemirror_mode": {
    "name": "ipython",
    "version": 3
   },
   "file_extension": ".py",
   "mimetype": "text/x-python",
   "name": "python",
   "nbconvert_exporter": "python",
   "pygments_lexer": "ipython3",
   "version": "3.9.18"
  }
 },
 "nbformat": 4,
 "nbformat_minor": 2
}
