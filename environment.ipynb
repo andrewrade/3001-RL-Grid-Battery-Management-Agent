{
 "cells": [
  {
   "cell_type": "code",
   "execution_count": 13,
   "metadata": {},
   "outputs": [],
   "source": [
    "import gym\n",
    "from gym_power_trading.envs import PowerTradingEnv\n",
    "import pandas as pd\n",
    "import numpy as np\n",
    "from pathlib import Path\n",
    "from tqdm import tqdm"
   ]
  },
  {
   "cell_type": "code",
   "execution_count": 14,
   "metadata": {},
   "outputs": [],
   "source": [
    "file_name = 'data\\AEP_PSGC1_AMP_long.h5'\n",
    "path = Path(file_name).resolve()\n",
    "uri = str(path)"
   ]
  },
  {
   "cell_type": "code",
   "execution_count": 15,
   "metadata": {},
   "outputs": [
    {
     "data": {
      "text/html": [
       "<div>\n",
       "<style scoped>\n",
       "    .dataframe tbody tr th:only-of-type {\n",
       "        vertical-align: middle;\n",
       "    }\n",
       "\n",
       "    .dataframe tbody tr th {\n",
       "        vertical-align: top;\n",
       "    }\n",
       "\n",
       "    .dataframe thead th {\n",
       "        text-align: right;\n",
       "    }\n",
       "</style>\n",
       "<table border=\"1\" class=\"dataframe\">\n",
       "  <thead>\n",
       "    <tr style=\"text-align: right;\">\n",
       "      <th></th>\n",
       "      <th></th>\n",
       "      <th></th>\n",
       "      <th></th>\n",
       "      <th></th>\n",
       "      <th>HE</th>\n",
       "    </tr>\n",
       "    <tr>\n",
       "      <th>MARKET_DAY</th>\n",
       "      <th>NODE</th>\n",
       "      <th>TYPE</th>\n",
       "      <th>VALUE</th>\n",
       "      <th>HourEnding</th>\n",
       "      <th></th>\n",
       "    </tr>\n",
       "  </thead>\n",
       "  <tbody>\n",
       "    <tr>\n",
       "      <th rowspan=\"5\" valign=\"top\">2021-07-01</th>\n",
       "      <th rowspan=\"5\" valign=\"top\">AEP.PSGC1.AMP</th>\n",
       "      <th rowspan=\"5\" valign=\"top\">Gennode</th>\n",
       "      <th rowspan=\"5\" valign=\"top\">LMP</th>\n",
       "      <th>1</th>\n",
       "      <td>25.88</td>\n",
       "    </tr>\n",
       "    <tr>\n",
       "      <th>2</th>\n",
       "      <td>24.88</td>\n",
       "    </tr>\n",
       "    <tr>\n",
       "      <th>3</th>\n",
       "      <td>23.45</td>\n",
       "    </tr>\n",
       "    <tr>\n",
       "      <th>4</th>\n",
       "      <td>22.47</td>\n",
       "    </tr>\n",
       "    <tr>\n",
       "      <th>5</th>\n",
       "      <td>21.73</td>\n",
       "    </tr>\n",
       "  </tbody>\n",
       "</table>\n",
       "</div>"
      ],
      "text/plain": [
       "                                                      HE\n",
       "MARKET_DAY NODE          TYPE    VALUE HourEnding       \n",
       "2021-07-01 AEP.PSGC1.AMP Gennode LMP   1           25.88\n",
       "                                       2           24.88\n",
       "                                       3           23.45\n",
       "                                       4           22.47\n",
       "                                       5           21.73"
      ]
     },
     "execution_count": 15,
     "metadata": {},
     "output_type": "execute_result"
    }
   ],
   "source": [
    "df = pd.read_hdf(uri)\n",
    "df.head()"
   ]
  },
  {
   "cell_type": "code",
   "execution_count": 16,
   "metadata": {},
   "outputs": [],
   "source": [
    "my_dataframe = pd.read_csv(\"RandomCloseValues.csv\")"
   ]
  },
  {
   "cell_type": "code",
   "execution_count": 18,
   "metadata": {},
   "outputs": [
    {
     "name": "stderr",
     "output_type": "stream",
     "text": [
      " 89%|████████▉ | 89/100 [00:00<00:00, 29556.06it/s]"
     ]
    },
    {
     "name": "stdout",
     "output_type": "stream",
     "text": [
      "{'total_reward': 5.104788529245482, 'total_profit': 1.0, 'position': 1}\n",
      "{'total_reward': 16.721180966025912, 'total_profit': 1.0, 'position': 1}\n",
      "{'total_reward': 66.17820147464151, 'total_profit': 1.0, 'position': 1}\n",
      "{'total_reward': -983.9904984925923, 'total_profit': -1043.9178564673975, 'position': 0}\n",
      "{'total_reward': -2031.0001332132442, 'total_profit': -2085.6924430144463, 'position': 0}\n",
      "{'total_reward': -2836.334276600888, 'total_profit': -2886.999915685152, 'position': 0}\n",
      "{'total_reward': -2836.334276600888, 'total_profit': -2886.999915685152, 'position': 0}\n",
      "{'total_reward': -2836.334276600888, 'total_profit': -2886.999915685152, 'position': 0}\n",
      "{'total_reward': -2836.334276600888, 'total_profit': -2886.999915685152, 'position': 0}\n",
      "{'total_reward': -2833.113998111926, 'total_profit': -2886.999915685152, 'position': 1}\n",
      "{'total_reward': -2807.5188169479375, 'total_profit': -2886.999915685152, 'position': 1}\n",
      "{'total_reward': -2800.119547408924, 'total_profit': -2886.999915685152, 'position': 1}\n",
      "{'total_reward': -2799.6543305714927, 'total_profit': -2886.999915685152, 'position': 1}\n",
      "{'total_reward': -2798.6543305714927, 'total_profit': -2886.999915685152, 'position': 1}\n",
      "{'total_reward': -2797.6543305714927, 'total_profit': -2886.999915685152, 'position': 1}\n",
      "{'total_reward': -2796.6543305714927, 'total_profit': -2886.999915685152, 'position': 1}\n",
      "{'total_reward': -2795.6543305714927, 'total_profit': -2886.999915685152, 'position': 1}\n",
      "{'total_reward': -2794.6543305714927, 'total_profit': -2886.999915685152, 'position': 1}\n",
      "{'total_reward': -2793.6543305714927, 'total_profit': -2886.999915685152, 'position': 1}\n",
      "{'total_reward': -2792.6543305714927, 'total_profit': -2886.999915685152, 'position': 1}\n",
      "{'total_reward': -3193.634120506153, 'total_profit': -3285.9748066701386, 'position': 0}\n",
      "{'total_reward': -3170.6013446899888, 'total_profit': -3285.9748066701386, 'position': 1}\n",
      "{'total_reward': -3169.6013446899888, 'total_profit': -3285.9748066701386, 'position': 1}\n",
      "{'total_reward': -1829.0960104883768, 'total_profit': -1952.1719991395348, 'position': 0}\n",
      "{'total_reward': -803.0599756031711, 'total_profit': -931.2661444287552, 'position': 0}\n",
      "{'total_reward': -803.1411928252176, 'total_profit': -931.2661444287552, 'position': 1}\n",
      "{'total_reward': -787.552965885715, 'total_profit': -931.2661444287552, 'position': 1}\n",
      "{'total_reward': 73.80431005201774, 'total_profit': -74.21565487071109, 'position': 0}\n",
      "{'total_reward': 60.388598148759364, 'total_profit': -74.21565487071109, 'position': 1}\n",
      "{'total_reward': 61.388598148759364, 'total_profit': -74.21565487071109, 'position': 1}\n",
      "{'total_reward': 62.388598148759364, 'total_profit': -74.21565487071109, 'position': 1}\n",
      "{'total_reward': -480.82514554419083, 'total_profit': -614.7133298451965, 'position': 0}\n",
      "{'total_reward': 725.8248163979298, 'total_profit': 585.9033822872134, 'position': 0}\n",
      "{'total_reward': 729.4265103052576, 'total_profit': 585.9033822872134, 'position': 1}\n",
      "{'total_reward': 1464.877220781748, 'total_profit': 1317.6768392113213, 'position': 0}\n",
      "{'total_reward': 1464.2964716722736, 'total_profit': 1317.6768392113213, 'position': 1}\n",
      "{'total_reward': 1892.6253210492644, 'total_profit': 1743.864044341427, 'position': 0}\n",
      "{'total_reward': 2374.2387010659036, 'total_profit': 2223.0693574579827, 'position': 0}\n",
      "{'total_reward': 2132.140418790062, 'total_profit': 1982.1815665935205, 'position': 0}\n",
      "{'total_reward': 2132.140418790062, 'total_profit': 1982.1815665935205, 'position': 0}\n",
      "{'total_reward': 2132.140418790062, 'total_profit': 1982.1815665935205, 'position': 0}\n",
      "{'total_reward': 2132.140418790062, 'total_profit': 1982.1815665935205, 'position': 0}\n",
      "{'total_reward': 2132.140418790062, 'total_profit': 1982.1815665935205, 'position': 0}\n",
      "{'total_reward': 2132.140418790062, 'total_profit': 1982.1815665935205, 'position': 0}\n",
      "{'total_reward': 2132.140418790062, 'total_profit': 1982.1815665935205, 'position': 0}\n",
      "{'total_reward': 2132.6061687816295, 'total_profit': 1982.1815665935205, 'position': 1}\n",
      "{'total_reward': 2127.98027021965, 'total_profit': 1982.1815665935205, 'position': 1}\n",
      "{'total_reward': 2135.026055136444, 'total_profit': 1982.1815665935205, 'position': 1}\n",
      "{'total_reward': 2554.316407673365, 'total_profit': 2399.3754673677568, 'position': 0}\n",
      "{'total_reward': 2536.7988207589456, 'total_profit': 2399.3754673677568, 'position': 1}\n",
      "{'total_reward': 2532.817288444578, 'total_profit': 2399.3754673677568, 'position': 1}\n",
      "{'total_reward': 3727.2248512358333, 'total_profit': 3587.8109923450556, 'position': 0}\n",
      "{'total_reward': 3977.664060755604, 'total_profit': 3836.9980058172277, 'position': 0}\n",
      "{'total_reward': 3974.8635417046935, 'total_profit': 3836.9980058172277, 'position': 1}\n",
      "{'total_reward': 3953.8451084517233, 'total_profit': 3836.9980058172277, 'position': 1}\n",
      "{'total_reward': 3954.8451084517233, 'total_profit': 3836.9980058172277, 'position': 1}\n",
      "{'total_reward': 4894.215543530662, 'total_profit': 4771.671588720772, 'position': 0}\n",
      "{'total_reward': 4913.660718977624, 'total_profit': 4771.671588720772, 'position': 1}\n",
      "{'total_reward': 4914.660718977624, 'total_profit': 4771.671588720772, 'position': 1}\n",
      "{'total_reward': 4915.660718977624, 'total_profit': 4771.671588720772, 'position': 1}\n",
      "{'total_reward': 4916.660718977624, 'total_profit': 4771.671588720772, 'position': 1}\n",
      "{'total_reward': 4917.660718977624, 'total_profit': 4771.671588720772, 'position': 1}\n",
      "{'total_reward': 4918.660718977624, 'total_profit': 4771.671588720772, 'position': 1}\n",
      "{'total_reward': 5794.370676301201, 'total_profit': 5643.00299625773, 'position': 0}\n",
      "{'total_reward': 5760.82953707499, 'total_profit': 5643.00299625773, 'position': 1}\n",
      "{'total_reward': 6516.178688786705, 'total_profit': 6394.575402210886, 'position': 0}\n",
      "{'total_reward': 6540.242451658547, 'total_profit': 6394.575402210886, 'position': 1}\n",
      "{'total_reward': 6541.242451658547, 'total_profit': 6394.575402210886, 'position': 1}\n",
      "{'total_reward': 6542.242451658547, 'total_profit': 6394.575402210886, 'position': 1}\n",
      "{'total_reward': 6543.242451658547, 'total_profit': 6394.575402210886, 'position': 1}\n",
      "{'total_reward': 7160.474112175185, 'total_profit': 7008.720904424941, 'position': 0}\n",
      "{'total_reward': 7192.905586534596, 'total_profit': 7040.990221412556, 'position': 0}\n",
      "{'total_reward': 6690.657724346156, 'total_profit': 6541.253598535059, 'position': 0}\n",
      "{'total_reward': 6683.257808324708, 'total_profit': 6533.890682093718, 'position': 0}\n",
      "{'total_reward': 6684.969299558133, 'total_profit': 6533.890682093718, 'position': 1}\n",
      "{'total_reward': 6667.523919598223, 'total_profit': 6533.890682093718, 'position': 1}\n",
      "{'total_reward': 6832.334152463406, 'total_profit': 6697.876863794575, 'position': 0}\n",
      "{'total_reward': 6818.065903754781, 'total_profit': 6697.876863794575, 'position': 1}\n",
      "{'total_reward': 6837.048706898734, 'total_profit': 6697.876863794575, 'position': 1}\n",
      "{'total_reward': 5752.151288123678, 'total_profit': 5618.403932113393, 'position': 0}\n",
      "{'total_reward': 5749.98913993246, 'total_profit': 5618.403932113393, 'position': 1}\n",
      "{'total_reward': 5745.803040528677, 'total_profit': 5618.403932113393, 'position': 1}\n",
      "{'total_reward': 5430.509296792811, 'total_profit': 5304.6866570962065, 'position': 0}\n",
      "{'total_reward': 5534.595512163391, 'total_profit': 5408.252441389934, 'position': 0}\n",
      "{'total_reward': 5550.4703858768335, 'total_profit': 5408.252441389934, 'position': 1}\n",
      "{'total_reward': 5560.894055591511, 'total_profit': 5408.252441389934, 'position': 1}\n",
      "{'total_reward': 5561.894055591511, 'total_profit': 5408.252441389934, 'position': 1}\n",
      "{'total_reward': 4358.793290463625, 'total_profit': 4211.167180087688, 'position': 0}\n",
      "{'total_reward': 4397.866109018955, 'total_profit': 4211.167180087688, 'position': 1}\n"
     ]
    },
    {
     "name": "stderr",
     "output_type": "stream",
     "text": [
      "\n"
     ]
    },
    {
     "ename": "IndexError",
     "evalue": "index 92 is out of bounds for axis 0 with size 92",
     "output_type": "error",
     "traceback": [
      "\u001b[1;31m---------------------------------------------------------------------------\u001b[0m",
      "\u001b[1;31mIndexError\u001b[0m                                Traceback (most recent call last)",
      "Cell \u001b[1;32mIn[18], line 5\u001b[0m\n\u001b[0;32m      3\u001b[0m \u001b[38;5;28;01mfor\u001b[39;00m _ \u001b[38;5;129;01min\u001b[39;00m tqdm(\u001b[38;5;28mrange\u001b[39m(\u001b[38;5;241m100\u001b[39m)):\n\u001b[0;32m      4\u001b[0m     action \u001b[38;5;241m=\u001b[39m env\u001b[38;5;241m.\u001b[39maction_space\u001b[38;5;241m.\u001b[39msample()\n\u001b[1;32m----> 5\u001b[0m     obs, reward, done, truncated, info \u001b[38;5;241m=\u001b[39m \u001b[43menv\u001b[49m\u001b[38;5;241;43m.\u001b[39;49m\u001b[43mstep\u001b[49m\u001b[43m(\u001b[49m\u001b[43maction\u001b[49m\u001b[43m)\u001b[49m\n\u001b[0;32m      6\u001b[0m     \u001b[38;5;28mprint\u001b[39m(info)\n\u001b[0;32m      7\u001b[0m     \u001b[38;5;28;01mif\u001b[39;00m done:\n",
      "File \u001b[1;32mc:\\users\\andrew deur\\documents\\nyu\\ds-ga 3001 reinforcement learning\\3001-rl-grid-battery-management-agent\\gym-power-trading\\gym_power_trading\\envs\\power_trading.py:49\u001b[0m, in \u001b[0;36mPowerTradingEnv.step\u001b[1;34m(self, action)\u001b[0m\n\u001b[0;32m     46\u001b[0m     \u001b[38;5;28mself\u001b[39m\u001b[38;5;241m.\u001b[39m_truncated \u001b[38;5;241m=\u001b[39m \u001b[38;5;28;01mTrue\u001b[39;00m\n\u001b[0;32m     48\u001b[0m \u001b[38;5;28mself\u001b[39m\u001b[38;5;241m.\u001b[39m_current_tick \u001b[38;5;241m+\u001b[39m\u001b[38;5;241m=\u001b[39m \u001b[38;5;241m1\u001b[39m\n\u001b[1;32m---> 49\u001b[0m step_reward, step_profit \u001b[38;5;241m=\u001b[39m \u001b[38;5;28;43mself\u001b[39;49m\u001b[38;5;241;43m.\u001b[39;49m\u001b[43m_calculate_reward\u001b[49m\u001b[43m(\u001b[49m\u001b[43maction\u001b[49m\u001b[43m)\u001b[49m\n\u001b[0;32m     50\u001b[0m \u001b[38;5;28mself\u001b[39m\u001b[38;5;241m.\u001b[39m_total_reward \u001b[38;5;241m+\u001b[39m\u001b[38;5;241m=\u001b[39m step_reward\n\u001b[0;32m     51\u001b[0m \u001b[38;5;28mself\u001b[39m\u001b[38;5;241m.\u001b[39m_total_profit \u001b[38;5;241m+\u001b[39m\u001b[38;5;241m=\u001b[39m step_profit\n",
      "File \u001b[1;32mc:\\users\\andrew deur\\documents\\nyu\\ds-ga 3001 reinforcement learning\\3001-rl-grid-battery-management-agent\\gym-power-trading\\gym_power_trading\\envs\\power_trading.py:105\u001b[0m, in \u001b[0;36mPowerTradingEnv._calculate_reward\u001b[1;34m(self, action)\u001b[0m\n\u001b[0;32m    102\u001b[0m     trade \u001b[38;5;241m=\u001b[39m \u001b[38;5;28;01mTrue\u001b[39;00m\n\u001b[0;32m    104\u001b[0m \u001b[38;5;28;01mif\u001b[39;00m trade:\n\u001b[1;32m--> 105\u001b[0m     current_price \u001b[38;5;241m=\u001b[39m \u001b[38;5;28;43mself\u001b[39;49m\u001b[38;5;241;43m.\u001b[39;49m\u001b[43mprices\u001b[49m\u001b[43m[\u001b[49m\u001b[38;5;28;43mself\u001b[39;49m\u001b[38;5;241;43m.\u001b[39;49m\u001b[43m_current_tick\u001b[49m\u001b[43m]\u001b[49m\n\u001b[0;32m    106\u001b[0m     \u001b[38;5;28;01mif\u001b[39;00m action \u001b[38;5;241m==\u001b[39m Actions\u001b[38;5;241m.\u001b[39mCharge\u001b[38;5;241m.\u001b[39mvalue:\n\u001b[0;32m    107\u001b[0m         \u001b[38;5;66;03m# Return overcharge=True if can't charge for full 1-hr tick \u001b[39;00m\n\u001b[0;32m    108\u001b[0m         duration, overcharge \u001b[38;5;241m=\u001b[39m \u001b[38;5;28mself\u001b[39m\u001b[38;5;241m.\u001b[39mbattery\u001b[38;5;241m.\u001b[39mcharge(current_price, duration\u001b[38;5;241m=\u001b[39m\u001b[38;5;241m1\u001b[39m) \n",
      "\u001b[1;31mIndexError\u001b[0m: index 92 is out of bounds for axis 0 with size 92"
     ]
    }
   ],
   "source": [
    "env = PowerTradingEnv(df=my_dataframe, window_size=3, frame_bound=(10, 100))\n",
    "obs = env.reset()\n",
    "for _ in tqdm(range(100)):\n",
    "    action = env.action_space.sample()\n",
    "    obs, reward, done, truncated, info = env.step(action)\n",
    "    print(info)\n",
    "    if done:\n",
    "        obs = env.reset()"
   ]
  }
 ],
 "metadata": {
  "kernelspec": {
   "display_name": "rl",
   "language": "python",
   "name": "python3"
  },
  "language_info": {
   "codemirror_mode": {
    "name": "ipython",
    "version": 3
   },
   "file_extension": ".py",
   "mimetype": "text/x-python",
   "name": "python",
   "nbconvert_exporter": "python",
   "pygments_lexer": "ipython3",
   "version": "3.9.18"
  }
 },
 "nbformat": 4,
 "nbformat_minor": 2
}
