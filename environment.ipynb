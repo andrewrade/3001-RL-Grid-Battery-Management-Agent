{
 "cells": [
  {
   "cell_type": "code",
   "execution_count": 1,
   "metadata": {},
   "outputs": [],
   "source": [
    "import gym\n",
    "from gym_power_trading.envs import PowerTradingEnv\n",
    "import pandas as pd\n",
    "import numpy as np\n",
    "from pathlib import Path\n",
    "from tqdm import tqdm"
   ]
  },
  {
   "cell_type": "code",
   "execution_count": 2,
   "metadata": {},
   "outputs": [],
   "source": [
    "file_name = 'data\\AEP_PSGC1_AMP_long.h5'\n",
    "path = Path(file_name).resolve()\n",
    "uri = str(path)"
   ]
  },
  {
   "cell_type": "code",
   "execution_count": 3,
   "metadata": {},
   "outputs": [
    {
     "data": {
      "text/html": [
       "<div>\n",
       "<style scoped>\n",
       "    .dataframe tbody tr th:only-of-type {\n",
       "        vertical-align: middle;\n",
       "    }\n",
       "\n",
       "    .dataframe tbody tr th {\n",
       "        vertical-align: top;\n",
       "    }\n",
       "\n",
       "    .dataframe thead th {\n",
       "        text-align: right;\n",
       "    }\n",
       "</style>\n",
       "<table border=\"1\" class=\"dataframe\">\n",
       "  <thead>\n",
       "    <tr style=\"text-align: right;\">\n",
       "      <th></th>\n",
       "      <th></th>\n",
       "      <th></th>\n",
       "      <th></th>\n",
       "      <th></th>\n",
       "      <th>HE</th>\n",
       "    </tr>\n",
       "    <tr>\n",
       "      <th>MARKET_DAY</th>\n",
       "      <th>NODE</th>\n",
       "      <th>TYPE</th>\n",
       "      <th>VALUE</th>\n",
       "      <th>HourEnding</th>\n",
       "      <th></th>\n",
       "    </tr>\n",
       "  </thead>\n",
       "  <tbody>\n",
       "    <tr>\n",
       "      <th rowspan=\"5\" valign=\"top\">2021-07-01</th>\n",
       "      <th rowspan=\"5\" valign=\"top\">AEP.PSGC1.AMP</th>\n",
       "      <th rowspan=\"5\" valign=\"top\">Gennode</th>\n",
       "      <th rowspan=\"5\" valign=\"top\">LMP</th>\n",
       "      <th>1</th>\n",
       "      <td>25.88</td>\n",
       "    </tr>\n",
       "    <tr>\n",
       "      <th>2</th>\n",
       "      <td>24.88</td>\n",
       "    </tr>\n",
       "    <tr>\n",
       "      <th>3</th>\n",
       "      <td>23.45</td>\n",
       "    </tr>\n",
       "    <tr>\n",
       "      <th>4</th>\n",
       "      <td>22.47</td>\n",
       "    </tr>\n",
       "    <tr>\n",
       "      <th>5</th>\n",
       "      <td>21.73</td>\n",
       "    </tr>\n",
       "  </tbody>\n",
       "</table>\n",
       "</div>"
      ],
      "text/plain": [
       "                                                      HE\n",
       "MARKET_DAY NODE          TYPE    VALUE HourEnding       \n",
       "2021-07-01 AEP.PSGC1.AMP Gennode LMP   1           25.88\n",
       "                                       2           24.88\n",
       "                                       3           23.45\n",
       "                                       4           22.47\n",
       "                                       5           21.73"
      ]
     },
     "execution_count": 3,
     "metadata": {},
     "output_type": "execute_result"
    }
   ],
   "source": [
    "df = pd.read_hdf(uri)\n",
    "df.head()"
   ]
  },
  {
   "cell_type": "code",
   "execution_count": 3,
   "metadata": {},
   "outputs": [],
   "source": [
    "my_dataframe = pd.read_csv(\"RandomCloseValues.csv\")"
   ]
  },
  {
   "cell_type": "code",
   "execution_count": 4,
   "metadata": {},
   "outputs": [
    {
     "name": "stdout",
     "output_type": "stream",
     "text": [
      "Discrete(3)\n"
     ]
    },
    {
     "name": "stderr",
     "output_type": "stream",
     "text": [
      " 89%|████████▉ | 89/100 [00:00<00:00, 44450.23it/s]"
     ]
    },
    {
     "name": "stdout",
     "output_type": "stream",
     "text": [
      "{'total_reward': 0.0, 'total_profit': 1.0, 'position': 2, 'battery_charge': 0}\n",
      "{'total_reward': 4.381276983963815, 'total_profit': 1.0, 'position': 1, 'battery_charge': 20}\n",
      "{'total_reward': 38.135878211573555, 'total_profit': 1.0, 'position': 1, 'battery_charge': 40}\n",
      "{'total_reward': -697.9844361355431, 'total_profit': -731.439712775381, 'position': 0, 'battery_charge': 20}\n",
      "{'total_reward': -1430.9456852360777, 'total_profit': -1460.7361556304131, 'position': 0, 'battery_charge': 0}\n",
      "{'total_reward': -1430.9456852360777, 'total_profit': -1460.7361556304131, 'position': 0, 'battery_charge': 0.0}\n",
      "{'total_reward': -1430.9456852360777, 'total_profit': -1460.7361556304131, 'position': 0, 'battery_charge': 0.0}\n",
      "{'total_reward': -1430.9456852360777, 'total_profit': -1460.7361556304131, 'position': 0, 'battery_charge': 0.0}\n",
      "{'total_reward': -1430.9456852360777, 'total_profit': -1460.7361556304131, 'position': 0, 'battery_charge': 0.0}\n",
      "{'total_reward': -1430.9456852360777, 'total_profit': -1460.7361556304131, 'position': 2, 'battery_charge': 0.0}\n",
      "{'total_reward': -1430.2115070443406, 'total_profit': -1460.7361556304131, 'position': 1, 'battery_charge': 20.0}\n",
      "{'total_reward': -1430.2115070443406, 'total_profit': -1460.7361556304131, 'position': 2, 'battery_charge': 20.0}\n",
      "{'total_reward': -1440.223707349677, 'total_profit': -1460.7361556304131, 'position': 1, 'battery_charge': 40.0}\n",
      "{'total_reward': -1452.078927274336, 'total_profit': -1460.7361556304131, 'position': 1, 'battery_charge': 60.0}\n",
      "{'total_reward': -1452.078927274336, 'total_profit': -1460.7361556304131, 'position': 2, 'battery_charge': 60.0}\n",
      "{'total_reward': -1452.078927274336, 'total_profit': -1460.7361556304131, 'position': 2, 'battery_charge': 60.0}\n",
      "{'total_reward': -1464.6560512676574, 'total_profit': -1460.7361556304131, 'position': 1, 'battery_charge': 80.0}\n",
      "{'total_reward': -1463.6560512676574, 'total_profit': -1460.7361556304131, 'position': 1, 'battery_charge': 80.0}\n",
      "{'total_reward': -1462.6560512676574, 'total_profit': -1460.7361556304131, 'position': 1, 'battery_charge': 80.0}\n",
      "{'total_reward': -1462.6560512676574, 'total_profit': -1460.7361556304131, 'position': 2, 'battery_charge': 80.0}\n",
      "{'total_reward': -1898.5341875511303, 'total_profit': -1894.4349012324687, 'position': 0, 'battery_charge': 60.0}\n",
      "{'total_reward': -1898.5341875511303, 'total_profit': -1894.4349012324687, 'position': 2, 'battery_charge': 60.0}\n",
      "{'total_reward': -1898.5341875511303, 'total_profit': -1894.4349012324687, 'position': 2, 'battery_charge': 60.0}\n",
      "{'total_reward': -744.1965264102869, 'total_profit': -745.8689283973295, 'position': 0, 'battery_charge': 40.0}\n",
      "{'total_reward': -770.7738974721808, 'total_profit': -745.8689283973295, 'position': 1, 'battery_charge': 60.0}\n",
      "{'total_reward': -770.7738974721808, 'total_profit': -745.8689283973295, 'position': 2, 'battery_charge': 60.0}\n",
      "{'total_reward': -737.2740153513456, 'total_profit': -745.8689283973295, 'position': 1, 'battery_charge': 80.0}\n",
      "{'total_reward': -234.14984304026547, 'total_profit': -245.26037694780473, 'position': 0, 'battery_charge': 60.0}\n",
      "{'total_reward': -234.14984304026547, 'total_profit': -245.26037694780473, 'position': 2, 'battery_charge': 60.0}\n",
      "{'total_reward': -234.14984304026547, 'total_profit': -245.26037694780473, 'position': 2, 'battery_charge': 60.0}\n",
      "{'total_reward': -234.14984304026547, 'total_profit': -245.26037694780473, 'position': 2, 'battery_charge': 60.0}\n",
      "{'total_reward': -1030.7146632294905, 'total_profit': -1037.8423730360837, 'position': 0, 'battery_charge': 40.0}\n",
      "{'total_reward': -77.41577778364467, 'total_profit': -89.30998201746706, 'position': 0, 'battery_charge': 20.0}\n",
      "{'total_reward': -77.41577778364467, 'total_profit': -89.30998201746706, 'position': 2, 'battery_charge': 20.0}\n",
      "{'total_reward': 382.2869162559511, 'total_profit': 368.09419855193073, 'position': 0, 'battery_charge': 0.0}\n",
      "{'total_reward': 383.9275009004695, 'total_profit': 368.09419855193073, 'position': 1, 'battery_charge': 20.0}\n",
      "{'total_reward': 767.8296751976013, 'total_profit': 750.076861977577, 'position': 0, 'battery_charge': 0.0}\n",
      "{'total_reward': 767.8296751976013, 'total_profit': 750.076861977577, 'position': 0, 'battery_charge': 0.0}\n",
      "{'total_reward': 768.8025933566846, 'total_profit': 750.076861977577, 'position': 1, 'battery_charge': 20.0}\n",
      "{'total_reward': 732.6040807272259, 'total_profit': 750.076861977577, 'position': 1, 'battery_charge': 40.0}\n",
      "{'total_reward': 722.7950763284115, 'total_profit': 750.076861977577, 'position': 1, 'battery_charge': 60.0}\n",
      "{'total_reward': 1247.7074641093873, 'total_profit': 1272.364687819648, 'position': 0, 'battery_charge': 40.0}\n",
      "{'total_reward': 1683.2765901716132, 'total_profit': 1705.7559682515628, 'position': 0, 'battery_charge': 20.0}\n",
      "{'total_reward': 1524.990964646925, 'total_profit': 1548.261770854498, 'position': 0, 'battery_charge': 0.0}\n",
      "{'total_reward': 1524.990964646925, 'total_profit': 1548.261770854498, 'position': 0, 'battery_charge': 0.0}\n",
      "{'total_reward': 1524.990964646925, 'total_profit': 1548.261770854498, 'position': 2, 'battery_charge': 0.0}\n",
      "{'total_reward': 1526.0224533666644, 'total_profit': 1548.261770854498, 'position': 1, 'battery_charge': 20.0}\n",
      "{'total_reward': 1534.194995286172, 'total_profit': 1548.261770854498, 'position': 1, 'battery_charge': 40.0}\n",
      "{'total_reward': 1930.950207768825, 'total_profit': 1943.0332072747378, 'position': 0, 'battery_charge': 20.0}\n",
      "{'total_reward': 1918.88681357367, 'total_profit': 1943.0332072747378, 'position': 1, 'battery_charge': 40.0}\n",
      "{'total_reward': 1918.88681357367, 'total_profit': 1943.0332072747378, 'position': 2, 'battery_charge': 40.0}\n",
      "{'total_reward': 1882.9611297992237, 'total_profit': 1943.0332072747378, 'position': 1, 'battery_charge': 60.0}\n",
      "{'total_reward': 1891.8850924675924, 'total_profit': 1943.0332072747378, 'position': 1, 'battery_charge': 80.0}\n",
      "{'total_reward': 1891.8850924675924, 'total_profit': 1943.0332072747378, 'position': 2, 'battery_charge': 80.0}\n",
      "{'total_reward': 1891.8850924675924, 'total_profit': 1943.0332072747378, 'position': 2, 'battery_charge': 80.0}\n",
      "{'total_reward': 1891.8850924675924, 'total_profit': 1943.0332072747378, 'position': 2, 'battery_charge': 80.0}\n",
      "{'total_reward': 1892.8850924675924, 'total_profit': 1943.0332072747378, 'position': 1, 'battery_charge': 80.0}\n",
      "{'total_reward': 1892.8850924675924, 'total_profit': 1943.0332072747378, 'position': 2, 'battery_charge': 80.0}\n",
      "{'total_reward': 1892.8850924675924, 'total_profit': 1943.0332072747378, 'position': 2, 'battery_charge': 80.0}\n",
      "{'total_reward': 1893.8850924675924, 'total_profit': 1943.0332072747378, 'position': 1, 'battery_charge': 80.0}\n",
      "{'total_reward': 1893.8850924675924, 'total_profit': 1943.0332072747378, 'position': 2, 'battery_charge': 80.0}\n",
      "{'total_reward': 1893.8850924675924, 'total_profit': 1943.0332072747378, 'position': 2, 'battery_charge': 80.0}\n",
      "{'total_reward': 1893.8850924675924, 'total_profit': 1943.0332072747378, 'position': 2, 'battery_charge': 80.0}\n",
      "{'total_reward': 1894.8850924675924, 'total_profit': 1943.0332072747378, 'position': 1, 'battery_charge': 80.0}\n",
      "{'total_reward': 1894.8850924675924, 'total_profit': 1943.0332072747378, 'position': 2, 'battery_charge': 80.0}\n",
      "{'total_reward': 2545.4399577525623, 'total_profit': 2590.3352982332826, 'position': 0, 'battery_charge': 60.0}\n",
      "{'total_reward': 2573.433506365408, 'total_profit': 2590.3352982332826, 'position': 1, 'battery_charge': 80.0}\n",
      "{'total_reward': 2573.433506365408, 'total_profit': 2590.3352982332826, 'position': 2, 'battery_charge': 80.0}\n",
      "{'total_reward': 2573.433506365408, 'total_profit': 2590.3352982332826, 'position': 2, 'battery_charge': 80.0}\n",
      "{'total_reward': 2574.433506365408, 'total_profit': 2590.3352982332826, 'position': 1, 'battery_charge': 80.0}\n",
      "{'total_reward': 2575.433506365408, 'total_profit': 2590.3352982332826, 'position': 1, 'battery_charge': 80.0}\n",
      "{'total_reward': 2529.269265904761, 'total_profit': 2544.401878974939, 'position': 0, 'battery_charge': 60.0}\n",
      "{'total_reward': 2551.1345294499606, 'total_profit': 2544.401878974939, 'position': 1, 'battery_charge': 80.0}\n",
      "{'total_reward': 2552.1345294499606, 'total_profit': 2544.401878974939, 'position': 1, 'battery_charge': 80.0}\n",
      "{'total_reward': 2552.1345294499606, 'total_profit': 2544.401878974939, 'position': 2, 'battery_charge': 80.0}\n",
      "{'total_reward': 2552.1345294499606, 'total_profit': 2544.401878974939, 'position': 2, 'battery_charge': 80.0}\n",
      "{'total_reward': 3262.8275343028076, 'total_profit': 3251.5414188035215, 'position': 0, 'battery_charge': 60.0}\n",
      "{'total_reward': 3262.8275343028076, 'total_profit': 3251.5414188035215, 'position': 2, 'battery_charge': 60.0}\n",
      "{'total_reward': 3249.198574038059, 'total_profit': 3251.5414188035215, 'position': 1, 'battery_charge': 80.0}\n",
      "{'total_reward': 3250.198574038059, 'total_profit': 3251.5414188035215, 'position': 1, 'battery_charge': 80.0}\n",
      "{'total_reward': 3250.198574038059, 'total_profit': 3251.5414188035215, 'position': 2, 'battery_charge': 80.0}\n",
      "{'total_reward': 3251.198574038059, 'total_profit': 3251.5414188035215, 'position': 1, 'battery_charge': 80.0}\n",
      "{'total_reward': 3701.90232156936, 'total_profit': 3699.991647597166, 'position': 0, 'battery_charge': 60.0}\n",
      "{'total_reward': 4571.986028207106, 'total_profit': 4565.724935701724, 'position': 0, 'battery_charge': 40.0}\n",
      "{'total_reward': 4571.986028207106, 'total_profit': 4565.724935701724, 'position': 2, 'battery_charge': 40.0}\n",
      "{'total_reward': 4560.4492709175265, 'total_profit': 4565.724935701724, 'position': 1, 'battery_charge': 60.0}\n",
      "{'total_reward': 4559.49864213162, 'total_profit': 4565.724935701724, 'position': 1, 'battery_charge': 80.0}\n",
      "{'total_reward': 4560.49864213162, 'total_profit': 4565.724935701724, 'position': 1, 'battery_charge': 80.0}\n",
      "{'total_reward': 4560.49864213162, 'total_profit': 4565.724935701724, 'position': 2, 'battery_charge': 80.0}\n"
     ]
    },
    {
     "name": "stderr",
     "output_type": "stream",
     "text": [
      "\n"
     ]
    },
    {
     "ename": "IndexError",
     "evalue": "index 93 is out of bounds for axis 0 with size 93",
     "output_type": "error",
     "traceback": [
      "\u001b[1;31m---------------------------------------------------------------------------\u001b[0m",
      "\u001b[1;31mIndexError\u001b[0m                                Traceback (most recent call last)",
      "Cell \u001b[1;32mIn[4], line 5\u001b[0m\n\u001b[0;32m      3\u001b[0m \u001b[38;5;28;01mfor\u001b[39;00m _ \u001b[38;5;129;01min\u001b[39;00m tqdm(\u001b[38;5;28mrange\u001b[39m(\u001b[38;5;241m100\u001b[39m)):\n\u001b[0;32m      4\u001b[0m     action \u001b[38;5;241m=\u001b[39m env\u001b[38;5;241m.\u001b[39maction_space\u001b[38;5;241m.\u001b[39msample()\n\u001b[1;32m----> 5\u001b[0m     obs, reward, done, truncated, info \u001b[38;5;241m=\u001b[39m \u001b[43menv\u001b[49m\u001b[38;5;241;43m.\u001b[39;49m\u001b[43mstep\u001b[49m\u001b[43m(\u001b[49m\u001b[43maction\u001b[49m\u001b[43m)\u001b[49m\n\u001b[0;32m      6\u001b[0m     \u001b[38;5;28mprint\u001b[39m(info)\n\u001b[0;32m      7\u001b[0m     \u001b[38;5;28;01mif\u001b[39;00m done:\n",
      "File \u001b[1;32mc:\\users\\andrew deur\\documents\\nyu\\ds-ga 3001 reinforcement learning\\3001-rl-grid-battery-management-agent\\gym-power-trading\\gym_power_trading\\envs\\power_trading.py:50\u001b[0m, in \u001b[0;36mPowerTradingEnv.step\u001b[1;34m(self, action)\u001b[0m\n\u001b[0;32m     47\u001b[0m     \u001b[38;5;28mself\u001b[39m\u001b[38;5;241m.\u001b[39m_truncated \u001b[38;5;241m=\u001b[39m \u001b[38;5;28;01mTrue\u001b[39;00m\n\u001b[0;32m     49\u001b[0m \u001b[38;5;28mself\u001b[39m\u001b[38;5;241m.\u001b[39m_current_tick \u001b[38;5;241m+\u001b[39m\u001b[38;5;241m=\u001b[39m \u001b[38;5;241m1\u001b[39m\n\u001b[1;32m---> 50\u001b[0m step_reward, step_profit \u001b[38;5;241m=\u001b[39m \u001b[38;5;28;43mself\u001b[39;49m\u001b[38;5;241;43m.\u001b[39;49m\u001b[43m_calculate_reward\u001b[49m\u001b[43m(\u001b[49m\u001b[43maction\u001b[49m\u001b[43m)\u001b[49m\n\u001b[0;32m     51\u001b[0m \u001b[38;5;28mself\u001b[39m\u001b[38;5;241m.\u001b[39m_total_reward \u001b[38;5;241m+\u001b[39m\u001b[38;5;241m=\u001b[39m step_reward\n\u001b[0;32m     52\u001b[0m \u001b[38;5;28mself\u001b[39m\u001b[38;5;241m.\u001b[39m_total_profit \u001b[38;5;241m+\u001b[39m\u001b[38;5;241m=\u001b[39m step_profit\n",
      "File \u001b[1;32mc:\\users\\andrew deur\\documents\\nyu\\ds-ga 3001 reinforcement learning\\3001-rl-grid-battery-management-agent\\gym-power-trading\\gym_power_trading\\envs\\power_trading.py:114\u001b[0m, in \u001b[0;36mPowerTradingEnv._calculate_reward\u001b[1;34m(self, action)\u001b[0m\n\u001b[0;32m    111\u001b[0m     trade \u001b[38;5;241m=\u001b[39m \u001b[38;5;28;01mTrue\u001b[39;00m\n\u001b[0;32m    113\u001b[0m \u001b[38;5;28;01mif\u001b[39;00m trade:\n\u001b[1;32m--> 114\u001b[0m     current_price \u001b[38;5;241m=\u001b[39m \u001b[38;5;28;43mself\u001b[39;49m\u001b[38;5;241;43m.\u001b[39;49m\u001b[43mprices\u001b[49m\u001b[43m[\u001b[49m\u001b[38;5;28;43mself\u001b[39;49m\u001b[38;5;241;43m.\u001b[39;49m\u001b[43m_current_tick\u001b[49m\u001b[43m]\u001b[49m\n\u001b[0;32m    115\u001b[0m     \u001b[38;5;28;01mif\u001b[39;00m action \u001b[38;5;241m==\u001b[39m Actions\u001b[38;5;241m.\u001b[39mCharge\u001b[38;5;241m.\u001b[39mvalue:\n\u001b[0;32m    116\u001b[0m         \u001b[38;5;66;03m# Return overcharge=True if can't charge for full 1-hr tick \u001b[39;00m\n\u001b[0;32m    117\u001b[0m         duration, overcharge \u001b[38;5;241m=\u001b[39m \u001b[38;5;28mself\u001b[39m\u001b[38;5;241m.\u001b[39mbattery\u001b[38;5;241m.\u001b[39mcharge(current_price, duration\u001b[38;5;241m=\u001b[39m\u001b[38;5;241m1\u001b[39m) \n",
      "\u001b[1;31mIndexError\u001b[0m: index 93 is out of bounds for axis 0 with size 93"
     ]
    }
   ],
   "source": [
    "env = PowerTradingEnv(df=my_dataframe, window_size=3, frame_bound=(10, 100))\n",
    "obs = env.reset()\n",
    "for _ in tqdm(range(100)):\n",
    "    action = env.action_space.sample()\n",
    "    obs, reward, done, truncated, info = env.step(action)\n",
    "    print(info)\n",
    "    if done:\n",
    "        obs = env.reset()"
   ]
  }
 ],
 "metadata": {
  "kernelspec": {
   "display_name": "rl",
   "language": "python",
   "name": "python3"
  },
  "language_info": {
   "codemirror_mode": {
    "name": "ipython",
    "version": 3
   },
   "file_extension": ".py",
   "mimetype": "text/x-python",
   "name": "python",
   "nbconvert_exporter": "python",
   "pygments_lexer": "ipython3",
   "version": "3.9.18"
  }
 },
 "nbformat": 4,
 "nbformat_minor": 2
}
