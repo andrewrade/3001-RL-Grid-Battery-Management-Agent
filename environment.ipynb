{
 "cells": [
  {
   "cell_type": "code",
   "execution_count": 1,
   "metadata": {},
   "outputs": [],
   "source": [
    "import gym\n",
    "from gym_power_trading.envs import PowerTradingEnv\n",
    "import pandas as pd\n",
    "import numpy as np\n",
    "from pathlib import Path\n",
    "from tqdm import tqdm"
   ]
  },
  {
   "cell_type": "code",
   "execution_count": 2,
   "metadata": {},
   "outputs": [],
   "source": [
    "file_name = 'data\\AEP_PSGC1_AMP_long.h5'\n",
    "path = Path(file_name).resolve()\n",
    "uri = str(path)"
   ]
  },
  {
   "cell_type": "code",
   "execution_count": 3,
   "metadata": {},
   "outputs": [
    {
     "data": {
      "text/html": [
       "<div>\n",
       "<style scoped>\n",
       "    .dataframe tbody tr th:only-of-type {\n",
       "        vertical-align: middle;\n",
       "    }\n",
       "\n",
       "    .dataframe tbody tr th {\n",
       "        vertical-align: top;\n",
       "    }\n",
       "\n",
       "    .dataframe thead th {\n",
       "        text-align: right;\n",
       "    }\n",
       "</style>\n",
       "<table border=\"1\" class=\"dataframe\">\n",
       "  <thead>\n",
       "    <tr style=\"text-align: right;\">\n",
       "      <th></th>\n",
       "      <th></th>\n",
       "      <th></th>\n",
       "      <th></th>\n",
       "      <th></th>\n",
       "      <th>HE</th>\n",
       "    </tr>\n",
       "    <tr>\n",
       "      <th>MARKET_DAY</th>\n",
       "      <th>NODE</th>\n",
       "      <th>TYPE</th>\n",
       "      <th>VALUE</th>\n",
       "      <th>HourEnding</th>\n",
       "      <th></th>\n",
       "    </tr>\n",
       "  </thead>\n",
       "  <tbody>\n",
       "    <tr>\n",
       "      <th rowspan=\"5\" valign=\"top\">2021-07-01</th>\n",
       "      <th rowspan=\"5\" valign=\"top\">AEP.PSGC1.AMP</th>\n",
       "      <th rowspan=\"5\" valign=\"top\">Gennode</th>\n",
       "      <th rowspan=\"5\" valign=\"top\">LMP</th>\n",
       "      <th>1</th>\n",
       "      <td>25.88</td>\n",
       "    </tr>\n",
       "    <tr>\n",
       "      <th>2</th>\n",
       "      <td>24.88</td>\n",
       "    </tr>\n",
       "    <tr>\n",
       "      <th>3</th>\n",
       "      <td>23.45</td>\n",
       "    </tr>\n",
       "    <tr>\n",
       "      <th>4</th>\n",
       "      <td>22.47</td>\n",
       "    </tr>\n",
       "    <tr>\n",
       "      <th>5</th>\n",
       "      <td>21.73</td>\n",
       "    </tr>\n",
       "  </tbody>\n",
       "</table>\n",
       "</div>"
      ],
      "text/plain": [
       "                                                      HE\n",
       "MARKET_DAY NODE          TYPE    VALUE HourEnding       \n",
       "2021-07-01 AEP.PSGC1.AMP Gennode LMP   1           25.88\n",
       "                                       2           24.88\n",
       "                                       3           23.45\n",
       "                                       4           22.47\n",
       "                                       5           21.73"
      ]
     },
     "execution_count": 3,
     "metadata": {},
     "output_type": "execute_result"
    }
   ],
   "source": [
    "df = pd.read_hdf(uri)\n",
    "df.head()"
   ]
  },
  {
   "cell_type": "code",
   "execution_count": 2,
   "metadata": {},
   "outputs": [],
   "source": [
    "my_dataframe = pd.read_csv(\"RandomCloseValues.csv\")"
   ]
  },
  {
   "cell_type": "code",
   "execution_count": 3,
   "metadata": {},
   "outputs": [
    {
     "name": "stderr",
     "output_type": "stream",
     "text": [
      "100%|██████████| 100/100 [00:00<00:00, 24988.41it/s]"
     ]
    },
    {
     "name": "stdout",
     "output_type": "stream",
     "text": [
      "{'total_reward': 0.0, 'total_profit': 1.0, 'position': 2, 'battery_charge': 0}\n",
      "{'total_reward': 4.3857373046874955, 'total_profit': 1.0, 'position': 1, 'battery_charge': 20}\n",
      "{'total_reward': 38.14182579040527, 'total_profit': 1.0, 'position': 1, 'battery_charge': 40}\n",
      "{'total_reward': -698.0082337188721, 'total_profit': -735.1500595092774, 'position': 0, 'battery_charge': 20}\n",
      "{'total_reward': -1430.9992279815674, 'total_profit': -1468.1410537719728, 'position': 0, 'battery_charge': 0}\n",
      "{'total_reward': -1430.9992279815674, 'total_profit': -1468.1410537719728, 'position': 0, 'battery_charge': 0.0}\n",
      "{'total_reward': -1430.9992279815674, 'total_profit': -1468.1410537719728, 'position': 0, 'battery_charge': 0.0}\n",
      "{'total_reward': -1430.9992279815674, 'total_profit': -1468.1410537719728, 'position': 0, 'battery_charge': 0.0}\n",
      "{'total_reward': -1430.9992279815674, 'total_profit': -1468.1410537719728, 'position': 0, 'battery_charge': 0.0}\n",
      "{'total_reward': -1430.9992279815674, 'total_profit': -1468.1410537719728, 'position': 2, 'battery_charge': 0.0}\n",
      "{'total_reward': -1430.2686136245727, 'total_profit': -1468.1410537719728, 'position': 1, 'battery_charge': 20.0}\n",
      "{'total_reward': -1430.2686136245727, 'total_profit': -1468.1410537719728, 'position': 2, 'battery_charge': 20.0}\n",
      "{'total_reward': -1440.2847983169556, 'total_profit': -1468.1410537719728, 'position': 1, 'battery_charge': 40.0}\n",
      "{'total_reward': -1452.1417967605591, 'total_profit': -1468.1410537719728, 'position': 1, 'battery_charge': 60.0}\n",
      "{'total_reward': -1452.1417967605591, 'total_profit': -1468.1410537719728, 'position': 2, 'battery_charge': 60.0}\n",
      "{'total_reward': -1452.1417967605591, 'total_profit': -1468.1410537719728, 'position': 2, 'battery_charge': 60.0}\n",
      "{'total_reward': -1464.7252396011354, 'total_profit': -1468.1410537719728, 'position': 1, 'battery_charge': 80.0}\n",
      "{'total_reward': -1474.7252396011354, 'total_profit': -1468.1410537719728, 'position': 1, 'battery_charge': 80.0}\n",
      "{'total_reward': -1484.7252396011354, 'total_profit': -1468.1410537719728, 'position': 1, 'battery_charge': 80.0}\n",
      "{'total_reward': -1484.7252396011354, 'total_profit': -1468.1410537719728, 'position': 2, 'battery_charge': 80.0}\n",
      "{'total_reward': -1920.4769989395145, 'total_profit': -1903.8928131103517, 'position': 0, 'battery_charge': 60.0}\n",
      "{'total_reward': -1920.4769989395145, 'total_profit': -1903.8928131103517, 'position': 2, 'battery_charge': 60.0}\n",
      "{'total_reward': -1920.4769989395145, 'total_profit': -1903.8928131103517, 'position': 2, 'battery_charge': 60.0}\n",
      "{'total_reward': -766.0129608535772, 'total_profit': -749.4287750244143, 'position': 0, 'battery_charge': 40.0}\n",
      "{'total_reward': -792.5926977920537, 'total_profit': -749.4287750244143, 'position': 1, 'battery_charge': 60.0}\n",
      "{'total_reward': -792.5926977920537, 'total_profit': -749.4287750244143, 'position': 2, 'battery_charge': 60.0}\n",
      "{'total_reward': -759.0899087524419, 'total_profit': -749.4287750244143, 'position': 1, 'battery_charge': 80.0}\n",
      "{'total_reward': -256.02387481689516, 'total_profit': -246.36274108886755, 'position': 0, 'battery_charge': 60.0}\n",
      "{'total_reward': -256.02387481689516, 'total_profit': -246.36274108886755, 'position': 2, 'battery_charge': 60.0}\n",
      "{'total_reward': -256.02387481689516, 'total_profit': -246.36274108886755, 'position': 2, 'battery_charge': 60.0}\n",
      "{'total_reward': -256.02387481689516, 'total_profit': -246.36274108886755, 'position': 2, 'battery_charge': 60.0}\n",
      "{'total_reward': -1052.6468333816536, 'total_profit': -1042.985699653626, 'position': 0, 'battery_charge': 40.0}\n",
      "{'total_reward': -99.40608631134114, 'total_profit': -89.74495258331353, 'position': 0, 'battery_charge': 20.0}\n",
      "{'total_reward': -99.40608631134114, 'total_profit': -89.74495258331353, 'position': 2, 'battery_charge': 20.0}\n",
      "{'total_reward': 360.23846935272127, 'total_profit': 369.8996030807489, 'position': 0, 'battery_charge': 0.0}\n",
      "{'total_reward': 361.87736110687166, 'total_profit': 369.8996030807489, 'position': 1, 'battery_charge': 20.0}\n",
      "{'total_reward': 745.8133932113637, 'total_profit': 753.835635185241, 'position': 0, 'battery_charge': 0.0}\n",
      "{'total_reward': 745.8133932113637, 'total_profit': 753.835635185241, 'position': 0, 'battery_charge': 0.0}\n",
      "{'total_reward': 746.7879481887808, 'total_profit': 753.835635185241, 'position': 1, 'battery_charge': 20.0}\n",
      "{'total_reward': 710.5894826126089, 'total_profit': 753.835635185241, 'position': 1, 'battery_charge': 40.0}\n",
      "{'total_reward': 700.77619983673, 'total_profit': 753.835635185241, 'position': 1, 'battery_charge': 60.0}\n",
      "{'total_reward': 1225.7741551589957, 'total_profit': 1278.8335905075066, 'position': 0, 'battery_charge': 40.0}\n",
      "{'total_reward': 1661.4288487625113, 'total_profit': 1714.4882841110223, 'position': 0, 'battery_charge': 20.0}\n",
      "{'total_reward': 1503.2287907791128, 'total_profit': 1556.2882261276238, 'position': 0, 'battery_charge': 0.0}\n",
      "{'total_reward': 1503.2287907791128, 'total_profit': 1556.2882261276238, 'position': 0, 'battery_charge': 0.0}\n",
      "{'total_reward': 1503.2287907791128, 'total_profit': 1556.2882261276238, 'position': 2, 'battery_charge': 0.0}\n",
      "{'total_reward': 1504.2605051040641, 'total_profit': 1556.2882261276238, 'position': 1, 'battery_charge': 20.0}\n",
      "{'total_reward': 1512.4377761840813, 'total_profit': 1556.2882261276238, 'position': 1, 'battery_charge': 40.0}\n",
      "{'total_reward': 1909.0984054565422, 'total_profit': 1952.9488554000848, 'position': 0, 'battery_charge': 20.0}\n",
      "{'total_reward': 1897.0406762695304, 'total_profit': 1952.9488554000848, 'position': 1, 'battery_charge': 40.0}\n",
      "{'total_reward': 1897.0406762695304, 'total_profit': 1952.9488554000848, 'position': 2, 'battery_charge': 40.0}\n",
      "{'total_reward': 1861.1169274902336, 'total_profit': 1952.9488554000848, 'position': 1, 'battery_charge': 60.0}\n",
      "{'total_reward': 1870.0415963745108, 'total_profit': 1952.9488554000848, 'position': 1, 'battery_charge': 80.0}\n",
      "{'total_reward': 1870.0415963745108, 'total_profit': 1952.9488554000848, 'position': 2, 'battery_charge': 80.0}\n",
      "{'total_reward': 1870.0415963745108, 'total_profit': 1952.9488554000848, 'position': 2, 'battery_charge': 80.0}\n",
      "{'total_reward': 1870.0415963745108, 'total_profit': 1952.9488554000848, 'position': 2, 'battery_charge': 80.0}\n",
      "{'total_reward': 1860.0415963745108, 'total_profit': 1952.9488554000848, 'position': 1, 'battery_charge': 80.0}\n",
      "{'total_reward': 1860.0415963745108, 'total_profit': 1952.9488554000848, 'position': 2, 'battery_charge': 80.0}\n",
      "{'total_reward': 1860.0415963745108, 'total_profit': 1952.9488554000848, 'position': 2, 'battery_charge': 80.0}\n",
      "{'total_reward': 1850.0415963745108, 'total_profit': 1952.9488554000848, 'position': 1, 'battery_charge': 80.0}\n",
      "{'total_reward': 1850.0415963745108, 'total_profit': 1952.9488554000848, 'position': 2, 'battery_charge': 80.0}\n",
      "{'total_reward': 1850.0415963745108, 'total_profit': 1952.9488554000848, 'position': 2, 'battery_charge': 80.0}\n",
      "{'total_reward': 1850.0415963745108, 'total_profit': 1952.9488554000848, 'position': 2, 'battery_charge': 80.0}\n",
      "{'total_reward': 1840.0415963745108, 'total_profit': 1952.9488554000848, 'position': 1, 'battery_charge': 80.0}\n",
      "{'total_reward': 1840.0415963745108, 'total_profit': 1952.9488554000848, 'position': 2, 'battery_charge': 80.0}\n",
      "{'total_reward': 2490.5823373413077, 'total_profit': 2603.4895963668814, 'position': 0, 'battery_charge': 60.0}\n",
      "{'total_reward': 2518.577872142791, 'total_profit': 2603.4895963668814, 'position': 1, 'battery_charge': 80.0}\n",
      "{'total_reward': 2518.577872142791, 'total_profit': 2603.4895963668814, 'position': 2, 'battery_charge': 80.0}\n",
      "{'total_reward': 2518.577872142791, 'total_profit': 2603.4895963668814, 'position': 2, 'battery_charge': 80.0}\n",
      "{'total_reward': 2508.577872142791, 'total_profit': 2603.4895963668814, 'position': 1, 'battery_charge': 80.0}\n",
      "{'total_reward': 2498.577872142791, 'total_profit': 2603.4895963668814, 'position': 1, 'battery_charge': 80.0}\n",
      "{'total_reward': 2452.3739079093925, 'total_profit': 2557.285632133483, 'position': 0, 'battery_charge': 60.0}\n",
      "{'total_reward': 2474.238072948455, 'total_profit': 2557.285632133483, 'position': 1, 'battery_charge': 80.0}\n",
      "{'total_reward': 2464.238072948455, 'total_profit': 2557.285632133483, 'position': 1, 'battery_charge': 80.0}\n",
      "{'total_reward': 2464.238072948455, 'total_profit': 2557.285632133483, 'position': 2, 'battery_charge': 80.0}\n",
      "{'total_reward': 2464.238072948455, 'total_profit': 2557.285632133483, 'position': 2, 'battery_charge': 80.0}\n",
      "{'total_reward': 3174.9530479240407, 'total_profit': 3268.000607109069, 'position': 0, 'battery_charge': 60.0}\n",
      "{'total_reward': 3174.9530479240407, 'total_profit': 3268.000607109069, 'position': 2, 'battery_charge': 60.0}\n",
      "{'total_reward': 3161.321555156707, 'total_profit': 3268.000607109069, 'position': 1, 'battery_charge': 80.0}\n",
      "{'total_reward': 3151.321555156707, 'total_profit': 3268.000607109069, 'position': 1, 'battery_charge': 80.0}\n",
      "{'total_reward': 3151.321555156707, 'total_profit': 3268.000607109069, 'position': 2, 'battery_charge': 80.0}\n",
      "{'total_reward': 3141.321555156707, 'total_profit': 3268.000607109069, 'position': 1, 'battery_charge': 80.0}\n",
      "{'total_reward': 3592.0759527397145, 'total_profit': 3718.7550046920765, 'position': 0, 'battery_charge': 60.0}\n",
      "{'total_reward': 4462.210309429168, 'total_profit': 4588.88936138153, 'position': 0, 'battery_charge': 40.0}\n",
      "{'total_reward': 4462.210309429168, 'total_profit': 4588.88936138153, 'position': 2, 'battery_charge': 40.0}\n",
      "{'total_reward': 4450.667028331755, 'total_profit': 4588.88936138153, 'position': 1, 'battery_charge': 60.0}\n",
      "{'total_reward': 4449.712927532195, 'total_profit': 4588.88936138153, 'position': 1, 'battery_charge': 80.0}\n",
      "{'total_reward': 4439.712927532195, 'total_profit': 4588.88936138153, 'position': 1, 'battery_charge': 80.0}\n",
      "{'total_reward': 4439.712927532195, 'total_profit': 4588.88936138153, 'position': 2, 'battery_charge': 80.0}\n",
      "{'total_reward': 0.0, 'total_profit': 1.0, 'position': 2, 'battery_charge': 0}\n",
      "{'total_reward': 4.3857373046874955, 'total_profit': 1.0, 'position': 1, 'battery_charge': 20}\n",
      "{'total_reward': 38.14182579040527, 'total_profit': 1.0, 'position': 1, 'battery_charge': 40}\n",
      "{'total_reward': -698.0082337188721, 'total_profit': -735.1500595092774, 'position': 0, 'battery_charge': 20}\n",
      "{'total_reward': -1430.9992279815674, 'total_profit': -1468.1410537719728, 'position': 0, 'battery_charge': 0}\n",
      "{'total_reward': -1430.9992279815674, 'total_profit': -1468.1410537719728, 'position': 0, 'battery_charge': 0.0}\n",
      "{'total_reward': -1430.9992279815674, 'total_profit': -1468.1410537719728, 'position': 0, 'battery_charge': 0.0}\n",
      "{'total_reward': -1430.9992279815674, 'total_profit': -1468.1410537719728, 'position': 0, 'battery_charge': 0.0}\n",
      "{'total_reward': -1430.9992279815674, 'total_profit': -1468.1410537719728, 'position': 0, 'battery_charge': 0.0}\n",
      "{'total_reward': -1430.9992279815674, 'total_profit': -1468.1410537719728, 'position': 2, 'battery_charge': 0.0}\n",
      "{'total_reward': -1430.2686136245727, 'total_profit': -1468.1410537719728, 'position': 1, 'battery_charge': 20.0}\n"
     ]
    },
    {
     "name": "stderr",
     "output_type": "stream",
     "text": [
      "\n"
     ]
    }
   ],
   "source": [
    "env = PowerTradingEnv(df=my_dataframe, window_size=3, frame_bound=(10, 100))\n",
    "obs = env.reset()\n",
    "for _ in tqdm(range(100)):\n",
    "    action = env.action_space.sample()\n",
    "    obs, reward, done, truncated, info = env.step(action)\n",
    "    print(info)\n",
    "    if truncated:\n",
    "        obs = env.reset()"
   ]
  },
  {
   "cell_type": "code",
   "execution_count": 4,
   "metadata": {},
   "outputs": [
    {
     "name": "stdout",
     "output_type": "stream",
     "text": [
      "WARNING:tensorflow:From c:\\Users\\Andrew Deur\\anaconda3\\envs\\rl_project\\lib\\site-packages\\keras\\src\\losses.py:2976: The name tf.losses.sparse_softmax_cross_entropy is deprecated. Please use tf.compat.v1.losses.sparse_softmax_cross_entropy instead.\n",
      "\n"
     ]
    }
   ],
   "source": [
    "from stable_baselines3 import DQN\n",
    "from stable_baselines3.common.env_util import make_vec_env"
   ]
  },
  {
   "cell_type": "code",
   "execution_count": 5,
   "metadata": {},
   "outputs": [],
   "source": [
    "venv = make_vec_env(lambda: PowerTradingEnv(df=my_dataframe, window_size=3, frame_bound=(10, 100)))"
   ]
  },
  {
   "cell_type": "markdown",
   "metadata": {},
   "source": [
    "### Need to Modify self._observation_space each time it is modified, otherwise broadcast error"
   ]
  },
  {
   "cell_type": "code",
   "execution_count": 8,
   "metadata": {},
   "outputs": [
    {
     "ename": "ValueError",
     "evalue": "could not broadcast input array from shape (8,) into shape (3,2)",
     "output_type": "error",
     "traceback": [
      "\u001b[1;31m---------------------------------------------------------------------------\u001b[0m",
      "\u001b[1;31mValueError\u001b[0m                                Traceback (most recent call last)",
      "Cell \u001b[1;32mIn[8], line 2\u001b[0m\n\u001b[0;32m      1\u001b[0m model \u001b[38;5;241m=\u001b[39m DQN(\u001b[38;5;124m'\u001b[39m\u001b[38;5;124mMlpPolicy\u001b[39m\u001b[38;5;124m'\u001b[39m, venv)\n\u001b[1;32m----> 2\u001b[0m \u001b[43mmodel\u001b[49m\u001b[38;5;241;43m.\u001b[39;49m\u001b[43mlearn\u001b[49m\u001b[43m(\u001b[49m\u001b[43mtotal_timesteps\u001b[49m\u001b[38;5;241;43m=\u001b[39;49m\u001b[38;5;241;43m10000\u001b[39;49m\u001b[43m,\u001b[49m\n\u001b[0;32m      3\u001b[0m \u001b[43m            \u001b[49m\u001b[43mprogress_bar\u001b[49m\u001b[38;5;241;43m=\u001b[39;49m\u001b[38;5;28;43;01mTrue\u001b[39;49;00m\u001b[43m)\u001b[49m\n",
      "File \u001b[1;32mc:\\Users\\Andrew Deur\\anaconda3\\envs\\rl_project\\lib\\site-packages\\stable_baselines3\\dqn\\dqn.py:267\u001b[0m, in \u001b[0;36mDQN.learn\u001b[1;34m(self, total_timesteps, callback, log_interval, tb_log_name, reset_num_timesteps, progress_bar)\u001b[0m\n\u001b[0;32m    258\u001b[0m \u001b[38;5;28;01mdef\u001b[39;00m \u001b[38;5;21mlearn\u001b[39m(\n\u001b[0;32m    259\u001b[0m     \u001b[38;5;28mself\u001b[39m: SelfDQN,\n\u001b[0;32m    260\u001b[0m     total_timesteps: \u001b[38;5;28mint\u001b[39m,\n\u001b[1;32m   (...)\u001b[0m\n\u001b[0;32m    265\u001b[0m     progress_bar: \u001b[38;5;28mbool\u001b[39m \u001b[38;5;241m=\u001b[39m \u001b[38;5;28;01mFalse\u001b[39;00m,\n\u001b[0;32m    266\u001b[0m ) \u001b[38;5;241m-\u001b[39m\u001b[38;5;241m>\u001b[39m SelfDQN:\n\u001b[1;32m--> 267\u001b[0m     \u001b[38;5;28;01mreturn\u001b[39;00m \u001b[38;5;28;43msuper\u001b[39;49m\u001b[43m(\u001b[49m\u001b[43m)\u001b[49m\u001b[38;5;241;43m.\u001b[39;49m\u001b[43mlearn\u001b[49m\u001b[43m(\u001b[49m\n\u001b[0;32m    268\u001b[0m \u001b[43m        \u001b[49m\u001b[43mtotal_timesteps\u001b[49m\u001b[38;5;241;43m=\u001b[39;49m\u001b[43mtotal_timesteps\u001b[49m\u001b[43m,\u001b[49m\n\u001b[0;32m    269\u001b[0m \u001b[43m        \u001b[49m\u001b[43mcallback\u001b[49m\u001b[38;5;241;43m=\u001b[39;49m\u001b[43mcallback\u001b[49m\u001b[43m,\u001b[49m\n\u001b[0;32m    270\u001b[0m \u001b[43m        \u001b[49m\u001b[43mlog_interval\u001b[49m\u001b[38;5;241;43m=\u001b[39;49m\u001b[43mlog_interval\u001b[49m\u001b[43m,\u001b[49m\n\u001b[0;32m    271\u001b[0m \u001b[43m        \u001b[49m\u001b[43mtb_log_name\u001b[49m\u001b[38;5;241;43m=\u001b[39;49m\u001b[43mtb_log_name\u001b[49m\u001b[43m,\u001b[49m\n\u001b[0;32m    272\u001b[0m \u001b[43m        \u001b[49m\u001b[43mreset_num_timesteps\u001b[49m\u001b[38;5;241;43m=\u001b[39;49m\u001b[43mreset_num_timesteps\u001b[49m\u001b[43m,\u001b[49m\n\u001b[0;32m    273\u001b[0m \u001b[43m        \u001b[49m\u001b[43mprogress_bar\u001b[49m\u001b[38;5;241;43m=\u001b[39;49m\u001b[43mprogress_bar\u001b[49m\u001b[43m,\u001b[49m\n\u001b[0;32m    274\u001b[0m \u001b[43m    \u001b[49m\u001b[43m)\u001b[49m\n",
      "File \u001b[1;32mc:\\Users\\Andrew Deur\\anaconda3\\envs\\rl_project\\lib\\site-packages\\stable_baselines3\\common\\off_policy_algorithm.py:314\u001b[0m, in \u001b[0;36mOffPolicyAlgorithm.learn\u001b[1;34m(self, total_timesteps, callback, log_interval, tb_log_name, reset_num_timesteps, progress_bar)\u001b[0m\n\u001b[0;32m    305\u001b[0m \u001b[38;5;28;01mdef\u001b[39;00m \u001b[38;5;21mlearn\u001b[39m(\n\u001b[0;32m    306\u001b[0m     \u001b[38;5;28mself\u001b[39m: SelfOffPolicyAlgorithm,\n\u001b[0;32m    307\u001b[0m     total_timesteps: \u001b[38;5;28mint\u001b[39m,\n\u001b[1;32m   (...)\u001b[0m\n\u001b[0;32m    312\u001b[0m     progress_bar: \u001b[38;5;28mbool\u001b[39m \u001b[38;5;241m=\u001b[39m \u001b[38;5;28;01mFalse\u001b[39;00m,\n\u001b[0;32m    313\u001b[0m ) \u001b[38;5;241m-\u001b[39m\u001b[38;5;241m>\u001b[39m SelfOffPolicyAlgorithm:\n\u001b[1;32m--> 314\u001b[0m     total_timesteps, callback \u001b[38;5;241m=\u001b[39m \u001b[38;5;28;43mself\u001b[39;49m\u001b[38;5;241;43m.\u001b[39;49m\u001b[43m_setup_learn\u001b[49m\u001b[43m(\u001b[49m\n\u001b[0;32m    315\u001b[0m \u001b[43m        \u001b[49m\u001b[43mtotal_timesteps\u001b[49m\u001b[43m,\u001b[49m\n\u001b[0;32m    316\u001b[0m \u001b[43m        \u001b[49m\u001b[43mcallback\u001b[49m\u001b[43m,\u001b[49m\n\u001b[0;32m    317\u001b[0m \u001b[43m        \u001b[49m\u001b[43mreset_num_timesteps\u001b[49m\u001b[43m,\u001b[49m\n\u001b[0;32m    318\u001b[0m \u001b[43m        \u001b[49m\u001b[43mtb_log_name\u001b[49m\u001b[43m,\u001b[49m\n\u001b[0;32m    319\u001b[0m \u001b[43m        \u001b[49m\u001b[43mprogress_bar\u001b[49m\u001b[43m,\u001b[49m\n\u001b[0;32m    320\u001b[0m \u001b[43m    \u001b[49m\u001b[43m)\u001b[49m\n\u001b[0;32m    322\u001b[0m     callback\u001b[38;5;241m.\u001b[39mon_training_start(\u001b[38;5;28mlocals\u001b[39m(), \u001b[38;5;28mglobals\u001b[39m())\n\u001b[0;32m    324\u001b[0m     \u001b[38;5;28;01massert\u001b[39;00m \u001b[38;5;28mself\u001b[39m\u001b[38;5;241m.\u001b[39menv \u001b[38;5;129;01mis\u001b[39;00m \u001b[38;5;129;01mnot\u001b[39;00m \u001b[38;5;28;01mNone\u001b[39;00m, \u001b[38;5;124m\"\u001b[39m\u001b[38;5;124mYou must set the environment before calling learn()\u001b[39m\u001b[38;5;124m\"\u001b[39m\n",
      "File \u001b[1;32mc:\\Users\\Andrew Deur\\anaconda3\\envs\\rl_project\\lib\\site-packages\\stable_baselines3\\common\\off_policy_algorithm.py:297\u001b[0m, in \u001b[0;36mOffPolicyAlgorithm._setup_learn\u001b[1;34m(self, total_timesteps, callback, reset_num_timesteps, tb_log_name, progress_bar)\u001b[0m\n\u001b[0;32m    290\u001b[0m \u001b[38;5;28;01mif\u001b[39;00m (\n\u001b[0;32m    291\u001b[0m     \u001b[38;5;28mself\u001b[39m\u001b[38;5;241m.\u001b[39maction_noise \u001b[38;5;129;01mis\u001b[39;00m \u001b[38;5;129;01mnot\u001b[39;00m \u001b[38;5;28;01mNone\u001b[39;00m\n\u001b[0;32m    292\u001b[0m     \u001b[38;5;129;01mand\u001b[39;00m \u001b[38;5;28mself\u001b[39m\u001b[38;5;241m.\u001b[39menv\u001b[38;5;241m.\u001b[39mnum_envs \u001b[38;5;241m>\u001b[39m \u001b[38;5;241m1\u001b[39m\n\u001b[0;32m    293\u001b[0m     \u001b[38;5;129;01mand\u001b[39;00m \u001b[38;5;129;01mnot\u001b[39;00m \u001b[38;5;28misinstance\u001b[39m(\u001b[38;5;28mself\u001b[39m\u001b[38;5;241m.\u001b[39maction_noise, VectorizedActionNoise)\n\u001b[0;32m    294\u001b[0m ):\n\u001b[0;32m    295\u001b[0m     \u001b[38;5;28mself\u001b[39m\u001b[38;5;241m.\u001b[39maction_noise \u001b[38;5;241m=\u001b[39m VectorizedActionNoise(\u001b[38;5;28mself\u001b[39m\u001b[38;5;241m.\u001b[39maction_noise, \u001b[38;5;28mself\u001b[39m\u001b[38;5;241m.\u001b[39menv\u001b[38;5;241m.\u001b[39mnum_envs)\n\u001b[1;32m--> 297\u001b[0m \u001b[38;5;28;01mreturn\u001b[39;00m \u001b[38;5;28;43msuper\u001b[39;49m\u001b[43m(\u001b[49m\u001b[43m)\u001b[49m\u001b[38;5;241;43m.\u001b[39;49m\u001b[43m_setup_learn\u001b[49m\u001b[43m(\u001b[49m\n\u001b[0;32m    298\u001b[0m \u001b[43m    \u001b[49m\u001b[43mtotal_timesteps\u001b[49m\u001b[43m,\u001b[49m\n\u001b[0;32m    299\u001b[0m \u001b[43m    \u001b[49m\u001b[43mcallback\u001b[49m\u001b[43m,\u001b[49m\n\u001b[0;32m    300\u001b[0m \u001b[43m    \u001b[49m\u001b[43mreset_num_timesteps\u001b[49m\u001b[43m,\u001b[49m\n\u001b[0;32m    301\u001b[0m \u001b[43m    \u001b[49m\u001b[43mtb_log_name\u001b[49m\u001b[43m,\u001b[49m\n\u001b[0;32m    302\u001b[0m \u001b[43m    \u001b[49m\u001b[43mprogress_bar\u001b[49m\u001b[43m,\u001b[49m\n\u001b[0;32m    303\u001b[0m \u001b[43m\u001b[49m\u001b[43m)\u001b[49m\n",
      "File \u001b[1;32mc:\\Users\\Andrew Deur\\anaconda3\\envs\\rl_project\\lib\\site-packages\\stable_baselines3\\common\\base_class.py:423\u001b[0m, in \u001b[0;36mBaseAlgorithm._setup_learn\u001b[1;34m(self, total_timesteps, callback, reset_num_timesteps, tb_log_name, progress_bar)\u001b[0m\n\u001b[0;32m    421\u001b[0m \u001b[38;5;28;01mif\u001b[39;00m reset_num_timesteps \u001b[38;5;129;01mor\u001b[39;00m \u001b[38;5;28mself\u001b[39m\u001b[38;5;241m.\u001b[39m_last_obs \u001b[38;5;129;01mis\u001b[39;00m \u001b[38;5;28;01mNone\u001b[39;00m:\n\u001b[0;32m    422\u001b[0m     \u001b[38;5;28;01massert\u001b[39;00m \u001b[38;5;28mself\u001b[39m\u001b[38;5;241m.\u001b[39menv \u001b[38;5;129;01mis\u001b[39;00m \u001b[38;5;129;01mnot\u001b[39;00m \u001b[38;5;28;01mNone\u001b[39;00m\n\u001b[1;32m--> 423\u001b[0m     \u001b[38;5;28mself\u001b[39m\u001b[38;5;241m.\u001b[39m_last_obs \u001b[38;5;241m=\u001b[39m \u001b[38;5;28;43mself\u001b[39;49m\u001b[38;5;241;43m.\u001b[39;49m\u001b[43menv\u001b[49m\u001b[38;5;241;43m.\u001b[39;49m\u001b[43mreset\u001b[49m\u001b[43m(\u001b[49m\u001b[43m)\u001b[49m  \u001b[38;5;66;03m# type: ignore[assignment]\u001b[39;00m\n\u001b[0;32m    424\u001b[0m     \u001b[38;5;28mself\u001b[39m\u001b[38;5;241m.\u001b[39m_last_episode_starts \u001b[38;5;241m=\u001b[39m np\u001b[38;5;241m.\u001b[39mones((\u001b[38;5;28mself\u001b[39m\u001b[38;5;241m.\u001b[39menv\u001b[38;5;241m.\u001b[39mnum_envs,), dtype\u001b[38;5;241m=\u001b[39m\u001b[38;5;28mbool\u001b[39m)\n\u001b[0;32m    425\u001b[0m     \u001b[38;5;66;03m# Retrieve unnormalized observation for saving into the buffer\u001b[39;00m\n",
      "File \u001b[1;32mc:\\Users\\Andrew Deur\\anaconda3\\envs\\rl_project\\lib\\site-packages\\stable_baselines3\\common\\vec_env\\dummy_vec_env.py:78\u001b[0m, in \u001b[0;36mDummyVecEnv.reset\u001b[1;34m(self)\u001b[0m\n\u001b[0;32m     76\u001b[0m     maybe_options \u001b[38;5;241m=\u001b[39m {\u001b[38;5;124m\"\u001b[39m\u001b[38;5;124moptions\u001b[39m\u001b[38;5;124m\"\u001b[39m: \u001b[38;5;28mself\u001b[39m\u001b[38;5;241m.\u001b[39m_options[env_idx]} \u001b[38;5;28;01mif\u001b[39;00m \u001b[38;5;28mself\u001b[39m\u001b[38;5;241m.\u001b[39m_options[env_idx] \u001b[38;5;28;01melse\u001b[39;00m {}\n\u001b[0;32m     77\u001b[0m     obs, \u001b[38;5;28mself\u001b[39m\u001b[38;5;241m.\u001b[39mreset_infos[env_idx] \u001b[38;5;241m=\u001b[39m \u001b[38;5;28mself\u001b[39m\u001b[38;5;241m.\u001b[39menvs[env_idx]\u001b[38;5;241m.\u001b[39mreset(seed\u001b[38;5;241m=\u001b[39m\u001b[38;5;28mself\u001b[39m\u001b[38;5;241m.\u001b[39m_seeds[env_idx], \u001b[38;5;241m*\u001b[39m\u001b[38;5;241m*\u001b[39mmaybe_options)\n\u001b[1;32m---> 78\u001b[0m     \u001b[38;5;28;43mself\u001b[39;49m\u001b[38;5;241;43m.\u001b[39;49m\u001b[43m_save_obs\u001b[49m\u001b[43m(\u001b[49m\u001b[43menv_idx\u001b[49m\u001b[43m,\u001b[49m\u001b[43m \u001b[49m\u001b[43mobs\u001b[49m\u001b[43m)\u001b[49m\n\u001b[0;32m     79\u001b[0m \u001b[38;5;66;03m# Seeds and options are only used once\u001b[39;00m\n\u001b[0;32m     80\u001b[0m \u001b[38;5;28mself\u001b[39m\u001b[38;5;241m.\u001b[39m_reset_seeds()\n",
      "File \u001b[1;32mc:\\Users\\Andrew Deur\\anaconda3\\envs\\rl_project\\lib\\site-packages\\stable_baselines3\\common\\vec_env\\dummy_vec_env.py:108\u001b[0m, in \u001b[0;36mDummyVecEnv._save_obs\u001b[1;34m(self, env_idx, obs)\u001b[0m\n\u001b[0;32m    106\u001b[0m \u001b[38;5;28;01mfor\u001b[39;00m key \u001b[38;5;129;01min\u001b[39;00m \u001b[38;5;28mself\u001b[39m\u001b[38;5;241m.\u001b[39mkeys:\n\u001b[0;32m    107\u001b[0m     \u001b[38;5;28;01mif\u001b[39;00m key \u001b[38;5;129;01mis\u001b[39;00m \u001b[38;5;28;01mNone\u001b[39;00m:\n\u001b[1;32m--> 108\u001b[0m         \u001b[38;5;28;43mself\u001b[39;49m\u001b[38;5;241;43m.\u001b[39;49m\u001b[43mbuf_obs\u001b[49m\u001b[43m[\u001b[49m\u001b[43mkey\u001b[49m\u001b[43m]\u001b[49m\u001b[43m[\u001b[49m\u001b[43menv_idx\u001b[49m\u001b[43m]\u001b[49m \u001b[38;5;241m=\u001b[39m obs\n\u001b[0;32m    109\u001b[0m     \u001b[38;5;28;01melse\u001b[39;00m:\n\u001b[0;32m    110\u001b[0m         \u001b[38;5;28mself\u001b[39m\u001b[38;5;241m.\u001b[39mbuf_obs[key][env_idx] \u001b[38;5;241m=\u001b[39m obs[key]\n",
      "\u001b[1;31mValueError\u001b[0m: could not broadcast input array from shape (8,) into shape (3,2)"
     ]
    }
   ],
   "source": [
    "model = DQN('MlpPolicy', venv)\n",
    "model.learn(total_timesteps=10000,\n",
    "            progress_bar=True)"
   ]
  }
 ],
 "metadata": {
  "kernelspec": {
   "display_name": "rl",
   "language": "python",
   "name": "python3"
  },
  "language_info": {
   "codemirror_mode": {
    "name": "ipython",
    "version": 3
   },
   "file_extension": ".py",
   "mimetype": "text/x-python",
   "name": "python",
   "nbconvert_exporter": "python",
   "pygments_lexer": "ipython3",
   "version": "3.9.18"
  }
 },
 "nbformat": 4,
 "nbformat_minor": 2
}
