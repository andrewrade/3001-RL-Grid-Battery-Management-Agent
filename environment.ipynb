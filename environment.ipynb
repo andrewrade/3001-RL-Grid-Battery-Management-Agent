{
 "cells": [
  {
   "cell_type": "code",
   "execution_count": 1,
   "metadata": {},
   "outputs": [],
   "source": [
    "import gym\n",
    "from gym_power_trading.envs import PowerTradingEnv\n",
    "import pandas as pd\n",
    "import numpy as np\n",
    "from pathlib import Path\n",
    "from tqdm import tqdm"
   ]
  },
  {
   "cell_type": "code",
   "execution_count": 3,
   "metadata": {},
   "outputs": [],
   "source": [
    "file_name = 'data\\AEP_PSGC1_AMP_long.h5'\n",
    "path = Path(file_name).resolve()\n",
    "uri = str(path)"
   ]
  },
  {
   "cell_type": "code",
   "execution_count": 2,
   "metadata": {},
   "outputs": [
    {
     "ename": "NameError",
     "evalue": "name 'uri' is not defined",
     "output_type": "error",
     "traceback": [
      "\u001b[1;31m---------------------------------------------------------------------------\u001b[0m",
      "\u001b[1;31mNameError\u001b[0m                                 Traceback (most recent call last)",
      "Cell \u001b[1;32mIn[2], line 1\u001b[0m\n\u001b[1;32m----> 1\u001b[0m df \u001b[38;5;241m=\u001b[39m pd\u001b[38;5;241m.\u001b[39mread_hdf(\u001b[43muri\u001b[49m)\n\u001b[0;32m      2\u001b[0m df\u001b[38;5;241m.\u001b[39mhead()\n",
      "\u001b[1;31mNameError\u001b[0m: name 'uri' is not defined"
     ]
    }
   ],
   "source": [
    "df = pd.read_hdf(uri)\n",
    "df.head()"
   ]
  },
  {
   "cell_type": "code",
   "execution_count": 2,
   "metadata": {},
   "outputs": [],
   "source": [
    "my_dataframe = pd.read_csv(\"RandomCloseValues.csv\")"
   ]
  },
  {
   "cell_type": "code",
   "execution_count": 3,
   "metadata": {},
   "outputs": [
    {
     "name": "stderr",
     "output_type": "stream",
     "text": [
      "100%|██████████| 100/100 [00:00<00:00, 24982.45it/s]"
     ]
    },
    {
     "name": "stdout",
     "output_type": "stream",
     "text": [
      "{'total_reward': 5.109017944335932, 'total_profit': 0.0, 'position': 1, 'battery_charge': 20}\n",
      "{'total_reward': -372.0057281494139, 'total_profit': -375.2291723632811, 'position': 0, 'battery_charge': 0}\n",
      "{'total_reward': -372.0057281494139, 'total_profit': -375.2291723632811, 'position': 0, 'battery_charge': 0.0}\n",
      "{'total_reward': -372.0057281494139, 'total_profit': -375.2291723632811, 'position': 0, 'battery_charge': 0.0}\n",
      "{'total_reward': -371.03617843627916, 'total_profit': -375.2291723632811, 'position': 1, 'battery_charge': 20.0}\n",
      "{'total_reward': -371.03617843627916, 'total_profit': -375.2291723632811, 'position': 2, 'battery_charge': 20.0}\n",
      "{'total_reward': -371.03617843627916, 'total_profit': -375.2291723632811, 'position': 2, 'battery_charge': 20.0}\n",
      "{'total_reward': -381.8406784057616, 'total_profit': -375.2291723632811, 'position': 1, 'battery_charge': 40.0}\n",
      "{'total_reward': -447.18241119384754, 'total_profit': -440.2441964874266, 'position': 0, 'battery_charge': 20.0}\n",
      "{'total_reward': -447.18241119384754, 'total_profit': -440.2441964874266, 'position': 2, 'battery_charge': 20.0}\n",
      "{'total_reward': -815.9946983337402, 'total_profit': -807.2124221916197, 'position': 0, 'battery_charge': 0.0}\n",
      "{'total_reward': -814.4591625213623, 'total_profit': -807.2124221916197, 'position': 1, 'battery_charge': 20.0}\n",
      "{'total_reward': -816.4353472137451, 'total_profit': -807.2124221916197, 'position': 1, 'battery_charge': 40.0}\n",
      "{'total_reward': -816.4353472137451, 'total_profit': -807.2124221916197, 'position': 2, 'battery_charge': 40.0}\n",
      "{'total_reward': -844.2929405975342, 'total_profit': -807.2124221916197, 'position': 1, 'battery_charge': 60.0}\n",
      "{'total_reward': -821.0103192138672, 'total_profit': -807.2124221916197, 'position': 1, 'battery_charge': 80.0}\n",
      "{'total_reward': -831.0103192138672, 'total_profit': -807.2124221916197, 'position': 1, 'battery_charge': 80.0}\n",
      "{'total_reward': -831.0103192138672, 'total_profit': -807.2124221916197, 'position': 2, 'battery_charge': 80.0}\n",
      "{'total_reward': -1603.1094898986817, 'total_profit': -1575.45109702301, 'position': 0, 'battery_charge': 60.0}\n",
      "{'total_reward': -1253.0197682189942, 'total_profit': -1227.111823951721, 'position': 0, 'battery_charge': 40.0}\n",
      "{'total_reward': -1776.971527557373, 'total_profit': -1748.4438244934079, 'position': 0, 'battery_charge': 20.0}\n",
      "{'total_reward': -1776.971527557373, 'total_profit': -1748.4438244934079, 'position': 2, 'battery_charge': 20.0}\n",
      "{'total_reward': -744.2003788757324, 'total_profit': -720.8365315551755, 'position': 0, 'battery_charge': 0.0}\n",
      "{'total_reward': -739.1135807800293, 'total_profit': -720.8365315551755, 'position': 1, 'battery_charge': 20.0}\n",
      "{'total_reward': -1155.3188420104982, 'total_profit': -1134.9607664794921, 'position': 0, 'battery_charge': 0.0}\n",
      "{'total_reward': -1155.3188420104982, 'total_profit': -1134.9607664794921, 'position': 2, 'battery_charge': 0.0}\n",
      "{'total_reward': -1155.3188420104982, 'total_profit': -1134.9607664794921, 'position': 0, 'battery_charge': 0.0}\n",
      "{'total_reward': -1155.3188420104982, 'total_profit': -1134.9607664794921, 'position': 0, 'battery_charge': 0.0}\n",
      "{'total_reward': -1155.3188420104982, 'total_profit': -1134.9607664794921, 'position': 2, 'battery_charge': 0.0}\n",
      "{'total_reward': -1154.672665100098, 'total_profit': -1134.9607664794921, 'position': 1, 'battery_charge': 20.0}\n",
      "{'total_reward': -1171.7003576660159, 'total_profit': -1134.9607664794921, 'position': 1, 'battery_charge': 40.0}\n",
      "{'total_reward': -1171.7003576660159, 'total_profit': -1134.9607664794921, 'position': 2, 'battery_charge': 40.0}\n",
      "{'total_reward': -1171.7003576660159, 'total_profit': -1134.9607664794921, 'position': 2, 'battery_charge': 40.0}\n",
      "{'total_reward': -1166.8383560180666, 'total_profit': -1134.9607664794921, 'position': 1, 'battery_charge': 60.0}\n",
      "{'total_reward': -1192.6005838012697, 'total_profit': -1134.9607664794921, 'position': 1, 'battery_charge': 80.0}\n",
      "{'total_reward': -1202.6005838012697, 'total_profit': -1134.9607664794921, 'position': 1, 'battery_charge': 80.0}\n",
      "{'total_reward': -1212.6005838012697, 'total_profit': -1134.9607664794921, 'position': 1, 'battery_charge': 80.0}\n",
      "{'total_reward': -1222.6005838012697, 'total_profit': -1134.9607664794921, 'position': 1, 'battery_charge': 80.0}\n",
      "{'total_reward': -1662.6916833496098, 'total_profit': -1572.8514105300903, 'position': 0, 'battery_charge': 60.0}\n",
      "{'total_reward': -533.3223718261722, 'total_profit': -449.12894556427, 'position': 0, 'battery_charge': 40.0}\n",
      "{'total_reward': 207.14328369140583, 'total_profit': 287.6343816757202, 'position': 0, 'battery_charge': 20.0}\n",
      "{'total_reward': 182.88338592529254, 'total_profit': 287.6343816757202, 'position': 1, 'battery_charge': 40.0}\n",
      "{'total_reward': 182.88338592529254, 'total_profit': 287.6343816757202, 'position': 2, 'battery_charge': 40.0}\n",
      "{'total_reward': -15.116672058105848, 'total_profit': 90.62432398223879, 'position': 0, 'battery_charge': 20.0}\n",
      "{'total_reward': 434.83180206298795, 'total_profit': 538.3230557327271, 'position': 0, 'battery_charge': 0.0}\n",
      "{'total_reward': 434.83180206298795, 'total_profit': 538.3230557327271, 'position': 0, 'battery_charge': 0.0}\n",
      "{'total_reward': 434.83180206298795, 'total_profit': 538.3230557327271, 'position': 0, 'battery_charge': 0.0}\n",
      "{'total_reward': 435.069073143005, 'total_profit': 538.3230557327271, 'position': 1, 'battery_charge': 20.0}\n",
      "{'total_reward': 435.069073143005, 'total_profit': 538.3230557327271, 'position': 2, 'battery_charge': 20.0}\n",
      "{'total_reward': 435.069073143005, 'total_profit': 538.3230557327271, 'position': 2, 'battery_charge': 20.0}\n",
      "{'total_reward': 882.5671322250364, 'total_profit': 983.5836245193482, 'position': 0, 'battery_charge': 0.0}\n",
      "{'total_reward': 882.5671322250364, 'total_profit': 983.5836245193482, 'position': 0, 'battery_charge': 0.0}\n",
      "{'total_reward': 884.4418011093137, 'total_profit': 983.5836245193482, 'position': 1, 'battery_charge': 20.0}\n",
      "{'total_reward': 889.908350563049, 'total_profit': 983.5836245193482, 'position': 1, 'battery_charge': 40.0}\n",
      "{'total_reward': 877.0587430191036, 'total_profit': 983.5836245193482, 'position': 1, 'battery_charge': 60.0}\n",
      "{'total_reward': 897.7363205337521, 'total_profit': 983.5836245193482, 'position': 1, 'battery_charge': 80.0}\n",
      "{'total_reward': 1806.7302414321894, 'total_profit': 1888.0325758132935, 'position': 0, 'battery_charge': 60.0}\n",
      "{'total_reward': 1806.7302414321894, 'total_profit': 1888.0325758132935, 'position': 2, 'battery_charge': 60.0}\n",
      "{'total_reward': 1760.0915512466424, 'total_profit': 1888.0325758132935, 'position': 1, 'battery_charge': 80.0}\n",
      "{'total_reward': 1750.0915512466424, 'total_profit': 1888.0325758132935, 'position': 1, 'battery_charge': 80.0}\n",
      "{'total_reward': 1750.0915512466424, 'total_profit': 1888.0325758132935, 'position': 2, 'battery_charge': 80.0}\n",
      "{'total_reward': 720.1357852840417, 'total_profit': 863.2265886805058, 'position': 0, 'battery_charge': 60.0}\n",
      "{'total_reward': 699.0896427059167, 'total_profit': 863.2265886805058, 'position': 1, 'battery_charge': 80.0}\n",
      "{'total_reward': 699.0896427059167, 'total_profit': 863.2265886805058, 'position': 2, 'battery_charge': 80.0}\n",
      "{'total_reward': 689.0896427059167, 'total_profit': 863.2265886805058, 'position': 1, 'battery_charge': 80.0}\n",
      "{'total_reward': 1021.6303836727136, 'total_profit': 1194.1046259424686, 'position': 0, 'battery_charge': 60.0}\n",
      "{'total_reward': 1061.5459184741967, 'total_profit': 1194.1046259424686, 'position': 1, 'battery_charge': 80.0}\n",
      "{'total_reward': 832.077375993728, 'total_profit': 965.7834261744022, 'position': 0, 'battery_charge': 60.0}\n",
      "{'total_reward': 117.41548558235104, 'total_profit': 254.69484521508207, 'position': 0, 'battery_charge': 40.0}\n",
      "{'total_reward': 92.93514470100338, 'total_profit': 254.69484521508207, 'position': 1, 'battery_charge': 60.0}\n",
      "{'total_reward': 102.93136662483154, 'total_profit': 264.6410860292911, 'position': 0, 'battery_charge': 40.0}\n",
      "{'total_reward': 102.93136662483154, 'total_profit': 264.6410860292911, 'position': 2, 'battery_charge': 40.0}\n",
      "{'total_reward': 102.93136662483154, 'total_profit': 264.6410860292911, 'position': 2, 'battery_charge': 40.0}\n",
      "{'total_reward': 102.93136662483154, 'total_profit': 264.6410860292911, 'position': 2, 'battery_charge': 40.0}\n",
      "{'total_reward': 123.04303318977296, 'total_profit': 264.6410860292911, 'position': 1, 'battery_charge': 60.0}\n",
      "{'total_reward': 108.75241612434327, 'total_profit': 264.6410860292911, 'position': 1, 'battery_charge': 80.0}\n",
      "{'total_reward': 98.75241612434327, 'total_profit': 264.6410860292911, 'position': 1, 'battery_charge': 80.0}\n",
      "{'total_reward': 98.75241612434327, 'total_profit': 264.6410860292911, 'position': 2, 'battery_charge': 80.0}\n",
      "{'total_reward': 98.75241612434327, 'total_profit': 264.6410860292911, 'position': 2, 'battery_charge': 80.0}\n",
      "{'total_reward': 98.75241612434327, 'total_profit': 264.6410860292911, 'position': 2, 'battery_charge': 80.0}\n",
      "{'total_reward': 88.75241612434327, 'total_profit': 264.6410860292911, 'position': 1, 'battery_charge': 80.0}\n",
      "{'total_reward': 436.9225455188745, 'total_profit': 611.0703647768496, 'position': 0, 'battery_charge': 60.0}\n",
      "{'total_reward': 436.9225455188745, 'total_profit': 611.0703647768496, 'position': 2, 'battery_charge': 60.0}\n",
      "{'total_reward': 436.9225455188745, 'total_profit': 611.0703647768496, 'position': 2, 'battery_charge': 60.0}\n",
      "{'total_reward': 251.11371678352288, 'total_profit': 426.1905801851748, 'position': 0, 'battery_charge': 40.0}\n",
      "{'total_reward': 251.11371678352288, 'total_profit': 426.1905801851748, 'position': 2, 'battery_charge': 40.0}\n",
      "{'total_reward': 251.11371678352288, 'total_profit': 426.1905801851748, 'position': 2, 'battery_charge': 40.0}\n",
      "{'total_reward': -871.4480321025856, 'total_profit': -690.7583599565031, 'position': 0, 'battery_charge': 20.0}\n",
      "{'total_reward': -847.2271747112281, 'total_profit': -690.7583599565031, 'position': 1, 'battery_charge': 40.0}\n",
      "{'total_reward': 0.0, 'total_profit': 0.0, 'position': 2, 'battery_charge': 0}\n",
      "{'total_reward': 0.0, 'total_profit': 0.0, 'position': 0, 'battery_charge': 0.0}\n",
      "{'total_reward': 1.1160884857177749, 'total_profit': 0.0, 'position': 1, 'battery_charge': 20.0}\n",
      "{'total_reward': 1.1160884857177749, 'total_profit': 0.0, 'position': 2, 'battery_charge': 20.0}\n",
      "{'total_reward': -79.07490577697757, 'total_profit': -79.79003929138186, 'position': 0, 'battery_charge': 0.0}\n",
      "{'total_reward': -79.07490577697757, 'total_profit': -79.79003929138186, 'position': 2, 'battery_charge': 0.0}\n",
      "{'total_reward': -76.31054893493655, 'total_profit': -79.79003929138186, 'position': 1, 'battery_charge': 20.0}\n",
      "{'total_reward': -69.15504890441898, 'total_profit': -79.79003929138186, 'position': 1, 'battery_charge': 40.0}\n",
      "{'total_reward': -69.15504890441898, 'total_profit': -79.79003929138186, 'position': 2, 'battery_charge': 40.0}\n",
      "{'total_reward': -69.15504890441898, 'total_profit': -79.79003929138186, 'position': 2, 'battery_charge': 40.0}\n",
      "{'total_reward': -44.644434547424346, 'total_profit': -79.79003929138186, 'position': 1, 'battery_charge': 60.0}\n"
     ]
    },
    {
     "name": "stderr",
     "output_type": "stream",
     "text": [
      "\n"
     ]
    }
   ],
   "source": [
    "env = PowerTradingEnv(df=my_dataframe, window_size=3, frame_bound=(10, 100))\n",
    "obs = env.reset()\n",
    "for _ in tqdm(range(100)):\n",
    "    action = env.action_space.sample()\n",
    "    obs, reward, done, truncated, info = env.step(action)\n",
    "    print(info)\n",
    "    if truncated:\n",
    "        obs = env.reset()"
   ]
  },
  {
   "cell_type": "code",
   "execution_count": 3,
   "metadata": {},
   "outputs": [
    {
     "name": "stderr",
     "output_type": "stream",
     "text": [
      "DEBUG:tensorflow:Falling back to TensorFlow client; we recommended you install the Cloud TPU client directly with pip install cloud-tpu-client.\n",
      "DEBUG:h5py._conv:Creating converter from 7 to 5\n",
      "DEBUG:h5py._conv:Creating converter from 5 to 7\n",
      "DEBUG:h5py._conv:Creating converter from 7 to 5\n",
      "DEBUG:h5py._conv:Creating converter from 5 to 7\n",
      "WARNING:tensorflow:From c:\\Users\\Andrew Deur\\anaconda3\\envs\\rl_project\\lib\\site-packages\\keras\\src\\losses.py:2976: The name tf.losses.sparse_softmax_cross_entropy is deprecated. Please use tf.compat.v1.losses.sparse_softmax_cross_entropy instead.\n",
      "\n",
      "DEBUG:matplotlib:matplotlib data path: c:\\Users\\Andrew Deur\\anaconda3\\envs\\rl_project\\lib\\site-packages\\matplotlib\\mpl-data\n",
      "DEBUG:matplotlib:CONFIGDIR=C:\\Users\\Andrew Deur\\.matplotlib\n",
      "DEBUG:matplotlib:interactive is False\n",
      "DEBUG:matplotlib:platform is win32\n",
      "DEBUG:matplotlib:CACHEDIR=C:\\Users\\Andrew Deur\\.matplotlib\n",
      "DEBUG:matplotlib.font_manager:Using fontManager instance from C:\\Users\\Andrew Deur\\.matplotlib\\fontlist-v330.json\n"
     ]
    }
   ],
   "source": [
    "from stable_baselines3 import DQN\n",
    "from stable_baselines3.common.env_util import make_vec_env"
   ]
  },
  {
   "cell_type": "code",
   "execution_count": 4,
   "metadata": {},
   "outputs": [],
   "source": [
    "venv = make_vec_env(lambda: PowerTradingEnv(df=my_dataframe, window_size=3, frame_bound=(10, 100)))"
   ]
  },
  {
   "cell_type": "markdown",
   "metadata": {},
   "source": [
    "### Need to Modify pre-processing function, otherwise self._observation_space produces mismatch produces broadcast error during learning"
   ]
  },
  {
   "cell_type": "code",
   "execution_count": 6,
   "metadata": {},
   "outputs": [
    {
     "data": {
      "application/vnd.jupyter.widget-view+json": {
       "model_id": "0c5d9266fce143f2b9585641732c020a",
       "version_major": 2,
       "version_minor": 0
      },
      "text/plain": [
       "Output()"
      ]
     },
     "metadata": {},
     "output_type": "display_data"
    },
    {
     "data": {
      "text/html": [
       "<pre style=\"white-space:pre;overflow-x:auto;line-height:normal;font-family:Menlo,'DejaVu Sans Mono',consolas,'Courier New',monospace\"></pre>\n"
      ],
      "text/plain": []
     },
     "metadata": {},
     "output_type": "display_data"
    },
    {
     "data": {
      "text/html": [
       "<pre style=\"white-space:pre;overflow-x:auto;line-height:normal;font-family:Menlo,'DejaVu Sans Mono',consolas,'Courier New',monospace\">\n",
       "</pre>\n"
      ],
      "text/plain": [
       "\n"
      ]
     },
     "metadata": {},
     "output_type": "display_data"
    },
    {
     "data": {
      "text/plain": [
       "<stable_baselines3.dqn.dqn.DQN at 0x1ff8cace400>"
      ]
     },
     "execution_count": 6,
     "metadata": {},
     "output_type": "execute_result"
    },
    {
     "name": "stderr",
     "output_type": "stream",
     "text": [
      "DEBUG:Comm:handle_msg[0c5d9266fce143f2b9585641732c020a]({'header': {'date': datetime.datetime(2024, 4, 17, 23, 14, 29, 65000, tzinfo=tzutc()), 'msg_id': '4d79de46-9047-4694-8f13-0800491c4843', 'msg_type': 'comm_msg', 'session': '8079b571-7e49-4f21-9294-c5284bf6eb23', 'username': '264293a7-f70f-496f-9a7e-4703cf023644', 'version': '5.2'}, 'msg_id': '4d79de46-9047-4694-8f13-0800491c4843', 'msg_type': 'comm_msg', 'parent_header': {}, 'metadata': {}, 'content': {'comm_id': '0c5d9266fce143f2b9585641732c020a', 'data': {'method': 'update', 'state': {'outputs': [{'output_type': 'display_data', 'data': {'text/plain': '\\x1b[35m  81%\\x1b[0m \\x1b[38;2;249;38;114m━━━━━━━━━━━━━━━━━━━━━━━━━━━━━━━━━━━━━━━━━━━━━━━━\\x1b[0m\\x1b[38;5;237m╺\\x1b[0m\\x1b[38;5;237m━━━━━━━━━━━\\x1b[0m \\x1b[32m8,076/10,000 \\x1b[0m [ \\x1b[33m0:00:00\\x1b[0m < \\x1b[36m0:00:01\\x1b[0m , \\x1b[31m9,994 it/s\\x1b[0m ]\\n', 'text/html': '<pre style=\"white-space:pre;overflow-x:auto;line-height:normal;font-family:Menlo,\\'DejaVu Sans Mono\\',consolas,\\'Courier New\\',monospace\"><span style=\"color: #800080; text-decoration-color: #800080\">  81%</span> <span style=\"color: #f92672; text-decoration-color: #f92672\">━━━━━━━━━━━━━━━━━━━━━━━━━━━━━━━━━━━━━━━━━━━━━━━━</span><span style=\"color: #3a3a3a; text-decoration-color: #3a3a3a\">╺━━━━━━━━━━━</span> <span style=\"color: #008000; text-decoration-color: #008000\">8,076/10,000 </span> [ <span style=\"color: #808000; text-decoration-color: #808000\">0:00:00</span> &lt; <span style=\"color: #008080; text-decoration-color: #008080\">0:00:01</span> , <span style=\"color: #800000; text-decoration-color: #800000\">9,994 it/s</span> ]\\n</pre>\\n'}, 'metadata': {}}]}, 'buffer_paths': []}}, 'buffers': []})\n"
     ]
    }
   ],
   "source": [
    "model = DQN('MlpPolicy', venv)\n",
    "model.learn(total_timesteps=10000,\n",
    "            log_interval=1000,\n",
    "            progress_bar=True)"
   ]
  }
 ],
 "metadata": {
  "kernelspec": {
   "display_name": "rl",
   "language": "python",
   "name": "python3"
  },
  "language_info": {
   "codemirror_mode": {
    "name": "ipython",
    "version": 3
   },
   "file_extension": ".py",
   "mimetype": "text/x-python",
   "name": "python",
   "nbconvert_exporter": "python",
   "pygments_lexer": "ipython3",
   "version": "3.9.18"
  }
 },
 "nbformat": 4,
 "nbformat_minor": 2
}
