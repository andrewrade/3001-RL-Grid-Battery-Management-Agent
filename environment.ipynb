{
 "cells": [
  {
   "cell_type": "code",
   "execution_count": 1,
   "metadata": {},
   "outputs": [],
   "source": [
    "import gym\n",
    "from gym_power_trading.envs import PowerTradingEnv\n",
    "import pandas as pd\n",
    "import numpy as np\n",
    "from pathlib import Path\n",
    "from tqdm import tqdm"
   ]
  },
  {
   "cell_type": "code",
   "execution_count": 2,
   "metadata": {},
   "outputs": [],
   "source": [
    "file_name = 'data\\AEP_PSGC1_AMP_long.h5'\n",
    "path = Path(file_name).resolve()\n",
    "uri = str(path)"
   ]
  },
  {
   "cell_type": "code",
   "execution_count": 3,
   "metadata": {},
   "outputs": [
    {
     "data": {
      "text/html": [
       "<div>\n",
       "<style scoped>\n",
       "    .dataframe tbody tr th:only-of-type {\n",
       "        vertical-align: middle;\n",
       "    }\n",
       "\n",
       "    .dataframe tbody tr th {\n",
       "        vertical-align: top;\n",
       "    }\n",
       "\n",
       "    .dataframe thead th {\n",
       "        text-align: right;\n",
       "    }\n",
       "</style>\n",
       "<table border=\"1\" class=\"dataframe\">\n",
       "  <thead>\n",
       "    <tr style=\"text-align: right;\">\n",
       "      <th></th>\n",
       "      <th></th>\n",
       "      <th></th>\n",
       "      <th></th>\n",
       "      <th></th>\n",
       "      <th>HE</th>\n",
       "    </tr>\n",
       "    <tr>\n",
       "      <th>MARKET_DAY</th>\n",
       "      <th>NODE</th>\n",
       "      <th>TYPE</th>\n",
       "      <th>VALUE</th>\n",
       "      <th>HourEnding</th>\n",
       "      <th></th>\n",
       "    </tr>\n",
       "  </thead>\n",
       "  <tbody>\n",
       "    <tr>\n",
       "      <th rowspan=\"5\" valign=\"top\">2021-07-01</th>\n",
       "      <th rowspan=\"5\" valign=\"top\">AEP.PSGC1.AMP</th>\n",
       "      <th rowspan=\"5\" valign=\"top\">Gennode</th>\n",
       "      <th rowspan=\"5\" valign=\"top\">LMP</th>\n",
       "      <th>1</th>\n",
       "      <td>25.88</td>\n",
       "    </tr>\n",
       "    <tr>\n",
       "      <th>2</th>\n",
       "      <td>24.88</td>\n",
       "    </tr>\n",
       "    <tr>\n",
       "      <th>3</th>\n",
       "      <td>23.45</td>\n",
       "    </tr>\n",
       "    <tr>\n",
       "      <th>4</th>\n",
       "      <td>22.47</td>\n",
       "    </tr>\n",
       "    <tr>\n",
       "      <th>5</th>\n",
       "      <td>21.73</td>\n",
       "    </tr>\n",
       "  </tbody>\n",
       "</table>\n",
       "</div>"
      ],
      "text/plain": [
       "                                                      HE\n",
       "MARKET_DAY NODE          TYPE    VALUE HourEnding       \n",
       "2021-07-01 AEP.PSGC1.AMP Gennode LMP   1           25.88\n",
       "                                       2           24.88\n",
       "                                       3           23.45\n",
       "                                       4           22.47\n",
       "                                       5           21.73"
      ]
     },
     "execution_count": 3,
     "metadata": {},
     "output_type": "execute_result"
    }
   ],
   "source": [
    "df = pd.read_hdf(uri)\n",
    "df.head()"
   ]
  },
  {
   "cell_type": "code",
   "execution_count": 2,
   "metadata": {},
   "outputs": [],
   "source": [
    "my_dataframe = pd.read_csv(\"RandomCloseValues.csv\")"
   ]
  },
  {
   "cell_type": "code",
   "execution_count": 3,
   "metadata": {},
   "outputs": [
    {
     "name": "stderr",
     "output_type": "stream",
     "text": [
      "100%|██████████| 100/100 [00:00<00:00, 19066.75it/s]"
     ]
    },
    {
     "name": "stdout",
     "output_type": "stream",
     "text": [
      "{'total_reward': 5.109017944335932, 'total_profit': 0.0, 'position': 1, 'battery_charge': 20}\n",
      "{'total_reward': -372.0057281494139, 'total_profit': -375.2291723632811, 'position': 0, 'battery_charge': 0}\n",
      "{'total_reward': -370.88963966369613, 'total_profit': -375.2291723632811, 'position': 1, 'battery_charge': 20}\n",
      "{'total_reward': -454.2396991729735, 'total_profit': -458.1624815750121, 'position': 0, 'battery_charge': 0}\n",
      "{'total_reward': -454.2396991729735, 'total_profit': -458.1624815750121, 'position': 2, 'battery_charge': 0}\n",
      "{'total_reward': -454.2396991729735, 'total_profit': -458.1624815750121, 'position': 2, 'battery_charge': 0}\n",
      "{'total_reward': -454.2396991729735, 'total_profit': -458.1624815750121, 'position': 2, 'battery_charge': 0}\n",
      "{'total_reward': -454.2396991729735, 'total_profit': -458.1624815750121, 'position': 0, 'battery_charge': 0.0}\n",
      "{'total_reward': -454.2396991729735, 'total_profit': -458.1624815750121, 'position': 0, 'battery_charge': 0.0}\n",
      "{'total_reward': -454.2396991729735, 'total_profit': -458.1624815750121, 'position': 2, 'battery_charge': 0.0}\n",
      "{'total_reward': -453.50908481597884, 'total_profit': -458.1624815750121, 'position': 1, 'battery_charge': 20.0}\n",
      "{'total_reward': -162.81980106353745, 'total_profit': -168.92664424133295, 'position': 0, 'battery_charge': 0.0}\n",
      "{'total_reward': -162.81980106353745, 'total_profit': -168.92664424133295, 'position': 0, 'battery_charge': 0.0}\n",
      "{'total_reward': -162.81980106353745, 'total_profit': -168.92664424133295, 'position': 2, 'battery_charge': 0.0}\n",
      "{'total_reward': -158.6873944473265, 'total_profit': -168.92664424133295, 'position': 1, 'battery_charge': 20.0}\n",
      "{'total_reward': -1412.3398221206664, 'total_profit': -1416.310809776306, 'position': 0, 'battery_charge': 0.0}\n",
      "{'total_reward': -1409.6332649612425, 'total_profit': -1416.310809776306, 'position': 1, 'battery_charge': 20.0}\n",
      "{'total_reward': -1410.6347200393675, 'total_profit': -1416.310809776306, 'position': 1, 'battery_charge': 40.0}\n",
      "{'total_reward': -1410.6347200393675, 'total_profit': -1416.310809776306, 'position': 2, 'battery_charge': 40.0}\n",
      "{'total_reward': -1410.6347200393675, 'total_profit': -1416.310809776306, 'position': 2, 'battery_charge': 40.0}\n",
      "{'total_reward': -1410.6347200393675, 'total_profit': -1416.310809776306, 'position': 2, 'battery_charge': 40.0}\n",
      "{'total_reward': -1410.6347200393675, 'total_profit': -1416.310809776306, 'position': 2, 'battery_charge': 40.0}\n",
      "{'total_reward': -677.6635713577269, 'total_profit': -687.0045168380738, 'position': 0, 'battery_charge': 20.0}\n",
      "{'total_reward': -677.6635713577269, 'total_profit': -687.0045168380738, 'position': 2, 'battery_charge': 20.0}\n",
      "{'total_reward': -677.6635713577269, 'total_profit': -687.0045168380738, 'position': 2, 'battery_charge': 20.0}\n",
      "{'total_reward': -662.9749475479125, 'total_profit': -687.0045168380738, 'position': 1, 'battery_charge': 40.0}\n",
      "{'total_reward': -639.2121585083007, 'total_profit': -687.0045168380738, 'position': 1, 'battery_charge': 60.0}\n",
      "{'total_reward': 58.653875427246135, 'total_profit': 7.372186927795383, 'position': 0, 'battery_charge': 40.0}\n",
      "{'total_reward': 268.3588986206055, 'total_profit': 216.02868500518792, 'position': 0, 'battery_charge': 20.0}\n",
      "{'total_reward': 268.3588986206055, 'total_profit': 216.02868500518792, 'position': 2, 'battery_charge': 20.0}\n",
      "{'total_reward': 261.6712060546875, 'total_profit': 216.02868500518792, 'position': 1, 'battery_charge': 40.0}\n",
      "{'total_reward': -526.1517525100708, 'total_profit': -567.8551587667464, 'position': 0, 'battery_charge': 20.0}\n",
      "{'total_reward': 435.8889945602418, 'total_profit': 389.3753845682146, 'position': 0, 'battery_charge': 0.0}\n",
      "{'total_reward': 437.25099620819105, 'total_profit': 389.3753845682146, 'position': 1, 'battery_charge': 20.0}\n",
      "{'total_reward': 437.25099620819105, 'total_profit': 389.3753845682146, 'position': 2, 'battery_charge': 20.0}\n",
      "{'total_reward': 515.8731611251833, 'total_profit': 467.60443866062184, 'position': 0, 'battery_charge': 0.0}\n",
      "{'total_reward': 515.8731611251833, 'total_profit': 467.60443866062184, 'position': 2, 'battery_charge': 0.0}\n",
      "{'total_reward': 518.7521329879762, 'total_profit': 467.60443866062184, 'position': 1, 'battery_charge': 20.0}\n",
      "{'total_reward': 538.7666879653932, 'total_profit': 467.60443866062184, 'position': 1, 'battery_charge': 40.0}\n",
      "{'total_reward': 501.4982223892213, 'total_profit': 467.60443866062184, 'position': 1, 'battery_charge': 60.0}\n",
      "{'total_reward': 489.15493961334244, 'total_profit': 467.60443866062184, 'position': 1, 'battery_charge': 80.0}\n",
      "{'total_reward': 479.15493961334244, 'total_profit': 467.60443866062184, 'position': 1, 'battery_charge': 80.0}\n",
      "{'total_reward': 965.4096332168581, 'total_profit': 951.4278587961198, 'position': 0, 'battery_charge': 60.0}\n",
      "{'total_reward': 857.8095752334596, 'total_profit': 844.3658011026383, 'position': 0, 'battery_charge': 40.0}\n",
      "{'total_reward': 1398.1580493545532, 'total_profit': 1382.0125328531267, 'position': 0, 'battery_charge': 20.0}\n",
      "{'total_reward': 1426.5487995147705, 'total_profit': 1382.0125328531267, 'position': 1, 'battery_charge': 40.0}\n",
      "{'total_reward': 1073.714513015747, 'total_profit': 1030.9424177865983, 'position': 0, 'battery_charge': 20.0}\n",
      "{'total_reward': 1090.191784095764, 'total_profit': 1030.9424177865983, 'position': 1, 'battery_charge': 40.0}\n",
      "{'total_reward': 1320.852413368225, 'total_profit': 1260.449743912697, 'position': 0, 'battery_charge': 20.0}\n",
      "{'total_reward': 1320.852413368225, 'total_profit': 1260.449743912697, 'position': 2, 'battery_charge': 20.0}\n",
      "{'total_reward': 1320.852413368225, 'total_profit': 1260.449743912697, 'position': 2, 'battery_charge': 20.0}\n",
      "{'total_reward': 1320.852413368225, 'total_profit': 1260.449743912697, 'position': 2, 'battery_charge': 20.0}\n",
      "{'total_reward': 1614.359035682678, 'total_profit': 1552.4888331155778, 'position': 0, 'battery_charge': 0.0}\n",
      "{'total_reward': 1615.8355851364133, 'total_profit': 1552.4888331155778, 'position': 1, 'battery_charge': 20.0}\n",
      "{'total_reward': 2109.8277360153197, 'total_profit': 2044.0110232400896, 'position': 0, 'battery_charge': 0.0}\n",
      "{'total_reward': 2109.8277360153197, 'total_profit': 2044.0110232400896, 'position': 0, 'battery_charge': 0.0}\n",
      "{'total_reward': 2114.048039970398, 'total_profit': 2044.0110232400896, 'position': 1, 'battery_charge': 20.0}\n",
      "{'total_reward': 574.3493259048462, 'total_profit': 512.0108027448657, 'position': 0, 'battery_charge': 0.0}\n",
      "{'total_reward': 574.3493259048462, 'total_profit': 512.0108027448657, 'position': 0, 'battery_charge': 0.0}\n",
      "{'total_reward': 574.3493259048462, 'total_profit': 512.0108027448657, 'position': 2, 'battery_charge': 0.0}\n",
      "{'total_reward': 574.3493259048462, 'total_profit': 512.0108027448657, 'position': 0, 'battery_charge': 0.0}\n",
      "{'total_reward': 574.3771142029763, 'total_profit': 512.0108027448657, 'position': 1, 'battery_charge': 20.0}\n",
      "{'total_reward': 536.0409716248513, 'total_profit': 512.0108027448657, 'position': 1, 'battery_charge': 40.0}\n",
      "{'total_reward': 1085.5557238221168, 'total_profit': 1058.777981181145, 'position': 0, 'battery_charge': 20.0}\n",
      "{'total_reward': 1085.5557238221168, 'total_profit': 1058.777981181145, 'position': 2, 'battery_charge': 20.0}\n",
      "{'total_reward': 1763.8964647889136, 'total_profit': 1733.7270184431077, 'position': 0, 'battery_charge': 0.0}\n",
      "{'total_reward': 1763.8964647889136, 'total_profit': 1733.7270184431077, 'position': 2, 'battery_charge': 0.0}\n",
      "{'total_reward': 1763.8964647889136, 'total_profit': 1733.7270184431077, 'position': 0, 'battery_charge': 0.0}\n",
      "{'total_reward': 1763.8964647889136, 'total_profit': 1733.7270184431077, 'position': 0, 'battery_charge': 0.0}\n",
      "{'total_reward': 1763.8964647889136, 'total_profit': 1733.7270184431077, 'position': 2, 'battery_charge': 0.0}\n",
      "{'total_reward': 1767.176653692722, 'total_profit': 1733.7270184431077, 'position': 1, 'battery_charge': 20.0}\n",
      "{'total_reward': 1784.306851904392, 'total_profit': 1733.7270184431077, 'position': 1, 'battery_charge': 40.0}\n",
      "{'total_reward': 907.023551123142, 'total_profit': 860.830134165764, 'position': 0, 'battery_charge': 20.0}\n",
      "{'total_reward': 524.5881965088843, 'total_profit': 480.30695632457747, 'position': 0, 'battery_charge': 0.0}\n",
      "{'total_reward': 524.5881965088843, 'total_profit': 480.30695632457747, 'position': 0, 'battery_charge': 0.0}\n",
      "{'total_reward': 528.4275794434545, 'total_profit': 480.30695632457747, 'position': 1, 'battery_charge': 20.0}\n",
      "{'total_reward': 267.5425544190405, 'total_profit': 220.72635642528553, 'position': 0, 'battery_charge': 0.0}\n",
      "{'total_reward': 267.5425544190405, 'total_profit': 220.72635642528553, 'position': 2, 'battery_charge': 0.0}\n",
      "{'total_reward': 267.5425544190405, 'total_profit': 220.72635642528553, 'position': 2, 'battery_charge': 0.0}\n",
      "{'total_reward': 267.5425544190405, 'total_profit': 220.72635642528553, 'position': 2, 'battery_charge': 0.0}\n",
      "{'total_reward': 267.5425544190405, 'total_profit': 220.72635642528553, 'position': 0, 'battery_charge': 0.0}\n",
      "{'total_reward': 267.5425544190405, 'total_profit': 220.72635642528553, 'position': 0, 'battery_charge': 0.0}\n",
      "{'total_reward': 267.5425544190405, 'total_profit': 220.72635642528553, 'position': 2, 'battery_charge': 0.0}\n",
      "{'total_reward': 267.5425544190405, 'total_profit': 220.72635642528553, 'position': 2, 'battery_charge': 0.0}\n",
      "{'total_reward': 267.5425544190405, 'total_profit': 220.72635642528553, 'position': 0, 'battery_charge': 0.0}\n",
      "{'total_reward': 267.5425544190405, 'total_profit': 220.72635642528553, 'position': 0, 'battery_charge': 0.0}\n",
      "{'total_reward': 267.5425544190405, 'total_profit': 220.72635642528553, 'position': 0, 'battery_charge': 0.0}\n",
      "{'total_reward': 267.5425544190405, 'total_profit': 220.72635642528553, 'position': 0, 'battery_charge': 0.0}\n",
      "{'total_reward': 268.11341181039796, 'total_profit': 220.72635642528553, 'position': 1, 'battery_charge': 20.0}\n",
      "{'total_reward': 0.0, 'total_profit': 0.0, 'position': 0, 'battery_charge': 0.0}\n",
      "{'total_reward': 0.0, 'total_profit': 0.0, 'position': 2, 'battery_charge': 0.0}\n",
      "{'total_reward': 0.0, 'total_profit': 0.0, 'position': 2, 'battery_charge': 0.0}\n",
      "{'total_reward': 0.9575029754638678, 'total_profit': 0.0, 'position': 1, 'battery_charge': 20.0}\n",
      "{'total_reward': -15.033491287231456, 'total_profit': -15.911039291381847, 'position': 0, 'battery_charge': 0.0}\n",
      "{'total_reward': -13.42771614074708, 'total_profit': -15.911039291381847, 'position': 1, 'battery_charge': 20.0}\n",
      "{'total_reward': -22.273359298706062, 'total_profit': -15.911039291381847, 'position': 1, 'battery_charge': 40.0}\n",
      "{'total_reward': -30.983359909057675, 'total_profit': -24.577489898681705, 'position': 0, 'battery_charge': 20.0}\n",
      "{'total_reward': -22.966273269653378, 'total_profit': -24.577489898681705, 'position': 1, 'battery_charge': 40.0}\n",
      "{'total_reward': -22.966273269653378, 'total_profit': -24.577489898681705, 'position': 2, 'battery_charge': 40.0}\n",
      "{'total_reward': -486.77856040954595, 'total_profit': -486.0707156028749, 'position': 0, 'battery_charge': 20.0}\n"
     ]
    },
    {
     "name": "stderr",
     "output_type": "stream",
     "text": [
      "\n"
     ]
    }
   ],
   "source": [
    "env = PowerTradingEnv(df=my_dataframe, window_size=3, frame_bound=(10, 100))\n",
    "obs = env.reset()\n",
    "for _ in tqdm(range(100)):\n",
    "    action = env.action_space.sample()\n",
    "    obs, reward, done, truncated, info = env.step(action)\n",
    "    print(info)\n",
    "    if truncated:\n",
    "        obs = env.reset()"
   ]
  },
  {
   "cell_type": "code",
   "execution_count": 4,
   "metadata": {},
   "outputs": [
    {
     "name": "stderr",
     "output_type": "stream",
     "text": [
      "DEBUG:tensorflow:Falling back to TensorFlow client; we recommended you install the Cloud TPU client directly with pip install cloud-tpu-client.\n",
      "DEBUG:h5py._conv:Creating converter from 7 to 5\n",
      "DEBUG:h5py._conv:Creating converter from 5 to 7\n",
      "DEBUG:h5py._conv:Creating converter from 7 to 5\n",
      "DEBUG:h5py._conv:Creating converter from 5 to 7\n",
      "WARNING:tensorflow:From c:\\Users\\Andrew Deur\\anaconda3\\envs\\rl_project\\lib\\site-packages\\keras\\src\\losses.py:2976: The name tf.losses.sparse_softmax_cross_entropy is deprecated. Please use tf.compat.v1.losses.sparse_softmax_cross_entropy instead.\n",
      "\n"
     ]
    }
   ],
   "source": [
    "from stable_baselines3 import DQN\n",
    "from stable_baselines3.common.env_util import make_vec_env\n",
    "from stable_baselines3.common.env_checker import check_env"
   ]
  },
  {
   "cell_type": "code",
   "execution_count": 5,
   "metadata": {},
   "outputs": [],
   "source": [
    "check_env(env)"
   ]
  },
  {
   "cell_type": "code",
   "execution_count": 6,
   "metadata": {},
   "outputs": [],
   "source": [
    "venv = make_vec_env(lambda: PowerTradingEnv(df=my_dataframe, window_size=3, frame_bound=(10, 100)))"
   ]
  },
  {
   "cell_type": "markdown",
   "metadata": {},
   "source": [
    "### Need to Modify pre-processing function, otherwise self._observation_space produces mismatch produces broadcast error during learning"
   ]
  },
  {
   "cell_type": "code",
   "execution_count": 7,
   "metadata": {},
   "outputs": [
    {
     "data": {
      "application/vnd.jupyter.widget-view+json": {
       "model_id": "c02b12d4752d4325acfb22154fb108b7",
       "version_major": 2,
       "version_minor": 0
      },
      "text/plain": [
       "Output()"
      ]
     },
     "metadata": {},
     "output_type": "display_data"
    },
    {
     "data": {
      "text/html": [
       "<pre style=\"white-space:pre;overflow-x:auto;line-height:normal;font-family:Menlo,'DejaVu Sans Mono',consolas,'Courier New',monospace\"></pre>\n"
      ],
      "text/plain": []
     },
     "metadata": {},
     "output_type": "display_data"
    },
    {
     "data": {
      "text/html": [
       "<pre style=\"white-space:pre;overflow-x:auto;line-height:normal;font-family:Menlo,'DejaVu Sans Mono',consolas,'Courier New',monospace\">\n",
       "</pre>\n"
      ],
      "text/plain": [
       "\n"
      ]
     },
     "metadata": {},
     "output_type": "display_data"
    },
    {
     "data": {
      "text/plain": [
       "<stable_baselines3.dqn.dqn.DQN at 0x25dbbf0de50>"
      ]
     },
     "execution_count": 7,
     "metadata": {},
     "output_type": "execute_result"
    },
    {
     "name": "stderr",
     "output_type": "stream",
     "text": [
      "DEBUG:Comm:handle_msg[c02b12d4752d4325acfb22154fb108b7]({'header': {'date': datetime.datetime(2024, 4, 18, 2, 58, 59, 756000, tzinfo=tzutc()), 'msg_id': 'ab143f88-7010-422b-90a3-431433ce38a7', 'msg_type': 'comm_msg', 'session': '8079b571-7e49-4f21-9294-c5284bf6eb23', 'username': '264293a7-f70f-496f-9a7e-4703cf023644', 'version': '5.2'}, 'msg_id': 'ab143f88-7010-422b-90a3-431433ce38a7', 'msg_type': 'comm_msg', 'parent_header': {}, 'metadata': {}, 'content': {'comm_id': 'c02b12d4752d4325acfb22154fb108b7', 'data': {'method': 'update', 'state': {'outputs': [{'output_type': 'display_data', 'data': {'text/plain': '\\x1b[35m  86%\\x1b[0m \\x1b[38;2;249;38;114m━━━━━━━━━━━━━━━━━━━━━━━━━━━━━━━━━━━━━━━━━━━━━━━━━━\\x1b[0m\\x1b[38;2;249;38;114m╸\\x1b[0m\\x1b[38;5;237m━━━━━━━━\\x1b[0m \\x1b[32m8,569/10,000 \\x1b[0m [ \\x1b[33m0:00:00\\x1b[0m < \\x1b[36m0:00:01\\x1b[0m , \\x1b[31m10,616 it/s\\x1b[0m ]\\n', 'text/html': '<pre style=\"white-space:pre;overflow-x:auto;line-height:normal;font-family:Menlo,\\'DejaVu Sans Mono\\',consolas,\\'Courier New\\',monospace\"><span style=\"color: #800080; text-decoration-color: #800080\">  86%</span> <span style=\"color: #f92672; text-decoration-color: #f92672\">━━━━━━━━━━━━━━━━━━━━━━━━━━━━━━━━━━━━━━━━━━━━━━━━━━╸</span><span style=\"color: #3a3a3a; text-decoration-color: #3a3a3a\">━━━━━━━━</span> <span style=\"color: #008000; text-decoration-color: #008000\">8,569/10,000 </span> [ <span style=\"color: #808000; text-decoration-color: #808000\">0:00:00</span> &lt; <span style=\"color: #008080; text-decoration-color: #008080\">0:00:01</span> , <span style=\"color: #800000; text-decoration-color: #800000\">10,616 it/s</span> ]\\n</pre>\\n'}, 'metadata': {}}]}, 'buffer_paths': []}}, 'buffers': []})\n"
     ]
    }
   ],
   "source": [
    "model = DQN('MlpPolicy', venv)\n",
    "model.learn(total_timesteps=10000,\n",
    "            log_interval=10000,\n",
    "            progress_bar=True)"
   ]
  },
  {
   "cell_type": "code",
   "execution_count": 13,
   "metadata": {},
   "outputs": [],
   "source": [
    "from collections import deque\n",
    "\n",
    "x = deque(maxlen=5)\n",
    "x.append([1, 2, 3])"
   ]
  },
  {
   "cell_type": "code",
   "execution_count": 18,
   "metadata": {},
   "outputs": [
    {
     "data": {
      "text/plain": [
       "array([[3],\n",
       "       [2],\n",
       "       [1]])"
      ]
     },
     "execution_count": 18,
     "metadata": {},
     "output_type": "execute_result"
    }
   ],
   "source": [
    "np.flip(np.array(x).reshape(-1, 1))"
   ]
  }
 ],
 "metadata": {
  "kernelspec": {
   "display_name": "rl",
   "language": "python",
   "name": "python3"
  },
  "language_info": {
   "codemirror_mode": {
    "name": "ipython",
    "version": 3
   },
   "file_extension": ".py",
   "mimetype": "text/x-python",
   "name": "python",
   "nbconvert_exporter": "python",
   "pygments_lexer": "ipython3",
   "version": "3.9.18"
  }
 },
 "nbformat": 4,
 "nbformat_minor": 2
}
